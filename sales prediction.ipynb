{
 "cells": [
  {
   "cell_type": "code",
   "execution_count": 149,
   "metadata": {},
   "outputs": [],
   "source": [
    "import numpy as np\n",
    "import pandas as pd\n",
    "import matplotlib.pyplot as plt\n",
    "import seaborn as sns\n",
    "from sklearn.preprocessing import LabelEncoder\n",
    "from sklearn.model_selection import train_test_split\n",
    "from sklearn.linear_model import LinearRegression\n",
    "from sklearn import metrics"
   ]
  },
  {
   "cell_type": "code",
   "execution_count": 150,
   "metadata": {},
   "outputs": [],
   "source": [
    "train = pd.read_csv('Train.csv')\n",
    "test = pd.read_csv('Test.csv')"
   ]
  },
  {
   "cell_type": "code",
   "execution_count": 151,
   "metadata": {},
   "outputs": [],
   "source": [
    "train['source']='train'\n",
    "test['source']='test'\n",
    "data = pd.concat([train,test],ignore_index=True)"
   ]
  },
  {
   "cell_type": "code",
   "execution_count": 152,
   "metadata": {},
   "outputs": [
    {
     "name": "stdout",
     "output_type": "stream",
     "text": [
      "<class 'pandas.core.frame.DataFrame'>\n",
      "RangeIndex: 14204 entries, 0 to 14203\n",
      "Data columns (total 13 columns):\n",
      " #   Column                     Non-Null Count  Dtype  \n",
      "---  ------                     --------------  -----  \n",
      " 0   Item_Identifier            14204 non-null  object \n",
      " 1   Item_Weight                11765 non-null  float64\n",
      " 2   Item_Fat_Content           14204 non-null  object \n",
      " 3   Item_Visibility            14204 non-null  float64\n",
      " 4   Item_Type                  14204 non-null  object \n",
      " 5   Item_MRP                   14204 non-null  float64\n",
      " 6   Outlet_Identifier          14204 non-null  object \n",
      " 7   Outlet_Establishment_Year  14204 non-null  int64  \n",
      " 8   Outlet_Size                10188 non-null  object \n",
      " 9   Outlet_Location_Type       14204 non-null  object \n",
      " 10  Outlet_Type                14204 non-null  object \n",
      " 11  Item_Outlet_Sales          8523 non-null   float64\n",
      " 12  source                     14204 non-null  object \n",
      "dtypes: float64(4), int64(1), object(8)\n",
      "memory usage: 998.8+ KB\n"
     ]
    }
   ],
   "source": [
    "data.info()"
   ]
  },
  {
   "cell_type": "code",
   "execution_count": 153,
   "metadata": {},
   "outputs": [
    {
     "data": {
      "text/plain": [
       "Item_Identifier                 0\n",
       "Item_Weight                  2439\n",
       "Item_Fat_Content                0\n",
       "Item_Visibility                 0\n",
       "Item_Type                       0\n",
       "Item_MRP                        0\n",
       "Outlet_Identifier               0\n",
       "Outlet_Establishment_Year       0\n",
       "Outlet_Size                  4016\n",
       "Outlet_Location_Type            0\n",
       "Outlet_Type                     0\n",
       "Item_Outlet_Sales            5681\n",
       "source                          0\n",
       "dtype: int64"
      ]
     },
     "execution_count": 153,
     "metadata": {},
     "output_type": "execute_result"
    }
   ],
   "source": [
    "data.isnull().sum()"
   ]
  },
  {
   "cell_type": "code",
   "execution_count": 154,
   "metadata": {},
   "outputs": [
    {
     "data": {
      "text/plain": [
       "Item_Identifier\n",
       "DRA12    11.600\n",
       "DRA24    19.350\n",
       "DRA59     8.270\n",
       "DRB01     7.390\n",
       "DRB13     6.115\n",
       "          ...  \n",
       "NCZ30     6.590\n",
       "NCZ41    19.850\n",
       "NCZ42    10.500\n",
       "NCZ53     9.600\n",
       "NCZ54    14.650\n",
       "Name: Item_Weight, Length: 1559, dtype: float64"
      ]
     },
     "execution_count": 154,
     "metadata": {},
     "output_type": "execute_result"
    }
   ],
   "source": [
    "data.groupby('Item_Identifier')['Item_Weight'].mean()"
   ]
  },
  {
   "cell_type": "code",
   "execution_count": 155,
   "metadata": {},
   "outputs": [],
   "source": [
    "data.Item_Weight=data.Item_Weight.fillna(mean)"
   ]
  },
  {
   "cell_type": "code",
   "execution_count": 156,
   "metadata": {},
   "outputs": [
    {
     "data": {
      "text/html": [
       "<div>\n",
       "<style scoped>\n",
       "    .dataframe tbody tr th:only-of-type {\n",
       "        vertical-align: middle;\n",
       "    }\n",
       "\n",
       "    .dataframe tbody tr th {\n",
       "        vertical-align: top;\n",
       "    }\n",
       "\n",
       "    .dataframe thead th {\n",
       "        text-align: right;\n",
       "    }\n",
       "</style>\n",
       "<table border=\"1\" class=\"dataframe\">\n",
       "  <thead>\n",
       "    <tr style=\"text-align: right;\">\n",
       "      <th></th>\n",
       "      <th>Item_Identifier</th>\n",
       "      <th>Item_Weight</th>\n",
       "      <th>Item_Fat_Content</th>\n",
       "      <th>Item_Visibility</th>\n",
       "      <th>Item_Type</th>\n",
       "      <th>Item_MRP</th>\n",
       "      <th>Outlet_Identifier</th>\n",
       "      <th>Outlet_Establishment_Year</th>\n",
       "      <th>Outlet_Size</th>\n",
       "      <th>Outlet_Location_Type</th>\n",
       "      <th>Outlet_Type</th>\n",
       "      <th>Item_Outlet_Sales</th>\n",
       "      <th>source</th>\n",
       "    </tr>\n",
       "  </thead>\n",
       "  <tbody>\n",
       "    <tr>\n",
       "      <th>7</th>\n",
       "      <td>FDP10</td>\n",
       "      <td>12.857645</td>\n",
       "      <td>Low Fat</td>\n",
       "      <td>0.127470</td>\n",
       "      <td>Snack Foods</td>\n",
       "      <td>107.7622</td>\n",
       "      <td>OUT027</td>\n",
       "      <td>1985</td>\n",
       "      <td>Medium</td>\n",
       "      <td>Tier 3</td>\n",
       "      <td>Supermarket Type3</td>\n",
       "      <td>4022.7636</td>\n",
       "      <td>train</td>\n",
       "    </tr>\n",
       "    <tr>\n",
       "      <th>585</th>\n",
       "      <td>FDP10</td>\n",
       "      <td>19.000000</td>\n",
       "      <td>Low Fat</td>\n",
       "      <td>0.128066</td>\n",
       "      <td>Snack Foods</td>\n",
       "      <td>104.3622</td>\n",
       "      <td>OUT035</td>\n",
       "      <td>2004</td>\n",
       "      <td>Small</td>\n",
       "      <td>Tier 2</td>\n",
       "      <td>Supermarket Type1</td>\n",
       "      <td>1905.5196</td>\n",
       "      <td>train</td>\n",
       "    </tr>\n",
       "    <tr>\n",
       "      <th>2623</th>\n",
       "      <td>FDP10</td>\n",
       "      <td>19.000000</td>\n",
       "      <td>Low Fat</td>\n",
       "      <td>0.128815</td>\n",
       "      <td>Snack Foods</td>\n",
       "      <td>107.6622</td>\n",
       "      <td>OUT017</td>\n",
       "      <td>2007</td>\n",
       "      <td>NaN</td>\n",
       "      <td>Tier 2</td>\n",
       "      <td>Supermarket Type1</td>\n",
       "      <td>1164.4842</td>\n",
       "      <td>train</td>\n",
       "    </tr>\n",
       "    <tr>\n",
       "      <th>3382</th>\n",
       "      <td>FDP10</td>\n",
       "      <td>19.000000</td>\n",
       "      <td>Low Fat</td>\n",
       "      <td>0.128289</td>\n",
       "      <td>Snack Foods</td>\n",
       "      <td>104.9622</td>\n",
       "      <td>OUT049</td>\n",
       "      <td>1999</td>\n",
       "      <td>Medium</td>\n",
       "      <td>Tier 1</td>\n",
       "      <td>Supermarket Type1</td>\n",
       "      <td>1164.4842</td>\n",
       "      <td>train</td>\n",
       "    </tr>\n",
       "    <tr>\n",
       "      <th>4585</th>\n",
       "      <td>FDP10</td>\n",
       "      <td>19.000000</td>\n",
       "      <td>Low Fat</td>\n",
       "      <td>0.128090</td>\n",
       "      <td>Snack Foods</td>\n",
       "      <td>107.0622</td>\n",
       "      <td>OUT046</td>\n",
       "      <td>1997</td>\n",
       "      <td>Small</td>\n",
       "      <td>Tier 1</td>\n",
       "      <td>Supermarket Type1</td>\n",
       "      <td>1376.2086</td>\n",
       "      <td>train</td>\n",
       "    </tr>\n",
       "    <tr>\n",
       "      <th>6087</th>\n",
       "      <td>FDP10</td>\n",
       "      <td>19.000000</td>\n",
       "      <td>Low Fat</td>\n",
       "      <td>0.128350</td>\n",
       "      <td>Snack Foods</td>\n",
       "      <td>106.5622</td>\n",
       "      <td>OUT045</td>\n",
       "      <td>2002</td>\n",
       "      <td>NaN</td>\n",
       "      <td>Tier 2</td>\n",
       "      <td>Supermarket Type1</td>\n",
       "      <td>1482.0708</td>\n",
       "      <td>train</td>\n",
       "    </tr>\n",
       "    <tr>\n",
       "      <th>7883</th>\n",
       "      <td>FDP10</td>\n",
       "      <td>19.000000</td>\n",
       "      <td>Low Fat</td>\n",
       "      <td>0.127984</td>\n",
       "      <td>Snack Foods</td>\n",
       "      <td>107.6622</td>\n",
       "      <td>OUT013</td>\n",
       "      <td>1987</td>\n",
       "      <td>High</td>\n",
       "      <td>Tier 3</td>\n",
       "      <td>Supermarket Type1</td>\n",
       "      <td>1270.3464</td>\n",
       "      <td>train</td>\n",
       "    </tr>\n",
       "    <tr>\n",
       "      <th>11896</th>\n",
       "      <td>FDP10</td>\n",
       "      <td>19.000000</td>\n",
       "      <td>Low Fat</td>\n",
       "      <td>0.128612</td>\n",
       "      <td>Snack Foods</td>\n",
       "      <td>104.1622</td>\n",
       "      <td>OUT018</td>\n",
       "      <td>2009</td>\n",
       "      <td>Medium</td>\n",
       "      <td>Tier 3</td>\n",
       "      <td>Supermarket Type2</td>\n",
       "      <td>NaN</td>\n",
       "      <td>test</td>\n",
       "    </tr>\n",
       "    <tr>\n",
       "      <th>12371</th>\n",
       "      <td>FDP10</td>\n",
       "      <td>19.000000</td>\n",
       "      <td>Low Fat</td>\n",
       "      <td>0.214397</td>\n",
       "      <td>Snack Foods</td>\n",
       "      <td>105.8622</td>\n",
       "      <td>OUT010</td>\n",
       "      <td>1998</td>\n",
       "      <td>NaN</td>\n",
       "      <td>Tier 3</td>\n",
       "      <td>Grocery Store</td>\n",
       "      <td>NaN</td>\n",
       "      <td>test</td>\n",
       "    </tr>\n",
       "    <tr>\n",
       "      <th>13327</th>\n",
       "      <td>FDP10</td>\n",
       "      <td>12.857645</td>\n",
       "      <td>Low Fat</td>\n",
       "      <td>0.224269</td>\n",
       "      <td>Snack Foods</td>\n",
       "      <td>104.4622</td>\n",
       "      <td>OUT019</td>\n",
       "      <td>1985</td>\n",
       "      <td>Small</td>\n",
       "      <td>Tier 1</td>\n",
       "      <td>Grocery Store</td>\n",
       "      <td>NaN</td>\n",
       "      <td>test</td>\n",
       "    </tr>\n",
       "  </tbody>\n",
       "</table>\n",
       "</div>"
      ],
      "text/plain": [
       "      Item_Identifier  Item_Weight Item_Fat_Content  Item_Visibility  \\\n",
       "7               FDP10    12.857645          Low Fat         0.127470   \n",
       "585             FDP10    19.000000          Low Fat         0.128066   \n",
       "2623            FDP10    19.000000          Low Fat         0.128815   \n",
       "3382            FDP10    19.000000          Low Fat         0.128289   \n",
       "4585            FDP10    19.000000          Low Fat         0.128090   \n",
       "6087            FDP10    19.000000          Low Fat         0.128350   \n",
       "7883            FDP10    19.000000          Low Fat         0.127984   \n",
       "11896           FDP10    19.000000          Low Fat         0.128612   \n",
       "12371           FDP10    19.000000          Low Fat         0.214397   \n",
       "13327           FDP10    12.857645          Low Fat         0.224269   \n",
       "\n",
       "         Item_Type  Item_MRP Outlet_Identifier  Outlet_Establishment_Year  \\\n",
       "7      Snack Foods  107.7622            OUT027                       1985   \n",
       "585    Snack Foods  104.3622            OUT035                       2004   \n",
       "2623   Snack Foods  107.6622            OUT017                       2007   \n",
       "3382   Snack Foods  104.9622            OUT049                       1999   \n",
       "4585   Snack Foods  107.0622            OUT046                       1997   \n",
       "6087   Snack Foods  106.5622            OUT045                       2002   \n",
       "7883   Snack Foods  107.6622            OUT013                       1987   \n",
       "11896  Snack Foods  104.1622            OUT018                       2009   \n",
       "12371  Snack Foods  105.8622            OUT010                       1998   \n",
       "13327  Snack Foods  104.4622            OUT019                       1985   \n",
       "\n",
       "      Outlet_Size Outlet_Location_Type        Outlet_Type  Item_Outlet_Sales  \\\n",
       "7          Medium               Tier 3  Supermarket Type3          4022.7636   \n",
       "585         Small               Tier 2  Supermarket Type1          1905.5196   \n",
       "2623          NaN               Tier 2  Supermarket Type1          1164.4842   \n",
       "3382       Medium               Tier 1  Supermarket Type1          1164.4842   \n",
       "4585        Small               Tier 1  Supermarket Type1          1376.2086   \n",
       "6087          NaN               Tier 2  Supermarket Type1          1482.0708   \n",
       "7883         High               Tier 3  Supermarket Type1          1270.3464   \n",
       "11896      Medium               Tier 3  Supermarket Type2                NaN   \n",
       "12371         NaN               Tier 3      Grocery Store                NaN   \n",
       "13327       Small               Tier 1      Grocery Store                NaN   \n",
       "\n",
       "      source  \n",
       "7      train  \n",
       "585    train  \n",
       "2623   train  \n",
       "3382   train  \n",
       "4585   train  \n",
       "6087   train  \n",
       "7883   train  \n",
       "11896   test  \n",
       "12371   test  \n",
       "13327   test  "
      ]
     },
     "execution_count": 156,
     "metadata": {},
     "output_type": "execute_result"
    }
   ],
   "source": [
    "data[data.Item_Identifier=='FDP10']"
   ]
  },
  {
   "cell_type": "code",
   "execution_count": 157,
   "metadata": {},
   "outputs": [
    {
     "data": {
      "text/plain": [
       "Item_Identifier                 0\n",
       "Item_Weight                     0\n",
       "Item_Fat_Content                0\n",
       "Item_Visibility                 0\n",
       "Item_Type                       0\n",
       "Item_MRP                        0\n",
       "Outlet_Identifier               0\n",
       "Outlet_Establishment_Year       0\n",
       "Outlet_Size                  4016\n",
       "Outlet_Location_Type            0\n",
       "Outlet_Type                     0\n",
       "Item_Outlet_Sales            5681\n",
       "source                          0\n",
       "dtype: int64"
      ]
     },
     "execution_count": 157,
     "metadata": {},
     "output_type": "execute_result"
    }
   ],
   "source": [
    "data.isnull().sum()"
   ]
  },
  {
   "cell_type": "code",
   "execution_count": 158,
   "metadata": {},
   "outputs": [
    {
     "data": {
      "text/plain": [
       "Food              10201\n",
       "Non-Consumable     2686\n",
       "Drinks             1317\n",
       "Name: Item_Type_Combined, dtype: int64"
      ]
     },
     "execution_count": 158,
     "metadata": {},
     "output_type": "execute_result"
    }
   ],
   "source": [
    "data['Item_Type_Combined'] = data['Item_Identifier'].apply(lambda x: x[0:2])\n",
    "data['Item_Type_Combined'] = data['Item_Type_Combined'].map({'FD':'Food',\n",
    "                                                             'NC':'Non-Consumable',\n",
    "                                                             'DR':'Drinks'})\n",
    "data['Item_Type_Combined'].value_counts()"
   ]
  },
  {
   "cell_type": "code",
   "execution_count": 159,
   "metadata": {},
   "outputs": [
    {
     "data": {
      "text/plain": [
       "0    Medium\n",
       "dtype: object"
      ]
     },
     "execution_count": 159,
     "metadata": {},
     "output_type": "execute_result"
    }
   ],
   "source": [
    "data.Outlet_Size.mode()"
   ]
  },
  {
   "cell_type": "code",
   "execution_count": 160,
   "metadata": {},
   "outputs": [],
   "source": [
    "mode_of_Outlet_size = data.pivot_table(values='Outlet_Size', columns='Outlet_Type', aggfunc=(lambda x: x.mode()[0]))"
   ]
  },
  {
   "cell_type": "code",
   "execution_count": 161,
   "metadata": {},
   "outputs": [
    {
     "data": {
      "text/html": [
       "<div>\n",
       "<style scoped>\n",
       "    .dataframe tbody tr th:only-of-type {\n",
       "        vertical-align: middle;\n",
       "    }\n",
       "\n",
       "    .dataframe tbody tr th {\n",
       "        vertical-align: top;\n",
       "    }\n",
       "\n",
       "    .dataframe thead th {\n",
       "        text-align: right;\n",
       "    }\n",
       "</style>\n",
       "<table border=\"1\" class=\"dataframe\">\n",
       "  <thead>\n",
       "    <tr style=\"text-align: right;\">\n",
       "      <th>Outlet_Type</th>\n",
       "      <th>Grocery Store</th>\n",
       "      <th>Supermarket Type1</th>\n",
       "      <th>Supermarket Type2</th>\n",
       "      <th>Supermarket Type3</th>\n",
       "    </tr>\n",
       "  </thead>\n",
       "  <tbody>\n",
       "    <tr>\n",
       "      <th>Outlet_Size</th>\n",
       "      <td>Small</td>\n",
       "      <td>Small</td>\n",
       "      <td>Medium</td>\n",
       "      <td>Medium</td>\n",
       "    </tr>\n",
       "  </tbody>\n",
       "</table>\n",
       "</div>"
      ],
      "text/plain": [
       "Outlet_Type Grocery Store Supermarket Type1 Supermarket Type2  \\\n",
       "Outlet_Size         Small             Small            Medium   \n",
       "\n",
       "Outlet_Type Supermarket Type3  \n",
       "Outlet_Size            Medium  "
      ]
     },
     "execution_count": 161,
     "metadata": {},
     "output_type": "execute_result"
    }
   ],
   "source": [
    "mode_of_Outlet_size"
   ]
  },
  {
   "cell_type": "code",
   "execution_count": 162,
   "metadata": {},
   "outputs": [],
   "source": [
    "miss_values = data['Outlet_Size'].isnull()   "
   ]
  },
  {
   "cell_type": "code",
   "execution_count": 163,
   "metadata": {},
   "outputs": [
    {
     "data": {
      "text/plain": [
       "0        False\n",
       "1        False\n",
       "2        False\n",
       "3         True\n",
       "4        False\n",
       "         ...  \n",
       "14199    False\n",
       "14200    False\n",
       "14201     True\n",
       "14202     True\n",
       "14203     True\n",
       "Name: Outlet_Size, Length: 14204, dtype: bool"
      ]
     },
     "execution_count": 163,
     "metadata": {},
     "output_type": "execute_result"
    }
   ],
   "source": [
    "miss_values"
   ]
  },
  {
   "cell_type": "code",
   "execution_count": 164,
   "metadata": {},
   "outputs": [],
   "source": [
    "data.loc[miss_values, 'Outlet_Size'] = data.loc[miss_values,'Outlet_Type'].apply(lambda x: mode_of_Outlet_size[x])"
   ]
  },
  {
   "cell_type": "code",
   "execution_count": 165,
   "metadata": {},
   "outputs": [
    {
     "data": {
      "text/plain": [
       "Item_Identifier                 0\n",
       "Item_Weight                     0\n",
       "Item_Fat_Content                0\n",
       "Item_Visibility                 0\n",
       "Item_Type                       0\n",
       "Item_MRP                        0\n",
       "Outlet_Identifier               0\n",
       "Outlet_Establishment_Year       0\n",
       "Outlet_Size                     0\n",
       "Outlet_Location_Type            0\n",
       "Outlet_Type                     0\n",
       "Item_Outlet_Sales            5681\n",
       "source                          0\n",
       "Item_Type_Combined              0\n",
       "dtype: int64"
      ]
     },
     "execution_count": 165,
     "metadata": {},
     "output_type": "execute_result"
    }
   ],
   "source": [
    "data.isnull().sum()"
   ]
  },
  {
   "cell_type": "code",
   "execution_count": 166,
   "metadata": {},
   "outputs": [
    {
     "data": {
      "text/plain": [
       "0        Medium\n",
       "1        Medium\n",
       "2        Medium\n",
       "3         Small\n",
       "4          High\n",
       "          ...  \n",
       "14199     Small\n",
       "14200    Medium\n",
       "14201     Small\n",
       "14202     Small\n",
       "14203     Small\n",
       "Name: Outlet_Size, Length: 14204, dtype: object"
      ]
     },
     "execution_count": 166,
     "metadata": {},
     "output_type": "execute_result"
    }
   ],
   "source": [
    "data.Outlet_Size"
   ]
  },
  {
   "cell_type": "code",
   "execution_count": 167,
   "metadata": {},
   "outputs": [
    {
     "data": {
      "text/html": [
       "<div>\n",
       "<style scoped>\n",
       "    .dataframe tbody tr th:only-of-type {\n",
       "        vertical-align: middle;\n",
       "    }\n",
       "\n",
       "    .dataframe tbody tr th {\n",
       "        vertical-align: top;\n",
       "    }\n",
       "\n",
       "    .dataframe thead th {\n",
       "        text-align: right;\n",
       "    }\n",
       "</style>\n",
       "<table border=\"1\" class=\"dataframe\">\n",
       "  <thead>\n",
       "    <tr style=\"text-align: right;\">\n",
       "      <th></th>\n",
       "      <th>Item_Weight</th>\n",
       "      <th>Item_Visibility</th>\n",
       "      <th>Item_MRP</th>\n",
       "      <th>Outlet_Establishment_Year</th>\n",
       "      <th>Item_Outlet_Sales</th>\n",
       "    </tr>\n",
       "  </thead>\n",
       "  <tbody>\n",
       "    <tr>\n",
       "      <th>count</th>\n",
       "      <td>14204.000000</td>\n",
       "      <td>14204.000000</td>\n",
       "      <td>14204.000000</td>\n",
       "      <td>14204.000000</td>\n",
       "      <td>8523.000000</td>\n",
       "    </tr>\n",
       "    <tr>\n",
       "      <th>mean</th>\n",
       "      <td>12.803980</td>\n",
       "      <td>0.065953</td>\n",
       "      <td>141.004977</td>\n",
       "      <td>1997.830681</td>\n",
       "      <td>2181.288914</td>\n",
       "    </tr>\n",
       "    <tr>\n",
       "      <th>std</th>\n",
       "      <td>4.234297</td>\n",
       "      <td>0.051459</td>\n",
       "      <td>62.086938</td>\n",
       "      <td>8.371664</td>\n",
       "      <td>1706.499616</td>\n",
       "    </tr>\n",
       "    <tr>\n",
       "      <th>min</th>\n",
       "      <td>4.555000</td>\n",
       "      <td>0.000000</td>\n",
       "      <td>31.290000</td>\n",
       "      <td>1985.000000</td>\n",
       "      <td>33.290000</td>\n",
       "    </tr>\n",
       "    <tr>\n",
       "      <th>25%</th>\n",
       "      <td>9.300000</td>\n",
       "      <td>0.027036</td>\n",
       "      <td>94.012000</td>\n",
       "      <td>1987.000000</td>\n",
       "      <td>834.247400</td>\n",
       "    </tr>\n",
       "    <tr>\n",
       "      <th>50%</th>\n",
       "      <td>12.857645</td>\n",
       "      <td>0.054021</td>\n",
       "      <td>142.247000</td>\n",
       "      <td>1999.000000</td>\n",
       "      <td>1794.331000</td>\n",
       "    </tr>\n",
       "    <tr>\n",
       "      <th>75%</th>\n",
       "      <td>16.000000</td>\n",
       "      <td>0.094037</td>\n",
       "      <td>185.855600</td>\n",
       "      <td>2004.000000</td>\n",
       "      <td>3101.296400</td>\n",
       "    </tr>\n",
       "    <tr>\n",
       "      <th>max</th>\n",
       "      <td>21.350000</td>\n",
       "      <td>0.328391</td>\n",
       "      <td>266.888400</td>\n",
       "      <td>2009.000000</td>\n",
       "      <td>13086.964800</td>\n",
       "    </tr>\n",
       "  </tbody>\n",
       "</table>\n",
       "</div>"
      ],
      "text/plain": [
       "        Item_Weight  Item_Visibility      Item_MRP  Outlet_Establishment_Year  \\\n",
       "count  14204.000000     14204.000000  14204.000000               14204.000000   \n",
       "mean      12.803980         0.065953    141.004977                1997.830681   \n",
       "std        4.234297         0.051459     62.086938                   8.371664   \n",
       "min        4.555000         0.000000     31.290000                1985.000000   \n",
       "25%        9.300000         0.027036     94.012000                1987.000000   \n",
       "50%       12.857645         0.054021    142.247000                1999.000000   \n",
       "75%       16.000000         0.094037    185.855600                2004.000000   \n",
       "max       21.350000         0.328391    266.888400                2009.000000   \n",
       "\n",
       "       Item_Outlet_Sales  \n",
       "count        8523.000000  \n",
       "mean         2181.288914  \n",
       "std          1706.499616  \n",
       "min            33.290000  \n",
       "25%           834.247400  \n",
       "50%          1794.331000  \n",
       "75%          3101.296400  \n",
       "max         13086.964800  "
      ]
     },
     "execution_count": 167,
     "metadata": {},
     "output_type": "execute_result"
    }
   ],
   "source": [
    "data.describe()"
   ]
  },
  {
   "cell_type": "code",
   "execution_count": 168,
   "metadata": {},
   "outputs": [],
   "source": [
    "sns.set()"
   ]
  },
  {
   "cell_type": "code",
   "execution_count": 169,
   "metadata": {},
   "outputs": [
    {
     "name": "stderr",
     "output_type": "stream",
     "text": [
      "C:\\Users\\mini9\\Anaconda\\lib\\site-packages\\seaborn\\distributions.py:2551: FutureWarning: `distplot` is a deprecated function and will be removed in a future version. Please adapt your code to use either `displot` (a figure-level function with similar flexibility) or `histplot` (an axes-level function for histograms).\n",
      "  warnings.warn(msg, FutureWarning)\n"
     ]
    },
    {
     "data": {
      "image/png": "[encoded data removed]",
      "text/plain": [
       "<Figure size 432x432 with 1 Axes>"
      ]
     },
     "metadata": {},
     "output_type": "display_data"
    }
   ],
   "source": [
    "plt.figure(figsize=(6,6))\n",
    "sns.distplot(data.Item_Weight)\n",
    "plt.show()"
   ]
  },
  {
   "cell_type": "code",
   "execution_count": 170,
   "metadata": {},
   "outputs": [
    {
     "name": "stderr",
     "output_type": "stream",
     "text": [
      "C:\\Users\\mini9\\Anaconda\\lib\\site-packages\\seaborn\\distributions.py:2551: FutureWarning: `distplot` is a deprecated function and will be removed in a future version. Please adapt your code to use either `displot` (a figure-level function with similar flexibility) or `histplot` (an axes-level function for histograms).\n",
      "  warnings.warn(msg, FutureWarning)\n"
     ]
    },
    {
     "data": {
      "image/png": "[encoded data removed]",
      "text/plain": [
       "<Figure size 432x432 with 1 Axes>"
      ]
     },
     "metadata": {},
     "output_type": "display_data"
    }
   ],
   "source": [
    "plt.figure(figsize=(6,6))\n",
    "sns.distplot(data.Item_Visibility)\n",
    "plt.show()"
   ]
  },
  {
   "cell_type": "code",
   "execution_count": 171,
   "metadata": {},
   "outputs": [
    {
     "name": "stderr",
     "output_type": "stream",
     "text": [
      "C:\\Users\\mini9\\Anaconda\\lib\\site-packages\\seaborn\\distributions.py:2551: FutureWarning: `distplot` is a deprecated function and will be removed in a future version. Please adapt your code to use either `displot` (a figure-level function with similar flexibility) or `histplot` (an axes-level function for histograms).\n",
      "  warnings.warn(msg, FutureWarning)\n"
     ]
    },
    {
     "data": {
      "image/png": "[encoded data removed]",
      "text/plain": [
       "<Figure size 432x432 with 1 Axes>"
      ]
     },
     "metadata": {},
     "output_type": "display_data"
    }
   ],
   "source": [
    "plt.figure(figsize=(6,6))\n",
    "sns.distplot(data.Item_MRP)\n",
    "plt.show()"
   ]
  },
  {
   "cell_type": "code",
   "execution_count": 172,
   "metadata": {},
   "outputs": [
    {
     "name": "stderr",
     "output_type": "stream",
     "text": [
      "C:\\Users\\mini9\\Anaconda\\lib\\site-packages\\seaborn\\distributions.py:2551: FutureWarning: `distplot` is a deprecated function and will be removed in a future version. Please adapt your code to use either `displot` (a figure-level function with similar flexibility) or `histplot` (an axes-level function for histograms).\n",
      "  warnings.warn(msg, FutureWarning)\n"
     ]
    },
    {
     "data": {
      "image/png": "[encoded data removed]",
      "text/plain": [
       "<Figure size 432x432 with 1 Axes>"
      ]
     },
     "metadata": {},
     "output_type": "display_data"
    }
   ],
   "source": [
    "plt.figure(figsize=(6,6))\n",
    "sns.distplot(data.Item_Outlet_Sales)\n",
    "plt.show()"
   ]
  },
  {
   "cell_type": "code",
   "execution_count": 173,
   "metadata": {},
   "outputs": [
    {
     "data": {
      "image/png": "[encoded data removed]",
      "text/plain": [
       "<Figure size 432x432 with 1 Axes>"
      ]
     },
     "metadata": {},
     "output_type": "display_data"
    }
   ],
   "source": [
    "plt.figure(figsize=(6,6))\n",
    "sns.countplot(x=data.Outlet_Establishment_Year)\n",
    "plt.show()"
   ]
  },
  {
   "cell_type": "code",
   "execution_count": 174,
   "metadata": {},
   "outputs": [
    {
     "data": {
      "text/plain": [
       "count    14204.000000\n",
       "mean        23.169319\n",
       "std          8.371664\n",
       "min         12.000000\n",
       "25%         17.000000\n",
       "50%         22.000000\n",
       "75%         34.000000\n",
       "max         36.000000\n",
       "Name: Outlet_Years, dtype: float64"
      ]
     },
     "execution_count": 174,
     "metadata": {},
     "output_type": "execute_result"
    }
   ],
   "source": [
    "data['Outlet_Years'] = 2021 - data['Outlet_Establishment_Year']\n",
    "data['Outlet_Years'].describe()"
   ]
  },
  {
   "cell_type": "code",
   "execution_count": 175,
   "metadata": {},
   "outputs": [
    {
     "data": {
      "image/png": "[encoded data removed]",
      "text/plain": [
       "<Figure size 432x432 with 1 Axes>"
      ]
     },
     "metadata": {},
     "output_type": "display_data"
    }
   ],
   "source": [
    "plt.figure(figsize=(6,6))\n",
    "sns.countplot(x=data.Outlet_Years)\n",
    "plt.show()"
   ]
  },
  {
   "cell_type": "code",
   "execution_count": 176,
   "metadata": {},
   "outputs": [
    {
     "data": {
      "image/png": "[encoded data removed]",
      "text/plain": [
       "<Figure size 432x432 with 1 Axes>"
      ]
     },
     "metadata": {},
     "output_type": "display_data"
    }
   ],
   "source": [
    "plt.figure(figsize=(6,6))\n",
    "sns.countplot(x=data.Item_Fat_Content)\n",
    "plt.show()"
   ]
  },
  {
   "cell_type": "code",
   "execution_count": 177,
   "metadata": {},
   "outputs": [],
   "source": [
    "data['Item_Fat_Content'] = data['Item_Fat_Content'].replace({'LF':'Low Fat',\n",
    "                                                             'reg':'Regular',\n",
    "                                                             'low fat':'Low Fat'})"
   ]
  },
  {
   "cell_type": "code",
   "execution_count": 178,
   "metadata": {},
   "outputs": [
    {
     "data": {
      "image/png": "[encoded data removed]",
      "text/plain": [
       "<Figure size 432x432 with 1 Axes>"
      ]
     },
     "metadata": {},
     "output_type": "display_data"
    }
   ],
   "source": [
    "plt.figure(figsize=(6,6))\n",
    "sns.countplot(x=data.Item_Fat_Content)\n",
    "plt.show()"
   ]
  },
  {
   "cell_type": "code",
   "execution_count": 179,
   "metadata": {},
   "outputs": [
    {
     "data": {
      "image/png": "[encoded data removed]",
      "text/plain": [
       "<Figure size 2160x432 with 1 Axes>"
      ]
     },
     "metadata": {},
     "output_type": "display_data"
    }
   ],
   "source": [
    "plt.figure(figsize=(30,6))\n",
    "sns.countplot(x=data.Item_Type)\n",
    "plt.show()"
   ]
  },
  {
   "cell_type": "code",
   "execution_count": 180,
   "metadata": {},
   "outputs": [
    {
     "data": {
      "text/html": [
       "<div>\n",
       "<style scoped>\n",
       "    .dataframe tbody tr th:only-of-type {\n",
       "        vertical-align: middle;\n",
       "    }\n",
       "\n",
       "    .dataframe tbody tr th {\n",
       "        vertical-align: top;\n",
       "    }\n",
       "\n",
       "    .dataframe thead th {\n",
       "        text-align: right;\n",
       "    }\n",
       "</style>\n",
       "<table border=\"1\" class=\"dataframe\">\n",
       "  <thead>\n",
       "    <tr style=\"text-align: right;\">\n",
       "      <th></th>\n",
       "      <th>Item_Identifier</th>\n",
       "      <th>Item_Weight</th>\n",
       "      <th>Item_Fat_Content</th>\n",
       "      <th>Item_Visibility</th>\n",
       "      <th>Item_Type</th>\n",
       "      <th>Item_MRP</th>\n",
       "      <th>Outlet_Identifier</th>\n",
       "      <th>Outlet_Establishment_Year</th>\n",
       "      <th>Outlet_Size</th>\n",
       "      <th>Outlet_Location_Type</th>\n",
       "      <th>Outlet_Type</th>\n",
       "      <th>Item_Outlet_Sales</th>\n",
       "      <th>source</th>\n",
       "      <th>Item_Type_Combined</th>\n",
       "      <th>Outlet_Years</th>\n",
       "    </tr>\n",
       "  </thead>\n",
       "  <tbody>\n",
       "    <tr>\n",
       "      <th>0</th>\n",
       "      <td>FDA15</td>\n",
       "      <td>9.30</td>\n",
       "      <td>Low Fat</td>\n",
       "      <td>0.016047</td>\n",
       "      <td>Dairy</td>\n",
       "      <td>249.8092</td>\n",
       "      <td>OUT049</td>\n",
       "      <td>1999</td>\n",
       "      <td>Medium</td>\n",
       "      <td>Tier 1</td>\n",
       "      <td>Supermarket Type1</td>\n",
       "      <td>3735.1380</td>\n",
       "      <td>train</td>\n",
       "      <td>Food</td>\n",
       "      <td>22</td>\n",
       "    </tr>\n",
       "    <tr>\n",
       "      <th>1</th>\n",
       "      <td>DRC01</td>\n",
       "      <td>5.92</td>\n",
       "      <td>Regular</td>\n",
       "      <td>0.019278</td>\n",
       "      <td>Soft Drinks</td>\n",
       "      <td>48.2692</td>\n",
       "      <td>OUT018</td>\n",
       "      <td>2009</td>\n",
       "      <td>Medium</td>\n",
       "      <td>Tier 3</td>\n",
       "      <td>Supermarket Type2</td>\n",
       "      <td>443.4228</td>\n",
       "      <td>train</td>\n",
       "      <td>Drinks</td>\n",
       "      <td>12</td>\n",
       "    </tr>\n",
       "    <tr>\n",
       "      <th>2</th>\n",
       "      <td>FDN15</td>\n",
       "      <td>17.50</td>\n",
       "      <td>Low Fat</td>\n",
       "      <td>0.016760</td>\n",
       "      <td>Meat</td>\n",
       "      <td>141.6180</td>\n",
       "      <td>OUT049</td>\n",
       "      <td>1999</td>\n",
       "      <td>Medium</td>\n",
       "      <td>Tier 1</td>\n",
       "      <td>Supermarket Type1</td>\n",
       "      <td>2097.2700</td>\n",
       "      <td>train</td>\n",
       "      <td>Food</td>\n",
       "      <td>22</td>\n",
       "    </tr>\n",
       "    <tr>\n",
       "      <th>3</th>\n",
       "      <td>FDX07</td>\n",
       "      <td>19.20</td>\n",
       "      <td>Regular</td>\n",
       "      <td>0.000000</td>\n",
       "      <td>Fruits and Vegetables</td>\n",
       "      <td>182.0950</td>\n",
       "      <td>OUT010</td>\n",
       "      <td>1998</td>\n",
       "      <td>Small</td>\n",
       "      <td>Tier 3</td>\n",
       "      <td>Grocery Store</td>\n",
       "      <td>732.3800</td>\n",
       "      <td>train</td>\n",
       "      <td>Food</td>\n",
       "      <td>23</td>\n",
       "    </tr>\n",
       "    <tr>\n",
       "      <th>4</th>\n",
       "      <td>NCD19</td>\n",
       "      <td>8.93</td>\n",
       "      <td>Low Fat</td>\n",
       "      <td>0.000000</td>\n",
       "      <td>Household</td>\n",
       "      <td>53.8614</td>\n",
       "      <td>OUT013</td>\n",
       "      <td>1987</td>\n",
       "      <td>High</td>\n",
       "      <td>Tier 3</td>\n",
       "      <td>Supermarket Type1</td>\n",
       "      <td>994.7052</td>\n",
       "      <td>train</td>\n",
       "      <td>Non-Consumable</td>\n",
       "      <td>34</td>\n",
       "    </tr>\n",
       "    <tr>\n",
       "      <th>...</th>\n",
       "      <td>...</td>\n",
       "      <td>...</td>\n",
       "      <td>...</td>\n",
       "      <td>...</td>\n",
       "      <td>...</td>\n",
       "      <td>...</td>\n",
       "      <td>...</td>\n",
       "      <td>...</td>\n",
       "      <td>...</td>\n",
       "      <td>...</td>\n",
       "      <td>...</td>\n",
       "      <td>...</td>\n",
       "      <td>...</td>\n",
       "      <td>...</td>\n",
       "      <td>...</td>\n",
       "    </tr>\n",
       "    <tr>\n",
       "      <th>14199</th>\n",
       "      <td>FDB58</td>\n",
       "      <td>10.50</td>\n",
       "      <td>Regular</td>\n",
       "      <td>0.013496</td>\n",
       "      <td>Snack Foods</td>\n",
       "      <td>141.3154</td>\n",
       "      <td>OUT046</td>\n",
       "      <td>1997</td>\n",
       "      <td>Small</td>\n",
       "      <td>Tier 1</td>\n",
       "      <td>Supermarket Type1</td>\n",
       "      <td>NaN</td>\n",
       "      <td>test</td>\n",
       "      <td>Food</td>\n",
       "      <td>24</td>\n",
       "    </tr>\n",
       "    <tr>\n",
       "      <th>14200</th>\n",
       "      <td>FDD47</td>\n",
       "      <td>7.60</td>\n",
       "      <td>Regular</td>\n",
       "      <td>0.142991</td>\n",
       "      <td>Starchy Foods</td>\n",
       "      <td>169.1448</td>\n",
       "      <td>OUT018</td>\n",
       "      <td>2009</td>\n",
       "      <td>Medium</td>\n",
       "      <td>Tier 3</td>\n",
       "      <td>Supermarket Type2</td>\n",
       "      <td>NaN</td>\n",
       "      <td>test</td>\n",
       "      <td>Food</td>\n",
       "      <td>12</td>\n",
       "    </tr>\n",
       "    <tr>\n",
       "      <th>14201</th>\n",
       "      <td>NCO17</td>\n",
       "      <td>10.00</td>\n",
       "      <td>Low Fat</td>\n",
       "      <td>0.073529</td>\n",
       "      <td>Health and Hygiene</td>\n",
       "      <td>118.7440</td>\n",
       "      <td>OUT045</td>\n",
       "      <td>2002</td>\n",
       "      <td>Small</td>\n",
       "      <td>Tier 2</td>\n",
       "      <td>Supermarket Type1</td>\n",
       "      <td>NaN</td>\n",
       "      <td>test</td>\n",
       "      <td>Non-Consumable</td>\n",
       "      <td>19</td>\n",
       "    </tr>\n",
       "    <tr>\n",
       "      <th>14202</th>\n",
       "      <td>FDJ26</td>\n",
       "      <td>15.30</td>\n",
       "      <td>Regular</td>\n",
       "      <td>0.000000</td>\n",
       "      <td>Canned</td>\n",
       "      <td>214.6218</td>\n",
       "      <td>OUT017</td>\n",
       "      <td>2007</td>\n",
       "      <td>Small</td>\n",
       "      <td>Tier 2</td>\n",
       "      <td>Supermarket Type1</td>\n",
       "      <td>NaN</td>\n",
       "      <td>test</td>\n",
       "      <td>Food</td>\n",
       "      <td>14</td>\n",
       "    </tr>\n",
       "    <tr>\n",
       "      <th>14203</th>\n",
       "      <td>FDU37</td>\n",
       "      <td>9.50</td>\n",
       "      <td>Regular</td>\n",
       "      <td>0.104720</td>\n",
       "      <td>Canned</td>\n",
       "      <td>79.7960</td>\n",
       "      <td>OUT045</td>\n",
       "      <td>2002</td>\n",
       "      <td>Small</td>\n",
       "      <td>Tier 2</td>\n",
       "      <td>Supermarket Type1</td>\n",
       "      <td>NaN</td>\n",
       "      <td>test</td>\n",
       "      <td>Food</td>\n",
       "      <td>19</td>\n",
       "    </tr>\n",
       "  </tbody>\n",
       "</table>\n",
       "<p>14204 rows × 15 columns</p>\n",
       "</div>"
      ],
      "text/plain": [
       "      Item_Identifier  Item_Weight Item_Fat_Content  Item_Visibility  \\\n",
       "0               FDA15         9.30          Low Fat         0.016047   \n",
       "1               DRC01         5.92          Regular         0.019278   \n",
       "2               FDN15        17.50          Low Fat         0.016760   \n",
       "3               FDX07        19.20          Regular         0.000000   \n",
       "4               NCD19         8.93          Low Fat         0.000000   \n",
       "...               ...          ...              ...              ...   \n",
       "14199           FDB58        10.50          Regular         0.013496   \n",
       "14200           FDD47         7.60          Regular         0.142991   \n",
       "14201           NCO17        10.00          Low Fat         0.073529   \n",
       "14202           FDJ26        15.30          Regular         0.000000   \n",
       "14203           FDU37         9.50          Regular         0.104720   \n",
       "\n",
       "                   Item_Type  Item_MRP Outlet_Identifier  \\\n",
       "0                      Dairy  249.8092            OUT049   \n",
       "1                Soft Drinks   48.2692            OUT018   \n",
       "2                       Meat  141.6180            OUT049   \n",
       "3      Fruits and Vegetables  182.0950            OUT010   \n",
       "4                  Household   53.8614            OUT013   \n",
       "...                      ...       ...               ...   \n",
       "14199            Snack Foods  141.3154            OUT046   \n",
       "14200          Starchy Foods  169.1448            OUT018   \n",
       "14201     Health and Hygiene  118.7440            OUT045   \n",
       "14202                 Canned  214.6218            OUT017   \n",
       "14203                 Canned   79.7960            OUT045   \n",
       "\n",
       "       Outlet_Establishment_Year Outlet_Size Outlet_Location_Type  \\\n",
       "0                           1999      Medium               Tier 1   \n",
       "1                           2009      Medium               Tier 3   \n",
       "2                           1999      Medium               Tier 1   \n",
       "3                           1998       Small               Tier 3   \n",
       "4                           1987        High               Tier 3   \n",
       "...                          ...         ...                  ...   \n",
       "14199                       1997       Small               Tier 1   \n",
       "14200                       2009      Medium               Tier 3   \n",
       "14201                       2002       Small               Tier 2   \n",
       "14202                       2007       Small               Tier 2   \n",
       "14203                       2002       Small               Tier 2   \n",
       "\n",
       "             Outlet_Type  Item_Outlet_Sales source Item_Type_Combined  \\\n",
       "0      Supermarket Type1          3735.1380  train               Food   \n",
       "1      Supermarket Type2           443.4228  train             Drinks   \n",
       "2      Supermarket Type1          2097.2700  train               Food   \n",
       "3          Grocery Store           732.3800  train               Food   \n",
       "4      Supermarket Type1           994.7052  train     Non-Consumable   \n",
       "...                  ...                ...    ...                ...   \n",
       "14199  Supermarket Type1                NaN   test               Food   \n",
       "14200  Supermarket Type2                NaN   test               Food   \n",
       "14201  Supermarket Type1                NaN   test     Non-Consumable   \n",
       "14202  Supermarket Type1                NaN   test               Food   \n",
       "14203  Supermarket Type1                NaN   test               Food   \n",
       "\n",
       "       Outlet_Years  \n",
       "0                22  \n",
       "1                12  \n",
       "2                22  \n",
       "3                23  \n",
       "4                34  \n",
       "...             ...  \n",
       "14199            24  \n",
       "14200            12  \n",
       "14201            19  \n",
       "14202            14  \n",
       "14203            19  \n",
       "\n",
       "[14204 rows x 15 columns]"
      ]
     },
     "execution_count": 180,
     "metadata": {},
     "output_type": "execute_result"
    }
   ],
   "source": [
    "data"
   ]
  },
  {
   "cell_type": "code",
   "execution_count": 181,
   "metadata": {},
   "outputs": [
    {
     "data": {
      "text/plain": [
       "Low Fat    9185\n",
       "Regular    5019\n",
       "Name: Item_Fat_Content, dtype: int64"
      ]
     },
     "execution_count": 181,
     "metadata": {},
     "output_type": "execute_result"
    }
   ],
   "source": [
    "data.Item_Fat_Content.value_counts()"
   ]
  },
  {
   "cell_type": "code",
   "execution_count": 182,
   "metadata": {},
   "outputs": [
    {
     "data": {
      "text/plain": [
       "Low Fat       6499\n",
       "Regular       5019\n",
       "Non-Edible    2686\n",
       "Name: Item_Fat_Content, dtype: int64"
      ]
     },
     "execution_count": 182,
     "metadata": {},
     "output_type": "execute_result"
    }
   ],
   "source": [
    "data.loc[data['Item_Type_Combined']==\"Non-Consumable\",'Item_Fat_Content'] = \"Non-Edible\"\n",
    "data['Item_Fat_Content'].value_counts()"
   ]
  },
  {
   "cell_type": "code",
   "execution_count": 183,
   "metadata": {},
   "outputs": [
    {
     "data": {
      "text/plain": [
       "Low Fat       6499\n",
       "Regular       5019\n",
       "Non-Edible    2686\n",
       "Name: Item_Fat_Content, dtype: int64"
      ]
     },
     "execution_count": 183,
     "metadata": {},
     "output_type": "execute_result"
    }
   ],
   "source": [
    "data.Item_Fat_Content.value_counts()"
   ]
  },
  {
   "cell_type": "code",
   "execution_count": 184,
   "metadata": {},
   "outputs": [],
   "source": [
    "Fat = pd.get_dummies(data.Item_Fat_Content,drop_first=True)"
   ]
  },
  {
   "cell_type": "code",
   "execution_count": 185,
   "metadata": {},
   "outputs": [
    {
     "data": {
      "text/plain": [
       "Fruits and Vegetables    2013\n",
       "Snack Foods              1989\n",
       "Household                1548\n",
       "Frozen Foods             1426\n",
       "Dairy                    1136\n",
       "Baking Goods             1086\n",
       "Canned                   1084\n",
       "Health and Hygiene        858\n",
       "Meat                      736\n",
       "Soft Drinks               726\n",
       "Breads                    416\n",
       "Hard Drinks               362\n",
       "Others                    280\n",
       "Starchy Foods             269\n",
       "Breakfast                 186\n",
       "Seafood                    89\n",
       "Name: Item_Type, dtype: int64"
      ]
     },
     "execution_count": 185,
     "metadata": {},
     "output_type": "execute_result"
    }
   ],
   "source": [
    "data.Item_Type.value_counts()"
   ]
  },
  {
   "cell_type": "code",
   "execution_count": 186,
   "metadata": {},
   "outputs": [],
   "source": [
    "Type = pd.get_dummies(data.Item_Type,drop_first=True)"
   ]
  },
  {
   "cell_type": "code",
   "execution_count": 187,
   "metadata": {},
   "outputs": [],
   "source": [
    "encoder = LabelEncoder()"
   ]
  },
  {
   "cell_type": "code",
   "execution_count": 188,
   "metadata": {},
   "outputs": [],
   "source": [
    "data.Item_Identifier=encoder.fit_transform(data['Item_Identifier'])\n",
    "data.Item_Fat_Content=encoder.fit_transform(data['Item_Fat_Content'])\n",
    "data.Outlet_Location_Type=encoder.fit_transform(data['Outlet_Location_Type'])\n",
    "data.Outlet_Identifier=encoder.fit_transform(data['Outlet_Identifier'])\n",
    "data.Outlet_Type=encoder.fit_transform(data['Outlet_Type'])\n",
    "data.Outlet_Size=encoder.fit_transform(data['Outlet_Size'])\n",
    "data.Item_Type_Combined=encoder.fit_transform(data['Item_Type_Combined'])"
   ]
  },
  {
   "cell_type": "code",
   "execution_count": 189,
   "metadata": {},
   "outputs": [
    {
     "name": "stdout",
     "output_type": "stream",
     "text": [
      "<class 'pandas.core.frame.DataFrame'>\n",
      "RangeIndex: 14204 entries, 0 to 14203\n",
      "Data columns (total 15 columns):\n",
      " #   Column                     Non-Null Count  Dtype  \n",
      "---  ------                     --------------  -----  \n",
      " 0   Item_Identifier            14204 non-null  int32  \n",
      " 1   Item_Weight                14204 non-null  float64\n",
      " 2   Item_Fat_Content           14204 non-null  int32  \n",
      " 3   Item_Visibility            14204 non-null  float64\n",
      " 4   Item_Type                  14204 non-null  object \n",
      " 5   Item_MRP                   14204 non-null  float64\n",
      " 6   Outlet_Identifier          14204 non-null  int32  \n",
      " 7   Outlet_Establishment_Year  14204 non-null  int64  \n",
      " 8   Outlet_Size                14204 non-null  int32  \n",
      " 9   Outlet_Location_Type       14204 non-null  int32  \n",
      " 10  Outlet_Type                14204 non-null  int32  \n",
      " 11  Item_Outlet_Sales          8523 non-null   float64\n",
      " 12  source                     14204 non-null  object \n",
      " 13  Item_Type_Combined         14204 non-null  int32  \n",
      " 14  Outlet_Years               14204 non-null  int64  \n",
      "dtypes: float64(4), int32(7), int64(2), object(2)\n",
      "memory usage: 1.1+ MB\n"
     ]
    }
   ],
   "source": [
    "data.info()"
   ]
  },
  {
   "cell_type": "code",
   "execution_count": 190,
   "metadata": {},
   "outputs": [
    {
     "data": {
      "text/plain": [
       "'0        1\\n1        1\\n2        1\\n3        2\\n4        0\\n5        1\\n6        0\\n7        1\\n8        2\\n9        2\\n10       1\\n11       2\\n12       1\\n13       2\\n14       0\\n15       2\\n16       1\\n17       1\\n18       1\\n19       2\\n20       0\\n21       1\\n22       2\\n23       2\\n24       2\\n25       2\\n26       2\\n27       0\\n28       2\\n29       2\\n30       2\\n31       1\\n32       1\\n33       2\\n34       2\\n35       1\\n36       1\\n37       1\\n38       1\\n39       1\\n40       2\\n41       0\\n42       1\\n43       1\\n44       0\\n45       2\\n46       2\\n47       2\\n48       2\\n49       2\\n50       2\\n51       0\\n52       0\\n53       2\\n54       2\\n55       1\\n56       2\\n57       1\\n58       2\\n59       2\\n60       1\\n61       2\\n62       1\\n63       2\\n64       1\\n65       2\\n66       2\\n67       2\\n68       2\\n69       2\\n70       2\\n71       0\\n72       2\\n73       2\\n74       1\\n75       2\\n76       1\\n77       2\\n78       2\\n79       2\\n80       2\\n81       2\\n82       1\\n83       2\\n84       1\\n85       2\\n86       2\\n87       1\\n88       2\\n89       1\\n90       2\\n91       1\\n92       2\\n93       2\\n94       2\\n95       2\\n96       1\\n97       2\\n98       1\\n99       2\\n100      2\\n101      1\\n102      1\\n103      0\\n104      1\\n105      0\\n106      0\\n107      2\\n108      2\\n109      0\\n110      2\\n111      2\\n112      2\\n113      1\\n114      2\\n115      1\\n116      2\\n117      2\\n118      2\\n119      1\\n120      2\\n121      2\\n122      2\\n123      2\\n124      2\\n125      2\\n126      2\\n127      2\\n128      0\\n129      2\\n130      1\\n131      2\\n132      1\\n133      2\\n134      1\\n135      2\\n136      1\\n137      2\\n138      2\\n139      2\\n140      2\\n141      2\\n142      2\\n143      1\\n144      2\\n145      1\\n146      2\\n147      2\\n148      2\\n149      2\\n150      2\\n151      1\\n152      1\\n153      1\\n154      2\\n155      1\\n156      1\\n157      2\\n158      2\\n159      0\\n160      0\\n161      1\\n162      1\\n163      2\\n164      2\\n165      2\\n166      2\\n167      1\\n168      1\\n169      1\\n170      2\\n171      2\\n172      0\\n173      0\\n174      2\\n175      2\\n176      2\\n177      2\\n178      2\\n179      2\\n180      1\\n181      2\\n182      2\\n183      0\\n184      1\\n185      1\\n186      2\\n187      1\\n188      2\\n189      1\\n190      1\\n191      1\\n192      2\\n193      1\\n194      1\\n195      2\\n196      2\\n197      1\\n198      1\\n199      1\\n200      2\\n201      2\\n202      2\\n203      1\\n204      2\\n205      2\\n206      1\\n207      2\\n208      2\\n209      2\\n210      2\\n211      2\\n212      2\\n213      2\\n214      2\\n215      2\\n216      2\\n217      2\\n218      0\\n219      2\\n220      1\\n221      2\\n222      2\\n223      2\\n224      0\\n225      2\\n226      0\\n227      2\\n228      2\\n229      1\\n230      1\\n231      1\\n232      2\\n233      2\\n234      2\\n235      1\\n236      2\\n237      0\\n238      1\\n239      1\\n240      2\\n241      2\\n242      2\\n243      2\\n244      2\\n245      2\\n246      0\\n247      2\\n248      1\\n249      2\\n250      2\\n251      1\\n252      1\\n253      0\\n254      2\\n255      2\\n256      2\\n257      0\\n258      2\\n259      2\\n260      0\\n261      2\\n262      2\\n263      2\\n264      2\\n265      0\\n266      0\\n267      0\\n268      2\\n269      0\\n270      2\\n271      0\\n272      0\\n273      2\\n274      2\\n275      1\\n276      0\\n277      2\\n278      2\\n279      1\\n280      1\\n281      2\\n282      1\\n283      2\\n284      2\\n285      2\\n286      2\\n287      1\\n288      2\\n289      1\\n290      2\\n291      1\\n292      2\\n293      1\\n294      1\\n295      1\\n296      2\\n297      2\\n298      2\\n299      2\\n300      1\\n301      2\\n302      2\\n303      1\\n304      2\\n305      2\\n306      2\\n307      1\\n308      2\\n309      2\\n310      2\\n311      2\\n312      2\\n313      1\\n314      0\\n315      2\\n316      2\\n317      2\\n318      2\\n319      1\\n320      1\\n321      1\\n322      2\\n323      2\\n324      1\\n325      2\\n326      0\\n327      2\\n328      1\\n329      2\\n330      0\\n331      1\\n332      2\\n333      1\\n334      2\\n335      1\\n336      2\\n337      2\\n338      2\\n339      2\\n340      1\\n341      0\\n342      0\\n343      2\\n344      2\\n345      1\\n346      1\\n347      1\\n348      1\\n349      1\\n350      1\\n351      2\\n352      0\\n353      2\\n354      1\\n355      2\\n356      2\\n357      1\\n358      2\\n359      1\\n360      1\\n361      2\\n362      2\\n363      1\\n364      2\\n365      0\\n366      2\\n367      2\\n368      1\\n369      2\\n370      1\\n371      2\\n372      2\\n373      2\\n374      0\\n375      1\\n376      2\\n377      0\\n378      0\\n379      2\\n380      1\\n381      1\\n382      1\\n383      2\\n384      2\\n385      2\\n386      2\\n387      2\\n388      1\\n389      2\\n390      2\\n391      2\\n392      2\\n393      2\\n394      2\\n395      1\\n396      1\\n397      2\\n398      1\\n399      2\\n400      1\\n401      2\\n402      2\\n403      2\\n404      1\\n405      2\\n406      1\\n407      2\\n408      0\\n409      1\\n410      2\\n411      2\\n412      1\\n413      2\\n414      2\\n415      2\\n416      2\\n417      2\\n418      2\\n419      2\\n420      2\\n421      2\\n422      1\\n423      1\\n424      1\\n425      1\\n426      1\\n427      1\\n428      2\\n429      2\\n430      2\\n431      2\\n432      1\\n433      2\\n434      2\\n435      0\\n436      2\\n437      2\\n438      1\\n439      0\\n440      2\\n441      2\\n442      2\\n443      1\\n444      1\\n445      2\\n446      2\\n447      0\\n448      2\\n449      1\\n450      2\\n451      2\\n452      1\\n453      2\\n454      0\\n455      2\\n456      1\\n457      2\\n458      1\\n459      0\\n460      0\\n461      2\\n462      2\\n463      2\\n464      1\\n465      2\\n466      0\\n467      2\\n468      2\\n469      1\\n470      2\\n471      2\\n472      1\\n473      1\\n474      2\\n475      2\\n476      2\\n477      2\\n478      2\\n479      2\\n480      0\\n481      2\\n482      2\\n483      2\\n484      2\\n485      1\\n486      2\\n487      2\\n488      2\\n489      2\\n490      2\\n491      1\\n492      2\\n493      2\\n494      2\\n495      1\\n496      0\\n497      1\\n498      2\\n499      2\\n500      2\\n501      1\\n502      2\\n503      2\\n504      1\\n505      1\\n506      1\\n507      2\\n508      2\\n509      2\\n510      2\\n511      2\\n512      1\\n513      2\\n514      0\\n515      2\\n516      2\\n517      1\\n518      1\\n519      1\\n520      0\\n521      2\\n522      2\\n523      0\\n524      2\\n525      2\\n526      1\\n527      2\\n528      2\\n529      2\\n530      0\\n531      2\\n532      2\\n533      1\\n534      2\\n535      2\\n536      2\\n537      1\\n538      2\\n539      2\\n540      2\\n541      2\\n542      1\\n543      0\\n544      2\\n545      2\\n546      1\\n547      2\\n548      2\\n549      1\\n550      2\\n551      2\\n552      2\\n553      2\\n554      2\\n555      2\\n556      1\\n557      1\\n558      2\\n559      2\\n560      1\\n561      2\\n562      1\\n563      2\\n564      2\\n565      0\\n566      2\\n567      1\\n568      1\\n569      2\\n570      2\\n571      1\\n572      2\\n573      1\\n574      2\\n575      1\\n576      2\\n577      2\\n578      0\\n579      1\\n580      1\\n581      2\\n582      1\\n583      2\\n584      2\\n585      2\\n586      2\\n587      0\\n588      1\\n589      2\\n590      2\\n591      2\\n592      2\\n593      0\\n594      2\\n595      2\\n596      1\\n597      2\\n598      1\\n599      2\\n600      2\\n601      2\\n602      1\\n603      1\\n604      2\\n605      2\\n606      2\\n607      2\\n608      2\\n609      2\\n610      1\\n611      2\\n612      0\\n613      0\\n614      2\\n615      2\\n616      2\\n617      0\\n618      0\\n619      2\\n620      1\\n621      1\\n622      1\\n623      1\\n624      2\\n625      2\\n626      1\\n627      1\\n628      1\\n629      2\\n630      1\\n631      2\\n632      1\\n633      2\\n634      0\\n635      1\\n636      2\\n637      2\\n638      0\\n639      2\\n640      1\\n641      1\\n642      2\\n643      1\\n644      1\\n645      2\\n646      2\\n647      1\\n648      2\\n649      0\\n650      2\\n651      2\\n652      2\\n653      1\\n654      2\\n655      2\\n656      1\\n657      1\\n658      0\\n659      1\\n660      2\\n661      1\\n662      2\\n663      0\\n664      1\\n665      0\\n666      0\\n667      0\\n668      1\\n669      1\\n670      1\\n671      1\\n672      1\\n673      2\\n674      1\\n675      2\\n676      1\\n677      0\\n678      1\\n679      2\\n680      2\\n681      2\\n682      2\\n683      1\\n684      1\\n685      1\\n686      1\\n687      2\\n688      2\\n689      2\\n690      0\\n691      2\\n692      1\\n693      2\\n694      1\\n695      1\\n696      0\\n697      1\\n698      2\\n699      2\\n700      1\\n701      2\\n702      2\\n703      2\\n704      1\\n705      2\\n706      2\\n707      2\\n708      0\\n709      2\\n710      2\\n711      2\\n712      2\\n713      1\\n714      2\\n715      2\\n716      1\\n717      1\\n718      2\\n719      2\\n720      1\\n721      1\\n722      2\\n723      1\\n724      2\\n725      1\\n726      1\\n727      1\\n728      2\\n729      2\\n730      2\\n731      0\\n732      1\\n733      2\\n734      2\\n735      2\\n736      2\\n737      1\\n738      2\\n739      1\\n740      2\\n741      2\\n742      2\\n743      2\\n744      1\\n745      1\\n746      2\\n747      2\\n748      2\\n749      2\\n750      2\\n751      2\\n752      1\\n753      2\\n754      2\\n755      2\\n756      2\\n757      2\\n758      1\\n759      2\\n760      0\\n761      0\\n762      1\\n763      2\\n764      2\\n765      1\\n766      0\\n767      1\\n768      2\\n769      0\\n770      1\\n771      1\\n772      2\\n773      0\\n774      1\\n775      1\\n776      2\\n777      2\\n778      2\\n779      2\\n780      1\\n781      2\\n782      0\\n783      1\\n784      2\\n785      2\\n786      2\\n787      2\\n788      2\\n789      0\\n790      0\\n791      1\\n792      2\\n793      1\\n794      2\\n795      1\\n796      2\\n797      1\\n798      2\\n799      2\\n800      0\\n801      2\\n802      2\\n803      1\\n804      0\\n805      1\\n806      1\\n807      1\\n808      2\\n809      1\\n810      2\\n811      1\\n812      0\\n813      2\\n814      2\\n815      2\\n816      0\\n817      1\\n818      0\\n819      2\\n820      1\\n821      2\\n822      1\\n823      1\\n824      1\\n825      2\\n826      1\\n827      2\\n828      2\\n829      0\\n830      1\\n831      2\\n832      1\\n833      2\\n834      0\\n835      2\\n836      2\\n837      1\\n838      1\\n839      2\\n840      2\\n841      2\\n842      1\\n843      1\\n844      1\\n845      1\\n846      2\\n847      2\\n848      2\\n849      2\\n850      0\\n851      2\\n852      0\\n853      1\\n854      2\\n855      2\\n856      2\\n857      1\\n858      2\\n859      1\\n860      2\\n861      2\\n862      2\\n863      0\\n864      2\\n865      2\\n866      2\\n867      1\\n868      2\\n869      0\\n870      0\\n871      1\\n872      2\\n873      2\\n874      1\\n875      2\\n876      1\\n877      2\\n878      1\\n879      2\\n880      2\\n881      1\\n882      2\\n883      2\\n884      1\\n885      0\\n886      1\\n887      1\\n888      2\\n889      2\\n890      1\\n891      1\\n892      1\\n893      0\\n894      2\\n895      2\\n896      2\\n897      1\\n898      2\\n899      2\\n900      2\\n901      1\\n902      1\\n903      1\\n904      2\\n905      2\\n906      2\\n907      2\\n908      2\\n909      1\\n910      2\\n911      2\\n912      0\\n913      2\\n914      0\\n915      1\\n916      2\\n917      2\\n918      2\\n919      1\\n920      2\\n921      1\\n922      0\\n923      2\\n924      2\\n925      2\\n926      2\\n927      1\\n928      2\\n929      0\\n930      1\\n931      2\\n932      2\\n933      2\\n934      1\\n935      1\\n936      0\\n937      0\\n938      2\\n939      1\\n940      2\\n941      0\\n942      2\\n943      1\\n944      0\\n945      2\\n946      1\\n947      1\\n948      1\\n949      2\\n950      1\\n951      0\\n952      1\\n953      2\\n954      2\\n955      2\\n956      2\\n957      2\\n958      2\\n959      2\\n960      1\\n961      0\\n962      2\\n963      2\\n964      2\\n965      1\\n966      2\\n967      2\\n968      2\\n969      2\\n970      1\\n971      2\\n972      2\\n973      2\\n974      1\\n975      2\\n976      2\\n977      2\\n978      2\\n979      1\\n980      2\\n981      1\\n982      2\\n983      1\\n984      1\\n985      2\\n986      2\\n987      0\\n988      2\\n989      1\\n990      2\\n991      1\\n992      2\\n993      2\\n994      0\\n995      2\\n996      2\\n997      2\\n998      2\\n999      1\\n1000     1\\n1001     1\\n1002     1\\n1003     2\\n1004     0\\n1005     0\\n1006     0\\n1007     0\\n1008     2\\n1009     1\\n1010     2\\n1011     1\\n1012     2\\n1013     2\\n1014     1\\n1015     0\\n1016     1\\n1017     2\\n1018     1\\n1019     2\\n1020     2\\n1021     0\\n1022     2\\n1023     2\\n1024     2\\n1025     2\\n1026     2\\n1027     1\\n1028     2\\n1029     1\\n1030     2\\n1031     2\\n1032     2\\n1033     1\\n1034     2\\n1035     0\\n1036     2\\n1037     0\\n1038     1\\n1039     1\\n1040     1\\n1041     1\\n1042     1\\n1043     1\\n1044     2\\n1045     2\\n1046     2\\n1047     2\\n1048     2\\n1049     2\\n1050     2\\n1051     1\\n1052     2\\n1053     1\\n1054     2\\n1055     2\\n1056     0\\n1057     1\\n1058     1\\n1059     2\\n1060     2\\n1061     2\\n1062     2\\n1063     1\\n1064     2\\n1065     2\\n1066     2\\n1067     1\\n1068     2\\n1069     2\\n1070     2\\n1071     2\\n1072     2\\n1073     2\\n1074     2\\n1075     2\\n1076     1\\n1077     2\\n1078     2\\n1079     2\\n1080     1\\n1081     1\\n1082     1\\n1083     0\\n1084     1\\n1085     1\\n1086     2\\n1087     2\\n1088     2\\n1089     1\\n1090     2\\n1091     0\\n1092     1\\n1093     2\\n1094     1\\n1095     2\\n1096     2\\n1097     1\\n1098     2\\n1099     2\\n1100     1\\n1101     1\\n1102     2\\n1103     1\\n1104     2\\n1105     2\\n1106     2\\n1107     2\\n1108     2\\n1109     2\\n1110     2\\n1111     2\\n1112     1\\n1113     1\\n1114     0\\n1115     2\\n1116     2\\n1117     2\\n1118     2\\n1119     2\\n1120     2\\n1121     0\\n1122     1\\n1123     1\\n1124     2\\n1125     2\\n1126     1\\n1127     1\\n1128     1\\n1129     2\\n1130     2\\n1131     2\\n1132     0\\n1133     2\\n1134     2\\n1135     1\\n1136     1\\n1137     2\\n1138     1\\n1139     1\\n1140     1\\n1141     2\\n1142     1\\n1143     2\\n1144     2\\n1145     0\\n1146     1\\n1147     2\\n1148     2\\n1149     1\\n1150     0\\n1151     2\\n1152     2\\n1153     1\\n1154     1\\n1155     1\\n1156     2\\n1157     2\\n1158     2\\n1159     2\\n1160     1\\n1161     1\\n1162     2\\n1163     1\\n1164     2\\n1165     2\\n1166     2\\n1167     2\\n1168     2\\n1169     2\\n1170     1\\n1171     1\\n1172     1\\n1173     1\\n1174     2\\n1175     2\\n1176     2\\n1177     2\\n1178     2\\n1179     2\\n1180     2\\n1181     1\\n1182     2\\n1183     0\\n1184     1\\n1185     2\\n1186     1\\n1187     2\\n1188     1\\n1189     2\\n1190     1\\n1191     2\\n1192     2\\n1193     2\\n1194     1\\n1195     1\\n1196     1\\n1197     2\\n1198     1\\n1199     2\\n1200     0\\n1201     1\\n1202     2\\n1203     2\\n1204     2\\n1205     2\\n1206     1\\n1207     2\\n1208     2\\n1209     0\\n1210     1\\n1211     2\\n1212     2\\n1213     2\\n1214     0\\n1215     2\\n1216     2\\n1217     2\\n1218     0\\n1219     1\\n1220     2\\n1221     0\\n1222     1\\n1223     2\\n1224     2\\n1225     2\\n1226     2\\n1227     2\\n1228     1\\n1229     0\\n1230     2\\n1231     2\\n1232     2\\n1233     2\\n1234     2\\n1235     2\\n1236     2\\n1237     2\\n1238     2\\n1239     2\\n1240     1\\n1241     2\\n1242     1\\n1243     2\\n1244     1\\n1245     0\\n1246     2\\n1247     2\\n1248     0\\n1249     2\\n1250     2\\n1251     1\\n1252     2\\n1253     2\\n1254     2\\n1255     1\\n1256     1\\n1257     2\\n1258     1\\n1259     2\\n1260     0\\n1261     1\\n1262     2\\n1263     1\\n1264     1\\n1265     1\\n1266     2\\n1267     1\\n1268     2\\n1269     2\\n1270     1\\n1271     1\\n1272     2\\n1273     1\\n1274     0\\n1275     2\\n1276     2\\n1277     2\\n1278     2\\n1279     0\\n1280     2\\n1281     2\\n1282     2\\n1283     2\\n1284     2\\n1285     1\\n1286     2\\n1287     0\\n1288     2\\n1289     1\\n1290     1\\n1291     2\\n1292     2\\n1293     1\\n1294     2\\n1295     2\\n1296     0\\n1297     2\\n1298     2\\n1299     2\\n1300     2\\n1301     2\\n1302     0\\n1303     2\\n1304     1\\n1305     2\\n1306     2\\n1307     0\\n1308     1\\n1309     0\\n1310     1\\n1311     2\\n1312     1\\n1313     1\\n1314     2\\n1315     1\\n1316     1\\n1317     1\\n1318     2\\n1319     2\\n1320     1\\n1321     2\\n1322     2\\n1323     2\\n1324     2\\n1325     2\\n1326     0\\n1327     0\\n1328     2\\n1329     1\\n1330     2\\n1331     2\\n1332     1\\n1333     0\\n1334     1\\n1335     1\\n1336     1\\n1337     2\\n1338     1\\n1339     2\\n1340     2\\n1341     2\\n1342     2\\n1343     2\\n1344     2\\n1345     2\\n1346     1\\n1347     0\\n1348     1\\n1349     1\\n1350     2\\n1351     2\\n1352     2\\n1353     1\\n1354     1\\n1355     0\\n1356     2\\n1357     2\\n1358     2\\n1359     0\\n1360     2\\n1361     2\\n1362     1\\n1363     1\\n1364     2\\n1365     2\\n1366     2\\n1367     2\\n1368     2\\n1369     2\\n1370     2\\n1371     1\\n1372     2\\n1373     2\\n1374     1\\n1375     2\\n1376     0\\n1377     2\\n1378     1\\n1379     1\\n1380     2\\n1381     1\\n1382     0\\n1383     0\\n1384     1\\n1385     1\\n1386     1\\n1387     2\\n1388     2\\n1389     2\\n1390     2\\n1391     1\\n1392     1\\n1393     1\\n1394     2\\n1395     2\\n1396     2\\n1397     1\\n1398     0\\n1399     2\\n1400     2\\n1401     2\\n1402     1\\n1403     1\\n1404     2\\n1405     1\\n1406     2\\n1407     2\\n1408     2\\n1409     1\\n1410     0\\n1411     0\\n1412     2\\n1413     2\\n1414     1\\n1415     2\\n1416     1\\n1417     2\\n1418     2\\n1419     2\\n1420     2\\n1421     2\\n1422     0\\n1423     2\\n1424     2\\n1425     2\\n1426     2\\n1427     0\\n1428     2\\n1429     2\\n1430     2\\n1431     2\\n1432     2\\n1433     2\\n1434     2\\n1435     2\\n1436     1\\n1437     0\\n1438     0\\n1439     2\\n1440     1\\n1441     2\\n1442     2\\n1443     0\\n1444     2\\n1445     2\\n1446     1\\n1447     2\\n1448     1\\n1449     2\\n1450     1\\n1451     2\\n1452     2\\n1453     2\\n1454     2\\n1455     1\\n1456     2\\n1457     2\\n1458     1\\n1459     0\\n1460     2\\n1461     0\\n1462     2\\n1463     2\\n1464     2\\n1465     2\\n1466     2\\n1467     1\\n1468     2\\n1469     2\\n1470     0\\n1471     2\\n1472     1\\n1473     1\\n1474     1\\n1475     2\\n1476     2\\n1477     2\\n1478     1\\n1479     1\\n1480     2\\n1481     2\\n1482     1\\n1483     0\\n1484     2\\n1485     1\\n1486     1\\n1487     2\\n1488     2\\n1489     2\\n1490     2\\n1491     2\\n1492     2\\n1493     1\\n1494     2\\n1495     2\\n1496     2\\n1497     2\\n1498     1\\n1499     1\\n1500     0\\n1501     2\\n1502     1\\n1503     2\\n1504     1\\n1505     2\\n1506     1\\n1507     1\\n1508     1\\n1509     0\\n1510     1\\n1511     0\\n1512     1\\n1513     2\\n1514     1\\n1515     2\\n1516     2\\n1517     1\\n1518     2\\n1519     2\\n1520     2\\n1521     0\\n1522     2\\n1523     1\\n1524     1\\n1525     2\\n1526     2\\n1527     2\\n1528     1\\n1529     2\\n1530     2\\n1531     1\\n1532     2\\n1533     2\\n1534     2\\n1535     2\\n1536     0\\n1537     2\\n1538     2\\n1539     1\\n1540     2\\n1541     1\\n1542     1\\n1543     1\\n1544     0\\n1545     2\\n1546     1\\n1547     1\\n1548     2\\n1549     1\\n1550     2\\n1551     2\\n1552     1\\n1553     2\\n1554     2\\n1555     2\\n1556     1\\n1557     2\\n1558     1\\n1559     2\\n1560     2\\n1561     2\\n1562     0\\n1563     2\\n1564     1\\n1565     1\\n1566     2\\n1567     2\\n1568     1\\n1569     1\\n1570     1\\n1571     0\\n1572     1\\n1573     2\\n1574     1\\n1575     2\\n1576     2\\n1577     0\\n1578     1\\n1579     1\\n1580     1\\n1581     2\\n1582     2\\n1583     2\\n1584     1\\n1585     2\\n1586     0\\n1587     2\\n1588     2\\n1589     2\\n1590     2\\n1591     1\\n1592     1\\n1593     2\\n1594     1\\n1595     1\\n1596     1\\n1597     1\\n1598     2\\n1599     1\\n1600     2\\n1601     1\\n1602     1\\n1603     0\\n1604     2\\n1605     2\\n1606     2\\n1607     2\\n1608     2\\n1609     2\\n1610     2\\n1611     1\\n1612     1\\n1613     0\\n1614     0\\n1615     1\\n1616     1\\n1617     2\\n1618     2\\n1619     1\\n1620     2\\n1621     2\\n1622     2\\n1623     0\\n1624     2\\n1625     1\\n1626     0\\n1627     1\\n1628     1\\n1629     2\\n1630     2\\n1631     2\\n1632     2\\n1633     0\\n1634     2\\n1635     1\\n1636     0\\n1637     0\\n1638     1\\n1639     2\\n1640     1\\n1641     1\\n1642     2\\n1643     1\\n1644     2\\n1645     1\\n1646     2\\n1647     1\\n1648     1\\n1649     2\\n1650     1\\n1651     2\\n1652     0\\n1653     2\\n1654     0\\n1655     2\\n1656     2\\n1657     1\\n1658     2\\n1659     2\\n1660     2\\n1661     1\\n1662     0\\n1663     0\\n1664     2\\n1665     1\\n1666     1\\n1667     0\\n1668     1\\n1669     2\\n1670     2\\n1671     2\\n1672     1\\n1673     2\\n1674     1\\n1675     1\\n1676     2\\n1677     2\\n1678     1\\n1679     2\\n1680     2\\n1681     2\\n1682     0\\n1683     0\\n1684     2\\n1685     2\\n1686     2\\n1687     1\\n1688     1\\n1689     1\\n1690     2\\n1691     1\\n1692     2\\n1693     2\\n1694     0\\n1695     0\\n1696     2\\n1697     0\\n1698     2\\n1699     2\\n1700     1\\n1701     2\\n1702     0\\n1703     1\\n1704     2\\n1705     2\\n1706     1\\n1707     2\\n1708     2\\n1709     2\\n1710     1\\n1711     2\\n1712     1\\n1713     1\\n1714     1\\n1715     2\\n1716     0\\n1717     1\\n1718     1\\n1719     2\\n1720     1\\n1721     1\\n1722     1\\n1723     2\\n1724     2\\n1725     2\\n1726     0\\n1727     2\\n1728     2\\n1729     0\\n1730     2\\n1731     2\\n1732     2\\n1733     2\\n1734     1\\n1735     2\\n1736     2\\n1737     2\\n1738     2\\n1739     2\\n1740     2\\n1741     2\\n1742     2\\n1743     2\\n1744     2\\n1745     0\\n1746     1\\n1747     2\\n1748     2\\n1749     2\\n1750     1\\n1751     2\\n1752     2\\n1753     1\\n1754     2\\n1755     1\\n1756     2\\n1757     2\\n1758     2\\n1759     2\\n1760     2\\n1761     1\\n1762     1\\n1763     1\\n1764     1\\n1765     1\\n1766     2\\n1767     2\\n1768     0\\n1769     1\\n1770     2\\n1771     2\\n1772     2\\n1773     1\\n1774     1\\n1775     1\\n1776     2\\n1777     2\\n1778     2\\n1779     1\\n1780     1\\n1781     1\\n1782     2\\n1783     2\\n1784     2\\n1785     1\\n1786     2\\n1787     2\\n1788     2\\n1789     2\\n1790     2\\n1791     2\\n1792     1\\n1793     2\\n1794     0\\n1795     1\\n1796     2\\n1797     2\\n1798     0\\n1799     0\\n1800     2\\n1801     2\\n1802     0\\n1803     2\\n1804     1\\n1805     2\\n1806     0\\n1807     2\\n1808     1\\n1809     2\\n1810     2\\n1811     2\\n1812     1\\n1813     2\\n1814     2\\n1815     2\\n1816     2\\n1817     2\\n1818     0\\n1819     2\\n1820     2\\n1821     1\\n1822     2\\n1823     2\\n1824     2\\n1825     2\\n1826     1\\n1827     2\\n1828     2\\n1829     2\\n1830     2\\n1831     2\\n1832     1\\n1833     2\\n1834     2\\n1835     0\\n1836     2\\n1837     1\\n1838     2\\n1839     2\\n1840     2\\n1841     2\\n1842     1\\n1843     2\\n1844     1\\n1845     2\\n1846     0\\n1847     2\\n1848     0\\n1849     2\\n1850     2\\n1851     2\\n1852     1\\n1853     2\\n1854     2\\n1855     2\\n1856     1\\n1857     1\\n1858     1\\n1859     1\\n1860     1\\n1861     0\\n1862     2\\n1863     2\\n1864     1\\n1865     1\\n1866     1\\n1867     2\\n1868     2\\n1869     2\\n1870     2\\n1871     2\\n1872     2\\n1873     2\\n1874     1\\n1875     2\\n1876     2\\n1877     2\\n1878     2\\n1879     2\\n1880     2\\n1881     0\\n1882     2\\n1883     2\\n1884     2\\n1885     1\\n1886     2\\n1887     2\\n1888     2\\n1889     1\\n1890     2\\n1891     2\\n1892     1\\n1893     1\\n1894     1\\n1895     2\\n1896     1\\n1897     1\\n1898     2\\n1899     2\\n1900     2\\n1901     2\\n1902     1\\n1903     2\\n1904     0\\n1905     1\\n1906     1\\n1907     2\\n1908     2\\n1909     1\\n1910     0\\n1911     0\\n1912     2\\n1913     2\\n1914     2\\n1915     1\\n1916     1\\n1917     2\\n1918     2\\n1919     1\\n1920     2\\n1921     2\\n1922     1\\n1923     0\\n1924     1\\n1925     2\\n1926     2\\n1927     0\\n1928     0\\n1929     1\\n1930     0\\n1931     1\\n1932     2\\n1933     2\\n1934     2\\n1935     2\\n1936     2\\n1937     2\\n1938     0\\n1939     2\\n1940     2\\n1941     2\\n1942     2\\n1943     2\\n1944     2\\n1945     1\\n1946     1\\n1947     1\\n1948     1\\n1949     1\\n1950     2\\n1951     2\\n1952     2\\n1953     2\\n1954     2\\n1955     1\\n1956     1\\n1957     2\\n1958     1\\n1959     0\\n1960     1\\n1961     1\\n1962     2\\n1963     2\\n1964     2\\n1965     1\\n1966     2\\n1967     2\\n1968     1\\n1969     2\\n1970     1\\n1971     2\\n1972     1\\n1973     1\\n1974     2\\n1975     2\\n1976     2\\n1977     1\\n1978     2\\n1979     1\\n1980     2\\n1981     1\\n1982     1\\n1983     0\\n1984     2\\n1985     1\\n1986     2\\n1987     1\\n1988     2\\n1989     1\\n1990     2\\n1991     2\\n1992     2\\n1993     2\\n1994     2\\n1995     2\\n1996     1\\n1997     0\\n1998     1\\n1999     2\\n2000     2\\n2001     2\\n2002     2\\n2003     2\\n2004     2\\n2005     2\\n2006     2\\n2007     1\\n2008     2\\n2009     1\\n2010     2\\n2011     0\\n2012     2\\n2013     1\\n2014     2\\n2015     2\\n2016     2\\n2017     2\\n2018     2\\n2019     1\\n2020     2\\n2021     2\\n2022     0\\n2023     1\\n2024     0\\n2025     2\\n2026     0\\n2027     1\\n2028     2\\n2029     2\\n2030     2\\n2031     2\\n2032     0\\n2033     1\\n2034     2\\n2035     2\\n2036     2\\n2037     2\\n2038     2\\n2039     2\\n2040     1\\n2041     1\\n2042     1\\n2043     0\\n2044     2\\n2045     2\\n2046     2\\n2047     2\\n2048     2\\n2049     1\\n2050     1\\n2051     2\\n2052     2\\n2053     1\\n2054     2\\n2055     2\\n2056     1\\n2057     2\\n2058     2\\n2059     2\\n2060     2\\n2061     2\\n2062     2\\n2063     0\\n2064     1\\n2065     2\\n2066     2\\n2067     2\\n2068     0\\n2069     2\\n2070     0\\n2071     0\\n2072     2\\n2073     1\\n2074     1\\n2075     1\\n2076     2\\n2077     2\\n2078     2\\n2079     2\\n2080     2\\n2081     2\\n2082     1\\n2083     1\\n2084     1\\n2085     2\\n2086     2\\n2087     0\\n2088     2\\n2089     2\\n2090     1\\n2091     0\\n2092     2\\n2093     1\\n2094     1\\n2095     0\\n2096     1\\n2097     2\\n2098     2\\n2099     1\\n2100     2\\n2101     2\\n2102     2\\n2103     2\\n2104     2\\n2105     0\\n2106     0\\n2107     0\\n2108     1\\n2109     1\\n2110     2\\n2111     1\\n2112     2\\n2113     2\\n2114     2\\n2115     2\\n2116     1\\n2117     2\\n2118     0\\n2119     2\\n2120     1\\n2121     2\\n2122     2\\n2123     1\\n2124     2\\n2125     1\\n2126     0\\n2127     1\\n2128     2\\n2129     2\\n2130     2\\n2131     2\\n2132     1\\n2133     1\\n2134     1\\n2135     1\\n2136     2\\n2137     2\\n2138     0\\n2139     2\\n2140     2\\n2141     1\\n2142     2\\n2143     2\\n2144     0\\n2145     1\\n2146     1\\n2147     2\\n2148     2\\n2149     1\\n2150     1\\n2151     1\\n2152     2\\n2153     2\\n2154     2\\n2155     2\\n2156     2\\n2157     2\\n2158     1\\n2159     2\\n2160     1\\n2161     1\\n2162     1\\n2163     2\\n2164     1\\n2165     1\\n2166     2\\n2167     2\\n2168     2\\n2169     2\\n2170     2\\n2171     1\\n2172     2\\n2173     2\\n2174     2\\n2175     2\\n2176     0\\n2177     2\\n2178     0\\n2179     0\\n2180     2\\n2181     2\\n2182     2\\n2183     1\\n2184     2\\n2185     0\\n2186     1\\n2187     0\\n2188     1\\n2189     2\\n2190     1\\n2191     0\\n2192     2\\n2193     2\\n2194     2\\n2195     2\\n2196     1\\n2197     2\\n2198     2\\n2199     2\\n2200     1\\n2201     2\\n2202     1\\n2203     1\\n2204     2\\n2205     1\\n2206     2\\n2207     2\\n2208     2\\n2209     2\\n2210     2\\n2211     2\\n2212     2\\n2213     2\\n2214     2\\n2215     2\\n2216     2\\n2217     2\\n2218     1\\n2219     1\\n2220     1\\n2221     2\\n2222     2\\n2223     2\\n2224     0\\n2225     0\\n2226     2\\n2227     1\\n2228     0\\n2229     1\\n2230     0\\n2231     2\\n2232     2\\n2233     2\\n2234     2\\n2235     2\\n2236     2\\n2237     1\\n2238     1\\n2239     2\\n2240     1\\n2241     2\\n2242     1\\n2243     2\\n2244     0\\n2245     2\\n2246     1\\n2247     1\\n2248     2\\n2249     2\\n2250     2\\n2251     2\\n2252     2\\n2253     2\\n2254     1\\n2255     2\\n2256     1\\n2257     1\\n2258     1\\n2259     2\\n2260     2\\n2261     2\\n2262     2\\n2263     0\\n2264     1\\n2265     1\\n2266     1\\n2267     1\\n2268     0\\n2269     1\\n2270     0\\n2271     2\\n2272     2\\n2273     2\\n2274     2\\n2275     2\\n2276     2\\n2277     2\\n2278     0\\n2279     2\\n2280     2\\n2281     2\\n2282     1\\n2283     2\\n2284     0\\n2285     2\\n2286     1\\n2287     2\\n2288     1\\n2289     2\\n2290     1\\n2291     2\\n2292     1\\n2293     2\\n2294     2\\n2295     1\\n2296     2\\n2297     1\\n2298     2\\n2299     2\\n2300     2\\n2301     1\\n2302     1\\n2303     2\\n2304     2\\n2305     1\\n2306     2\\n2307     2\\n2308     1\\n2309     2\\n2310     2\\n2311     2\\n2312     2\\n2313     2\\n2314     2\\n2315     1\\n2316     0\\n2317     1\\n2318     2\\n2319     2\\n2320     1\\n2321     2\\n2322     1\\n2323     1\\n2324     2\\n2325     2\\n2326     1\\n2327     2\\n2328     2\\n2329     0\\n2330     1\\n2331     1\\n2332     1\\n2333     2\\n2334     1\\n2335     2\\n2336     2\\n2337     2\\n2338     2\\n2339     2\\n2340     2\\n2341     2\\n2342     2\\n2343     2\\n2344     0\\n2345     2\\n2346     0\\n2347     2\\n2348     2\\n2349     1\\n2350     2\\n2351     2\\n2352     1\\n2353     2\\n2354     2\\n2355     2\\n2356     2\\n2357     1\\n2358     0\\n2359     2\\n2360     2\\n2361     1\\n2362     2\\n2363     2\\n2364     1\\n2365     1\\n2366     2\\n2367     0\\n2368     2\\n2369     2\\n2370     0\\n2371     0\\n2372     2\\n2373     2\\n2374     1\\n2375     1\\n2376     0\\n2377     2\\n2378     1\\n2379     2\\n2380     1\\n2381     2\\n2382     2\\n2383     1\\n2384     2\\n2385     2\\n2386     1\\n2387     2\\n2388     1\\n2389     2\\n2390     2\\n2391     2\\n2392     0\\n2393     2\\n2394     2\\n2395     1\\n2396     2\\n2397     2\\n2398     2\\n2399     1\\n2400     2\\n2401     2\\n2402     1\\n2403     2\\n2404     2\\n2405     2\\n2406     1\\n2407     2\\n2408     2\\n2409     2\\n2410     2\\n2411     2\\n2412     2\\n2413     2\\n2414     2\\n2415     2\\n2416     2\\n2417     2\\n2418     0\\n2419     0\\n2420     2\\n2421     1\\n2422     0\\n2423     2\\n2424     1\\n2425     1\\n2426     0\\n2427     1\\n2428     0\\n2429     2\\n2430     2\\n2431     1\\n2432     1\\n2433     1\\n2434     0\\n2435     2\\n2436     1\\n2437     1\\n2438     0\\n2439     2\\n2440     2\\n2441     1\\n2442     1\\n2443     0\\n2444     2\\n2445     2\\n2446     1\\n2447     1\\n2448     2\\n2449     2\\n2450     1\\n2451     2\\n2452     2\\n2453     2\\n2454     2\\n2455     2\\n2456     1\\n2457     2\\n2458     1\\n2459     2\\n2460     2\\n2461     2\\n2462     2\\n2463     1\\n2464     0\\n2465     2\\n2466     2\\n2467     0\\n2468     2\\n2469     2\\n2470     2\\n2471     2\\n2472     2\\n2473     2\\n2474     2\\n2475     2\\n2476     1\\n2477     1\\n2478     2\\n2479     2\\n2480     2\\n2481     2\\n2482     2\\n2483     1\\n2484     1\\n2485     2\\n2486     2\\n2487     2\\n2488     2\\n2489     1\\n2490     2\\n2491     2\\n2492     1\\n2493     1\\n2494     0\\n2495     2\\n2496     2\\n2497     2\\n2498     1\\n2499     1\\n2500     1\\n2501     2\\n2502     1\\n2503     2\\n2504     1\\n2505     1\\n2506     1\\n2507     2\\n2508     1\\n2509     1\\n2510     2\\n2511     2\\n2512     1\\n2513     2\\n2514     2\\n2515     0\\n2516     2\\n2517     2\\n2518     1\\n2519     1\\n2520     1\\n2521     2\\n2522     1\\n2523     0\\n2524     2\\n2525     2\\n2526     2\\n2527     2\\n2528     2\\n2529     1\\n2530     2\\n2531     2\\n2532     2\\n2533     1\\n2534     2\\n2535     2\\n2536     2\\n2537     2\\n2538     2\\n2539     2\\n2540     0\\n2541     2\\n2542     2\\n2543     2\\n2544     2\\n2545     2\\n2546     1\\n2547     2\\n2548     2\\n2549     1\\n2550     1\\n2551     0\\n2552     2\\n2553     2\\n2554     2\\n2555     2\\n2556     1\\n2557     1\\n2558     2\\n2559     0\\n2560     0\\n2561     1\\n2562     2\\n2563     1\\n2564     2\\n2565     2\\n2566     2\\n2567     1\\n2568     2\\n2569     2\\n2570     2\\n2571     2\\n2572     2\\n2573     2\\n2574     2\\n2575     2\\n2576     2\\n2577     1\\n2578     2\\n2579     1\\n2580     2\\n2581     1\\n2582     2\\n2583     2\\n2584     2\\n2585     1\\n2586     2\\n2587     1\\n2588     1\\n2589     1\\n2590     1\\n2591     2\\n2592     1\\n2593     2\\n2594     2\\n2595     2\\n2596     1\\n2597     2\\n2598     1\\n2599     2\\n2600     2\\n2601     2\\n2602     1\\n2603     2\\n2604     2\\n2605     2\\n2606     2\\n2607     2\\n2608     2\\n2609     2\\n2610     1\\n2611     2\\n2612     0\\n2613     2\\n2614     1\\n2615     1\\n2616     2\\n2617     1\\n2618     2\\n2619     1\\n2620     2\\n2621     2\\n2622     2\\n2623     2\\n2624     2\\n2625     2\\n2626     1\\n2627     1\\n2628     0\\n2629     1\\n2630     0\\n2631     2\\n2632     2\\n2633     1\\n2634     2\\n2635     1\\n2636     1\\n2637     2\\n2638     2\\n2639     2\\n2640     2\\n2641     1\\n2642     1\\n2643     1\\n2644     2\\n2645     2\\n2646     2\\n2647     0\\n2648     1\\n2649     2\\n2650     1\\n2651     0\\n2652     2\\n2653     2\\n2654     2\\n2655     0\\n2656     2\\n2657     1\\n2658     2\\n2659     1\\n2660     1\\n2661     2\\n2662     0\\n2663     2\\n2664     2\\n2665     1\\n2666     2\\n2667     2\\n2668     2\\n2669     1\\n2670     1\\n2671     2\\n2672     1\\n2673     0\\n2674     2\\n2675     1\\n2676     0\\n2677     0\\n2678     2\\n2679     0\\n2680     0\\n2681     2\\n2682     2\\n2683     1\\n2684     0\\n2685     1\\n2686     1\\n2687     1\\n2688     1\\n2689     2\\n2690     0\\n2691     2\\n2692     2\\n2693     1\\n2694     1\\n2695     2\\n2696     1\\n2697     2\\n2698     1\\n2699     0\\n2700     2\\n2701     0\\n2702     2\\n2703     2\\n2704     0\\n2705     1\\n2706     2\\n2707     2\\n2708     2\\n2709     1\\n2710     2\\n2711     2\\n2712     2\\n2713     2\\n2714     2\\n2715     2\\n2716     2\\n2717     2\\n2718     2\\n2719     2\\n2720     1\\n2721     1\\n2722     2\\n2723     1\\n2724     2\\n2725     2\\n2726     1\\n2727     2\\n2728     2\\n2729     1\\n2730     2\\n2731     2\\n2732     1\\n2733     2\\n2734     2\\n2735     2\\n2736     2\\n2737     2\\n2738     0\\n2739     2\\n2740     1\\n2741     1\\n2742     1\\n2743     2\\n2744     1\\n2745     1\\n2746     0\\n2747     0\\n2748     2\\n2749     2\\n2750     1\\n2751     0\\n2752     2\\n2753     2\\n2754     2\\n2755     1\\n2756     0\\n2757     1\\n2758     1\\n2759     2\\n2760     2\\n2761     2\\n2762     2\\n2763     1\\n2764     1\\n2765     2\\n2766     2\\n2767     2\\n2768     1\\n2769     1\\n2770     2\\n2771     1\\n2772     1\\n2773     2\\n2774     2\\n2775     2\\n2776     2\\n2777     0\\n2778     2\\n2779     2\\n2780     2\\n2781     1\\n2782     2\\n2783     2\\n2784     2\\n2785     2\\n2786     1\\n2787     2\\n2788     2\\n2789     2\\n2790     0\\n2791     2\\n2792     2\\n2793     2\\n2794     2\\n2795     2\\n2796     2\\n2797     2\\n2798     1\\n2799     2\\n2800     2\\n2801     2\\n2802     0\\n2803     1\\n2804     2\\n2805     2\\n2806     2\\n2807     0\\n2808     1\\n2809     2\\n2810     2\\n2811     2\\n2812     0\\n2813     2\\n2814     2\\n2815     2\\n2816     2\\n2817     1\\n2818     2\\n2819     2\\n2820     2\\n2821     1\\n2822     2\\n2823     2\\n2824     2\\n2825     1\\n2826     0\\n2827     1\\n2828     1\\n2829     2\\n2830     2\\n2831     2\\n2832     2\\n2833     1\\n2834     1\\n2835     2\\n2836     2\\n2837     2\\n2838     1\\n2839     2\\n2840     2\\n2841     1\\n2842     1\\n2843     2\\n2844     1\\n2845     2\\n2846     1\\n2847     0\\n2848     1\\n2849     1\\n2850     2\\n2851     0\\n2852     0\\n2853     1\\n2854     2\\n2855     2\\n2856     2\\n2857     2\\n2858     1\\n2859     2\\n2860     2\\n2861     0\\n2862     1\\n2863     1\\n2864     1\\n2865     2\\n2866     2\\n2867     2\\n2868     1\\n2869     0\\n2870     2\\n2871     0\\n2872     2\\n2873     2\\n2874     1\\n2875     2\\n2876     1\\n2877     2\\n2878     2\\n2879     2\\n2880     0\\n2881     1\\n2882     2\\n2883     2\\n2884     1\\n2885     2\\n2886     2\\n2887     1\\n2888     2\\n2889     1\\n2890     1\\n2891     2\\n2892     1\\n2893     1\\n2894     2\\n2895     2\\n2896     1\\n2897     2\\n2898     0\\n2899     0\\n2900     2\\n2901     1\\n2902     2\\n2903     2\\n2904     2\\n2905     1\\n2906     2\\n2907     2\\n2908     2\\n2909     0\\n2910     2\\n2911     2\\n2912     2\\n2913     1\\n2914     2\\n2915     2\\n2916     2\\n2917     1\\n2918     1\\n2919     1\\n2920     1\\n2921     2\\n2922     1\\n2923     0\\n2924     1\\n2925     1\\n2926     1\\n2927     1\\n2928     1\\n2929     2\\n2930     2\\n2931     2\\n2932     1\\n2933     1\\n2934     2\\n2935     1\\n2936     1\\n2937     0\\n2938     2\\n2939     2\\n2940     2\\n2941     2\\n2942     2\\n2943     2\\n2944     2\\n2945     2\\n2946     1\\n2947     2\\n2948     1\\n2949     1\\n2950     2\\n2951     1\\n2952     2\\n2953     2\\n2954     0\\n2955     2\\n2956     2\\n2957     2\\n2958     2\\n2959     1\\n2960     1\\n2961     1\\n2962     2\\n2963     2\\n2964     1\\n2965     1\\n2966     2\\n2967     1\\n2968     1\\n2969     0\\n2970     2\\n2971     0\\n2972     2\\n2973     1\\n2974     1\\n2975     0\\n2976     2\\n2977     2\\n2978     2\\n2979     2\\n2980     2\\n2981     2\\n2982     1\\n2983     1\\n2984     1\\n2985     1\\n2986     1\\n2987     2\\n2988     2\\n2989     0\\n2990     1\\n2991     2\\n2992     2\\n2993     2\\n2994     2\\n2995     1\\n2996     2\\n2997     2\\n2998     2\\n2999     2\\n3000     2\\n3001     2\\n3002     2\\n3003     1\\n3004     1\\n3005     1\\n3006     1\\n3007     1\\n3008     1\\n3009     1\\n3010     2\\n3011     1\\n3012     2\\n3013     2\\n3014     2\\n3015     2\\n3016     1\\n3017     2\\n3018     2\\n3019     1\\n3020     2\\n3021     0\\n3022     2\\n3023     2\\n3024     1\\n3025     2\\n3026     2\\n3027     2\\n3028     2\\n3029     2\\n3030     2\\n3031     2\\n3032     0\\n3033     2\\n3034     2\\n3035     1\\n3036     1\\n3037     2\\n3038     1\\n3039     2\\n3040     2\\n3041     2\\n3042     2\\n3043     2\\n3044     2\\n3045     2\\n3046     2\\n3047     2\\n3048     1\\n3049     1\\n3050     2\\n3051     2\\n3052     1\\n3053     2\\n3054     2\\n3055     2\\n3056     1\\n3057     2\\n3058     1\\n3059     0\\n3060     2\\n3061     2\\n3062     1\\n3063     2\\n3064     2\\n3065     2\\n3066     1\\n3067     2\\n3068     2\\n3069     2\\n3070     1\\n3071     0\\n3072     2\\n3073     2\\n3074     2\\n3075     2\\n3076     2\\n3077     2\\n3078     2\\n3079     0\\n3080     1\\n3081     2\\n3082     2\\n3083     2\\n3084     1\\n3085     2\\n3086     2\\n3087     0\\n3088     1\\n3089     1\\n3090     0\\n3091     2\\n3092     2\\n3093     2\\n3094     1\\n3095     2\\n3096     2\\n3097     1\\n3098     1\\n3099     2\\n3100     2\\n3101     2\\n3102     1\\n3103     2\\n3104     2\\n3105     2\\n3106     1\\n3107     1\\n3108     2\\n3109     2\\n3110     1\\n3111     2\\n3112     1\\n3113     2\\n3114     2\\n3115     1\\n3116     2\\n3117     0\\n3118     2\\n3119     2\\n3120     1\\n3121     2\\n3122     2\\n3123     0\\n3124     2\\n3125     1\\n3126     1\\n3127     1\\n3128     1\\n3129     1\\n3130     0\\n3131     2\\n3132     1\\n3133     2\\n3134     1\\n3135     2\\n3136     2\\n3137     2\\n3138     1\\n3139     2\\n3140     1\\n3141     1\\n3142     1\\n3143     1\\n3144     2\\n3145     2\\n3146     2\\n3147     2\\n3148     1\\n3149     0\\n3150     2\\n3151     2\\n3152     1\\n3153     1\\n3154     1\\n3155     2\\n3156     0\\n3157     2\\n3158     2\\n3159     2\\n3160     1\\n3161     0\\n3162     0\\n3163     2\\n3164     2\\n3165     1\\n3166     0\\n3167     2\\n3168     2\\n3169     1\\n3170     1\\n3171     2\\n3172     1\\n3173     2\\n3174     0\\n3175     2\\n3176     2\\n3177     2\\n3178     2\\n3179     1\\n3180     2\\n3181     2\\n3182     0\\n3183     2\\n3184     0\\n3185     1\\n3186     1\\n3187     0\\n3188     2\\n3189     2\\n3190     0\\n3191     1\\n3192     2\\n3193     2\\n3194     1\\n3195     2\\n3196     1\\n3197     1\\n3198     2\\n3199     1\\n3200     2\\n3201     0\\n3202     1\\n3203     2\\n3204     2\\n3205     2\\n3206     2\\n3207     0\\n3208     2\\n3209     2\\n3210     1\\n3211     2\\n3212     1\\n3213     1\\n3214     0\\n3215     1\\n3216     2\\n3217     1\\n3218     2\\n3219     1\\n3220     2\\n3221     1\\n3222     0\\n3223     1\\n3224     2\\n3225     1\\n3226     0\\n3227     2\\n3228     0\\n3229     2\\n3230     1\\n3231     1\\n3232     1\\n3233     2\\n3234     1\\n3235     1\\n3236     2\\n3237     1\\n3238     2\\n3239     2\\n3240     1\\n3241     2\\n3242     2\\n3243     2\\n3244     0\\n3245     2\\n3246     0\\n3247     2\\n3248     2\\n3249     1\\n3250     0\\n3251     2\\n3252     2\\n3253     0\\n3254     2\\n3255     2\\n3256     1\\n3257     1\\n3258     2\\n3259     2\\n3260     2\\n3261     2\\n3262     1\\n3263     2\\n3264     2\\n3265     0\\n3266     2\\n3267     2\\n3268     2\\n3269     2\\n3270     2\\n3271     2\\n3272     1\\n3273     2\\n3274     1\\n3275     0\\n3276     2\\n3277     1\\n3278     2\\n3279     2\\n3280     2\\n3281     2\\n3282     0\\n3283     2\\n3284     2\\n3285     2\\n3286     1\\n3287     2\\n3288     1\\n3289     2\\n3290     2\\n3291     2\\n3292     2\\n3293     2\\n3294     2\\n3295     1\\n3296     2\\n3297     1\\n3298     2\\n3299     2\\n3300     1\\n3301     2\\n3302     2\\n3303     2\\n3304     2\\n3305     0\\n3306     1\\n3307     0\\n3308     2\\n3309     2\\n3310     2\\n3311     2\\n3312     1\\n3313     0\\n3314     1\\n3315     1\\n3316     0\\n3317     2\\n3318     1\\n3319     2\\n3320     1\\n3321     1\\n3322     1\\n3323     1\\n3324     2\\n3325     2\\n3326     0\\n3327     2\\n3328     0\\n3329     1\\n3330     2\\n3331     0\\n3332     1\\n3333     1\\n3334     0\\n3335     1\\n3336     2\\n3337     1\\n3338     2\\n3339     0\\n3340     2\\n3341     2\\n3342     2\\n3343     1\\n3344     2\\n3345     1\\n3346     2\\n3347     2\\n3348     2\\n3349     1\\n3350     2\\n3351     1\\n3352     1\\n3353     1\\n3354     2\\n3355     2\\n3356     1\\n3357     2\\n3358     2\\n3359     1\\n3360     0\\n3361     1\\n3362     1\\n3363     1\\n3364     2\\n3365     2\\n3366     1\\n3367     0\\n3368     1\\n3369     1\\n3370     2\\n3371     1\\n3372     1\\n3373     2\\n3374     1\\n3375     2\\n3376     2\\n3377     2\\n3378     2\\n3379     2\\n3380     2\\n3381     2\\n3382     1\\n3383     2\\n3384     2\\n3385     1\\n3386     2\\n3387     1\\n3388     2\\n3389     2\\n3390     2\\n3391     1\\n3392     2\\n3393     2\\n3394     2\\n3395     1\\n3396     0\\n3397     2\\n3398     2\\n3399     2\\n3400     2\\n3401     2\\n3402     1\\n3403     2\\n3404     1\\n3405     2\\n3406     2\\n3407     1\\n3408     2\\n3409     1\\n3410     2\\n3411     2\\n3412     1\\n3413     1\\n3414     1\\n3415     1\\n3416     1\\n3417     2\\n3418     1\\n3419     2\\n3420     1\\n3421     2\\n3422     1\\n3423     1\\n3424     1\\n3425     2\\n3426     2\\n3427     2\\n3428     1\\n3429     1\\n3430     2\\n3431     2\\n3432     2\\n3433     2\\n3434     2\\n3435     2\\n3436     1\\n3437     1\\n3438     1\\n3439     2\\n3440     2\\n3441     2\\n3442     2\\n3443     1\\n3444     2\\n3445     2\\n3446     2\\n3447     2\\n3448     2\\n3449     2\\n3450     1\\n3451     2\\n3452     0\\n3453     2\\n3454     0\\n3455     1\\n3456     2\\n3457     2\\n3458     2\\n3459     2\\n3460     2\\n3461     2\\n3462     2\\n3463     2\\n3464     0\\n3465     1\\n3466     1\\n3467     2\\n3468     2\\n3469     1\\n3470     2\\n3471     0\\n3472     2\\n3473     0\\n3474     2\\n3475     0\\n3476     2\\n3477     2\\n3478     2\\n3479     0\\n3480     1\\n3481     0\\n3482     1\\n3483     2\\n3484     2\\n3485     2\\n3486     2\\n3487     0\\n3488     2\\n3489     2\\n3490     2\\n3491     1\\n3492     2\\n3493     1\\n3494     1\\n3495     2\\n3496     1\\n3497     2\\n3498     2\\n3499     2\\n3500     2\\n3501     2\\n3502     2\\n3503     1\\n3504     2\\n3505     1\\n3506     1\\n3507     2\\n3508     0\\n3509     1\\n3510     2\\n3511     2\\n3512     2\\n3513     0\\n3514     1\\n3515     1\\n3516     1\\n3517     1\\n3518     1\\n3519     1\\n3520     2\\n3521     1\\n3522     2\\n3523     1\\n3524     2\\n3525     2\\n3526     1\\n3527     2\\n3528     0\\n3529     1\\n3530     1\\n3531     2\\n3532     2\\n3533     2\\n3534     2\\n3535     1\\n3536     2\\n3537     2\\n3538     2\\n3539     1\\n3540     2\\n3541     2\\n3542     0\\n3543     1\\n3544     0\\n3545     2\\n3546     2\\n3547     1\\n3548     2\\n3549     1\\n3550     1\\n3551     2\\n3552     1\\n3553     2\\n3554     1\\n3555     1\\n3556     2\\n3557     2\\n3558     2\\n3559     1\\n3560     2\\n3561     2\\n3562     0\\n3563     2\\n3564     2\\n3565     1\\n3566     1\\n3567     2\\n3568     2\\n3569     2\\n3570     2\\n3571     0\\n3572     2\\n3573     1\\n3574     0\\n3575     2\\n3576     1\\n3577     1\\n3578     2\\n3579     2\\n3580     2\\n3581     2\\n3582     1\\n3583     1\\n3584     2\\n3585     1\\n3586     2\\n3587     1\\n3588     1\\n3589     1\\n3590     2\\n3591     0\\n3592     1\\n3593     2\\n3594     2\\n3595     2\\n3596     0\\n3597     2\\n3598     2\\n3599     2\\n3600     1\\n3601     2\\n3602     1\\n3603     2\\n3604     0\\n3605     0\\n3606     0\\n3607     2\\n3608     1\\n3609     2\\n3610     2\\n3611     2\\n3612     0\\n3613     1\\n3614     2\\n3615     0\\n3616     2\\n3617     0\\n3618     1\\n3619     2\\n3620     2\\n3621     2\\n3622     2\\n3623     1\\n3624     1\\n3625     2\\n3626     2\\n3627     2\\n3628     1\\n3629     2\\n3630     1\\n3631     1\\n3632     1\\n3633     2\\n3634     2\\n3635     2\\n3636     2\\n3637     2\\n3638     2\\n3639     2\\n3640     1\\n3641     2\\n3642     0\\n3643     2\\n3644     2\\n3645     2\\n3646     2\\n3647     2\\n3648     2\\n3649     1\\n3650     0\\n3651     1\\n3652     1\\n3653     2\\n3654     2\\n3655     1\\n3656     2\\n3657     0\\n3658     1\\n3659     1\\n3660     1\\n3661     1\\n3662     2\\n3663     2\\n3664     2\\n3665     2\\n3666     2\\n3667     1\\n3668     2\\n3669     2\\n3670     2\\n3671     2\\n3672     2\\n3673     0\\n3674     1\\n3675     2\\n3676     2\\n3677     1\\n3678     2\\n3679     1\\n3680     2\\n3681     2\\n3682     2\\n3683     1\\n3684     0\\n3685     0\\n3686     2\\n3687     2\\n3688     0\\n3689     1\\n3690     1\\n3691     2\\n3692     2\\n3693     2\\n3694     0\\n3695     2\\n3696     2\\n3697     2\\n3698     2\\n3699     1\\n3700     2\\n3701     1\\n3702     2\\n3703     1\\n3704     1\\n3705     2\\n3706     1\\n3707     2\\n3708     0\\n3709     1\\n3710     2\\n3711     0\\n3712     2\\n3713     2\\n3714     0\\n3715     1\\n3716     2\\n3717     0\\n3718     0\\n3719     1\\n3720     1\\n3721     1\\n3722     2\\n3723     2\\n3724     1\\n3725     2\\n3726     1\\n3727     1\\n3728     1\\n3729     1\\n3730     1\\n3731     2\\n3732     2\\n3733     1\\n3734     2\\n3735     1\\n3736     2\\n3737     1\\n3738     2\\n3739     2\\n3740     2\\n3741     2\\n3742     2\\n3743     1\\n3744     2\\n3745     1\\n3746     2\\n3747     2\\n3748     1\\n3749     2\\n3750     2\\n3751     2\\n3752     2\\n3753     1\\n3754     2\\n3755     1\\n3756     1\\n3757     1\\n3758     1\\n3759     2\\n3760     1\\n3761     2\\n3762     2\\n3763     0\\n3764     2\\n3765     2\\n3766     2\\n3767     2\\n3768     2\\n3769     1\\n3770     1\\n3771     2\\n3772     1\\n3773     2\\n3774     2\\n3775     0\\n3776     2\\n3777     1\\n3778     1\\n3779     1\\n3780     1\\n3781     0\\n3782     1\\n3783     1\\n3784     2\\n3785     2\\n3786     2\\n3787     2\\n3788     1\\n3789     2\\n3790     2\\n3791     2\\n3792     2\\n3793     2\\n3794     0\\n3795     2\\n3796     0\\n3797     2\\n3798     2\\n3799     2\\n3800     2\\n3801     2\\n3802     1\\n3803     1\\n3804     2\\n3805     2\\n3806     1\\n3807     1\\n3808     1\\n3809     2\\n3810     2\\n3811     2\\n3812     0\\n3813     2\\n3814     2\\n3815     2\\n3816     2\\n3817     2\\n3818     2\\n3819     2\\n3820     1\\n3821     2\\n3822     1\\n3823     0\\n3824     2\\n3825     1\\n3826     0\\n3827     0\\n3828     2\\n3829     2\\n3830     0\\n3831     1\\n3832     1\\n3833     1\\n3834     2\\n3835     2\\n3836     1\\n3837     2\\n3838     1\\n3839     1\\n3840     2\\n3841     0\\n3842     0\\n3843     1\\n3844     1\\n3845     2\\n3846     1\\n3847     2\\n3848     1\\n3849     0\\n3850     2\\n3851     1\\n3852     0\\n3853     2\\n3854     2\\n3855     1\\n3856     2\\n3857     0\\n3858     2\\n3859     0\\n3860     2\\n3861     0\\n3862     0\\n3863     2\\n3864     1\\n3865     2\\n3866     1\\n3867     0\\n3868     2\\n3869     1\\n3870     2\\n3871     2\\n3872     2\\n3873     2\\n3874     2\\n3875     0\\n3876     1\\n3877     1\\n3878     2\\n3879     1\\n3880     2\\n3881     1\\n3882     2\\n3883     2\\n3884     2\\n3885     0\\n3886     1\\n3887     2\\n3888     2\\n3889     2\\n3890     2\\n3891     1\\n3892     2\\n3893     1\\n3894     0\\n3895     2\\n3896     2\\n3897     2\\n3898     0\\n3899     1\\n3900     1\\n3901     1\\n3902     2\\n3903     1\\n3904     1\\n3905     2\\n3906     2\\n3907     1\\n3908     2\\n3909     2\\n3910     1\\n3911     1\\n3912     2\\n3913     1\\n3914     2\\n3915     2\\n3916     2\\n3917     2\\n3918     1\\n3919     0\\n3920     1\\n3921     2\\n3922     1\\n3923     2\\n3924     2\\n3925     0\\n3926     1\\n3927     1\\n3928     1\\n3929     2\\n3930     2\\n3931     2\\n3932     1\\n3933     0\\n3934     2\\n3935     2\\n3936     2\\n3937     2\\n3938     2\\n3939     1\\n3940     2\\n3941     2\\n3942     1\\n3943     1\\n3944     1\\n3945     1\\n3946     2\\n3947     2\\n3948     2\\n3949     1\\n3950     2\\n3951     2\\n3952     2\\n3953     2\\n3954     2\\n3955     1\\n3956     1\\n3957     1\\n3958     1\\n3959     0\\n3960     2\\n3961     2\\n3962     0\\n3963     1\\n3964     1\\n3965     1\\n3966     2\\n3967     2\\n3968     1\\n3969     2\\n3970     0\\n3971     2\\n3972     1\\n3973     1\\n3974     2\\n3975     0\\n3976     1\\n3977     1\\n3978     1\\n3979     2\\n3980     2\\n3981     2\\n3982     2\\n3983     2\\n3984     1\\n3985     1\\n3986     0\\n3987     2\\n3988     1\\n3989     1\\n3990     2\\n3991     2\\n3992     1\\n3993     2\\n3994     1\\n3995     2\\n3996     2\\n3997     1\\n3998     1\\n3999     1\\n4000     2\\n4001     2\\n4002     2\\n4003     2\\n4004     1\\n4005     2\\n4006     2\\n4007     1\\n4008     2\\n4009     2\\n4010     2\\n4011     2\\n4012     2\\n4013     1\\n4014     2\\n4015     2\\n4016     2\\n4017     2\\n4018     2\\n4019     2\\n4020     2\\n4021     2\\n4022     1\\n4023     0\\n4024     2\\n4025     0\\n4026     2\\n4027     1\\n4028     1\\n4029     1\\n4030     1\\n4031     2\\n4032     2\\n4033     1\\n4034     2\\n4035     1\\n4036     2\\n4037     2\\n4038     1\\n4039     2\\n4040     2\\n4041     1\\n4042     1\\n4043     2\\n4044     1\\n4045     2\\n4046     1\\n4047     1\\n4048     2\\n4049     1\\n4050     1\\n4051     2\\n4052     2\\n4053     1\\n4054     2\\n4055     1\\n4056     1\\n4057     2\\n4058     1\\n4059     2\\n4060     1\\n4061     2\\n4062     0\\n4063     1\\n4064     2\\n4065     2\\n4066     1\\n4067     1\\n4068     2\\n4069     2\\n4070     0\\n4071     1\\n4072     2\\n4073     1\\n4074     2\\n4075     1\\n4076     1\\n4077     2\\n4078     1\\n4079     0\\n4080     2\\n4081     1\\n4082     2\\n4083     1\\n4084     2\\n4085     1\\n4086     2\\n4087     1\\n4088     1\\n4089     2\\n4090     2\\n4091     1\\n4092     1\\n4093     1\\n4094     2\\n4095     2\\n4096     2\\n4097     2\\n4098     1\\n4099     0\\n4100     0\\n4101     2\\n4102     2\\n4103     1\\n4104     2\\n4105     1\\n4106     1\\n4107     1\\n4108     2\\n4109     0\\n4110     1\\n4111     1\\n4112     2\\n4113     2\\n4114     0\\n4115     1\\n4116     0\\n4117     2\\n4118     1\\n4119     2\\n4120     2\\n4121     2\\n4122     1\\n4123     2\\n4124     2\\n4125     2\\n4126     1\\n4127     1\\n4128     0\\n4129     2\\n4130     2\\n4131     1\\n4132     0\\n4133     2\\n4134     2\\n4135     0\\n4136     2\\n4137     2\\n4138     2\\n4139     1\\n4140     2\\n4141     1\\n4142     1\\n4143     1\\n4144     0\\n4145     2\\n4146     2\\n4147     2\\n4148     1\\n4149     2\\n4150     2\\n4151     1\\n4152     2\\n4153     2\\n4154     1\\n4155     0\\n4156     1\\n4157     2\\n4158     2\\n4159     2\\n4160     1\\n4161     2\\n4162     2\\n4163     2\\n4164     1\\n4165     1\\n4166     2\\n4167     2\\n4168     2\\n4169     1\\n4170     2\\n4171     2\\n4172     1\\n4173     0\\n4174     0\\n4175     2\\n4176     2\\n4177     1\\n4178     2\\n4179     2\\n4180     1\\n4181     1\\n4182     2\\n4183     2\\n4184     2\\n4185     2\\n4186     1\\n4187     1\\n4188     2\\n4189     1\\n4190     0\\n4191     2\\n4192     2\\n4193     1\\n4194     2\\n4195     2\\n4196     2\\n4197     2\\n4198     2\\n4199     2\\n4200     2\\n4201     2\\n4202     0\\n4203     1\\n4204     1\\n4205     0\\n4206     2\\n4207     1\\n4208     1\\n4209     0\\n4210     0\\n4211     0\\n4212     2\\n4213     2\\n4214     1\\n4215     2\\n4216     2\\n4217     2\\n4218     2\\n4219     2\\n4220     2\\n4221     0\\n4222     1\\n4223     2\\n4224     2\\n4225     2\\n4226     0\\n4227     0\\n4228     2\\n4229     2\\n4230     2\\n4231     2\\n4232     2\\n4233     1\\n4234     2\\n4235     2\\n4236     2\\n4237     2\\n4238     1\\n4239     0\\n4240     2\\n4241     2\\n4242     1\\n4243     2\\n4244     0\\n4245     0\\n4246     2\\n4247     1\\n4248     1\\n4249     2\\n4250     2\\n4251     2\\n4252     2\\n4253     2\\n4254     2\\n4255     2\\n4256     2\\n4257     2\\n4258     0\\n4259     2\\n4260     2\\n4261     1\\n4262     2\\n4263     2\\n4264     2\\n4265     2\\n4266     2\\n4267     0\\n4268     2\\n4269     2\\n4270     2\\n4271     0\\n4272     1\\n4273     0\\n4274     1\\n4275     1\\n4276     0\\n4277     0\\n4278     0\\n4279     2\\n4280     2\\n4281     2\\n4282     0\\n4283     2\\n4284     2\\n4285     1\\n4286     2\\n4287     1\\n4288     2\\n4289     2\\n4290     2\\n4291     2\\n4292     0\\n4293     1\\n4294     2\\n4295     1\\n4296     1\\n4297     2\\n4298     2\\n4299     1\\n4300     2\\n4301     2\\n4302     2\\n4303     2\\n4304     1\\n4305     0\\n4306     0\\n4307     1\\n4308     2\\n4309     2\\n4310     2\\n4311     1\\n4312     1\\n4313     2\\n4314     1\\n4315     2\\n4316     1\\n4317     1\\n4318     1\\n4319     2\\n4320     1\\n4321     2\\n4322     2\\n4323     2\\n4324     2\\n4325     2\\n4326     1\\n4327     2\\n4328     2\\n4329     2\\n4330     2\\n4331     2\\n4332     2\\n4333     2\\n4334     2\\n4335     2\\n4336     2\\n4337     1\\n4338     1\\n4339     2\\n4340     2\\n4341     2\\n4342     2\\n4343     2\\n4344     2\\n4345     2\\n4346     1\\n4347     2\\n4348     1\\n4349     1\\n4350     2\\n4351     2\\n4352     2\\n4353     2\\n4354     1\\n4355     2\\n4356     0\\n4357     2\\n4358     1\\n4359     0\\n4360     2\\n4361     2\\n4362     2\\n4363     2\\n4364     1\\n4365     2\\n4366     1\\n4367     2\\n4368     1\\n4369     2\\n4370     2\\n4371     1\\n4372     0\\n4373     2\\n4374     2\\n4375     1\\n4376     2\\n4377     2\\n4378     1\\n4379     0\\n4380     2\\n4381     1\\n4382     2\\n4383     1\\n4384     2\\n4385     0\\n4386     1\\n4387     2\\n4388     1\\n4389     2\\n4390     0\\n4391     2\\n4392     2\\n4393     0\\n4394     1\\n4395     1\\n4396     1\\n4397     1\\n4398     2\\n4399     2\\n4400     1\\n4401     1\\n4402     2\\n4403     2\\n4404     1\\n4405     2\\n4406     1\\n4407     2\\n4408     2\\n4409     1\\n4410     1\\n4411     0\\n4412     2\\n4413     2\\n4414     1\\n4415     2\\n4416     1\\n4417     0\\n4418     1\\n4419     2\\n4420     2\\n4421     2\\n4422     1\\n4423     2\\n4424     2\\n4425     1\\n4426     2\\n4427     1\\n4428     1\\n4429     0\\n4430     2\\n4431     2\\n4432     0\\n4433     2\\n4434     1\\n4435     2\\n4436     2\\n4437     2\\n4438     2\\n4439     2\\n4440     0\\n4441     2\\n4442     2\\n4443     1\\n4444     0\\n4445     2\\n4446     2\\n4447     2\\n4448     0\\n4449     2\\n4450     2\\n4451     1\\n4452     0\\n4453     1\\n4454     1\\n4455     2\\n4456     2\\n4457     1\\n4458     2\\n4459     2\\n4460     0\\n4461     1\\n4462     2\\n4463     2\\n4464     2\\n4465     1\\n4466     1\\n4467     1\\n4468     2\\n4469     0\\n4470     2\\n4471     0\\n4472     2\\n4473     1\\n4474     2\\n4475     2\\n4476     0\\n4477     2\\n4478     1\\n4479     2\\n4480     2\\n4481     1\\n4482     1\\n4483     1\\n4484     2\\n4485     2\\n4486     2\\n4487     2\\n4488     2\\n4489     1\\n4490     2\\n4491     2\\n4492     1\\n4493     1\\n4494     1\\n4495     1\\n4496     2\\n4497     1\\n4498     1\\n4499     2\\n4500     2\\n4501     2\\n4502     2\\n4503     2\\n4504     1\\n4505     2\\n4506     2\\n4507     1\\n4508     2\\n4509     2\\n4510     2\\n4511     2\\n4512     1\\n4513     2\\n4514     2\\n4515     1\\n4516     1\\n4517     2\\n4518     2\\n4519     2\\n4520     2\\n4521     0\\n4522     1\\n4523     1\\n4524     2\\n4525     2\\n4526     2\\n4527     2\\n4528     2\\n4529     1\\n4530     2\\n4531     0\\n4532     2\\n4533     2\\n4534     2\\n4535     2\\n4536     1\\n4537     1\\n4538     2\\n4539     1\\n4540     1\\n4541     2\\n4542     1\\n4543     1\\n4544     2\\n4545     0\\n4546     2\\n4547     2\\n4548     2\\n4549     2\\n4550     1\\n4551     2\\n4552     2\\n4553     2\\n4554     2\\n4555     1\\n4556     1\\n4557     2\\n4558     0\\n4559     2\\n4560     2\\n4561     2\\n4562     2\\n4563     2\\n4564     0\\n4565     2\\n4566     0\\n4567     2\\n4568     2\\n4569     0\\n4570     1\\n4571     2\\n4572     1\\n4573     2\\n4574     0\\n4575     2\\n4576     1\\n4577     2\\n4578     1\\n4579     1\\n4580     2\\n4581     2\\n4582     0\\n4583     2\\n4584     1\\n4585     2\\n4586     2\\n4587     2\\n4588     2\\n4589     1\\n4590     2\\n4591     0\\n4592     1\\n4593     0\\n4594     1\\n4595     2\\n4596     0\\n4597     2\\n4598     1\\n4599     2\\n4600     1\\n4601     1\\n4602     1\\n4603     2\\n4604     1\\n4605     2\\n4606     0\\n4607     2\\n4608     1\\n4609     1\\n4610     2\\n4611     2\\n4612     2\\n4613     2\\n4614     1\\n4615     0\\n4616     1\\n4617     1\\n4618     1\\n4619     2\\n4620     1\\n4621     2\\n4622     2\\n4623     0\\n4624     1\\n4625     1\\n4626     2\\n4627     1\\n4628     1\\n4629     1\\n4630     1\\n4631     1\\n4632     0\\n4633     1\\n4634     2\\n4635     1\\n4636     1\\n4637     2\\n4638     2\\n4639     1\\n4640     2\\n4641     2\\n4642     2\\n4643     2\\n4644     1\\n4645     1\\n4646     2\\n4647     1\\n4648     2\\n4649     2\\n4650     2\\n4651     1\\n4652     0\\n4653     2\\n4654     2\\n4655     2\\n4656     2\\n4657     1\\n4658     2\\n4659     2\\n4660     0\\n4661     1\\n4662     1\\n4663     1\\n4664     2\\n4665     2\\n4666     2\\n4667     2\\n4668     2\\n4669     1\\n4670     2\\n4671     2\\n4672     2\\n4673     2\\n4674     2\\n4675     2\\n4676     1\\n4677     2\\n4678     1\\n4679     2\\n4680     0\\n4681     1\\n4682     2\\n4683     1\\n4684     2\\n4685     2\\n4686     2\\n4687     2\\n4688     2\\n4689     2\\n4690     1\\n4691     1\\n4692     2\\n4693     2\\n4694     0\\n4695     2\\n4696     2\\n4697     0\\n4698     2\\n4699     2\\n4700     2\\n4701     2\\n4702     0\\n4703     0\\n4704     0\\n4705     2\\n4706     2\\n4707     2\\n4708     1\\n4709     2\\n4710     2\\n4711     2\\n4712     2\\n4713     1\\n4714     1\\n4715     2\\n4716     2\\n4717     2\\n4718     2\\n4719     2\\n4720     1\\n4721     1\\n4722     2\\n4723     2\\n4724     2\\n4725     1\\n4726     2\\n4727     2\\n4728     1\\n4729     1\\n4730     1\\n4731     1\\n4732     2\\n4733     1\\n4734     1\\n4735     2\\n4736     2\\n4737     2\\n4738     2\\n4739     2\\n4740     1\\n4741     2\\n4742     1\\n4743     0\\n4744     1\\n4745     2\\n4746     1\\n4747     1\\n4748     1\\n4749     2\\n4750     2\\n4751     1\\n4752     2\\n4753     0\\n4754     2\\n4755     2\\n4756     2\\n4757     0\\n4758     0\\n4759     1\\n4760     2\\n4761     1\\n4762     0\\n4763     2\\n4764     2\\n4765     0\\n4766     2\\n4767     1\\n4768     2\\n4769     2\\n4770     2\\n4771     2\\n4772     1\\n4773     2\\n4774     2\\n4775     2\\n4776     1\\n4777     2\\n4778     2\\n4779     2\\n4780     2\\n4781     2\\n4782     0\\n4783     0\\n4784     2\\n4785     1\\n4786     2\\n4787     2\\n4788     2\\n4789     2\\n4790     2\\n4791     1\\n4792     1\\n4793     2\\n4794     0\\n4795     2\\n4796     1\\n4797     1\\n4798     2\\n4799     2\\n4800     2\\n4801     2\\n4802     2\\n4803     1\\n4804     1\\n4805     2\\n4806     0\\n4807     2\\n4808     1\\n4809     0\\n4810     2\\n4811     2\\n4812     2\\n4813     1\\n4814     1\\n4815     1\\n4816     2\\n4817     0\\n4818     2\\n4819     2\\n4820     2\\n4821     2\\n4822     1\\n4823     2\\n4824     2\\n4825     1\\n4826     1\\n4827     1\\n4828     1\\n4829     1\\n4830     2\\n4831     2\\n4832     1\\n4833     2\\n4834     2\\n4835     1\\n4836     2\\n4837     2\\n4838     2\\n4839     1\\n4840     1\\n4841     1\\n4842     1\\n4843     0\\n4844     2\\n4845     2\\n4846     2\\n4847     0\\n4848     2\\n4849     0\\n4850     1\\n4851     2\\n4852     2\\n4853     2\\n4854     2\\n4855     2\\n4856     1\\n4857     1\\n4858     1\\n4859     2\\n4860     2\\n4861     2\\n4862     1\\n4863     1\\n4864     2\\n4865     1\\n4866     2\\n4867     2\\n4868     1\\n4869     0\\n4870     2\\n4871     1\\n4872     2\\n4873     1\\n4874     2\\n4875     0\\n4876     1\\n4877     1\\n4878     1\\n4879     2\\n4880     2\\n4881     2\\n4882     2\\n4883     1\\n4884     1\\n4885     2\\n4886     1\\n4887     1\\n4888     0\\n4889     2\\n4890     1\\n4891     2\\n4892     2\\n4893     1\\n4894     2\\n4895     1\\n4896     2\\n4897     2\\n4898     0\\n4899     1\\n4900     2\\n4901     1\\n4902     0\\n4903     1\\n4904     2\\n4905     2\\n4906     2\\n4907     2\\n4908     1\\n4909     2\\n4910     2\\n4911     1\\n4912     2\\n4913     1\\n4914     0\\n4915     0\\n4916     1\\n4917     1\\n4918     2\\n4919     1\\n4920     2\\n4921     1\\n4922     1\\n4923     2\\n4924     2\\n4925     2\\n4926     2\\n4927     2\\n4928     1\\n4929     1\\n4930     1\\n4931     2\\n4932     1\\n4933     2\\n4934     0\\n4935     2\\n4936     2\\n4937     0\\n4938     2\\n4939     0\\n4940     2\\n4941     2\\n4942     1\\n4943     2\\n4944     2\\n4945     2\\n4946     2\\n4947     0\\n4948     2\\n4949     1\\n4950     2\\n4951     1\\n4952     2\\n4953     1\\n4954     1\\n4955     2\\n4956     2\\n4957     2\\n4958     0\\n4959     1\\n4960     1\\n4961     2\\n4962     2\\n4963     1\\n4964     1\\n4965     2\\n4966     2\\n4967     1\\n4968     2\\n4969     2\\n4970     2\\n4971     1\\n4972     1\\n4973     1\\n4974     1\\n4975     2\\n4976     1\\n4977     2\\n4978     2\\n4979     2\\n4980     2\\n4981     1\\n4982     2\\n4983     2\\n4984     2\\n4985     0\\n4986     2\\n4987     2\\n4988     2\\n4989     2\\n4990     2\\n4991     2\\n4992     1\\n4993     1\\n4994     1\\n4995     2\\n4996     2\\n4997     1\\n4998     2\\n4999     1\\n5000     1\\n5001     2\\n5002     1\\n5003     1\\n5004     2\\n5005     2\\n5006     2\\n5007     2\\n5008     2\\n5009     2\\n5010     0\\n5011     2\\n5012     2\\n5013     1\\n5014     2\\n5015     1\\n5016     0\\n5017     2\\n5018     2\\n5019     1\\n5020     0\\n5021     2\\n5022     2\\n5023     1\\n5024     2\\n5025     2\\n5026     2\\n5027     1\\n5028     0\\n5029     2\\n5030     2\\n5031     2\\n5032     2\\n5033     1\\n5034     1\\n5035     1\\n5036     2\\n5037     1\\n5038     1\\n5039     1\\n5040     2\\n5041     2\\n5042     1\\n5043     1\\n5044     2\\n5045     2\\n5046     1\\n5047     2\\n5048     1\\n5049     2\\n5050     2\\n5051     2\\n5052     2\\n5053     1\\n5054     1\\n5055     2\\n5056     2\\n5057     2\\n5058     1\\n5059     0\\n5060     2\\n5061     0\\n5062     2\\n5063     1\\n5064     2\\n5065     1\\n5066     1\\n5067     0\\n5068     1\\n5069     0\\n5070     1\\n5071     2\\n5072     0\\n5073     1\\n5074     1\\n5075     1\\n5076     0\\n5077     2\\n5078     2\\n5079     1\\n5080     1\\n5081     2\\n5082     0\\n5083     2\\n5084     1\\n5085     2\\n5086     2\\n5087     1\\n5088     2\\n5089     2\\n5090     1\\n5091     2\\n5092     2\\n5093     2\\n5094     2\\n5095     2\\n5096     2\\n5097     2\\n5098     2\\n5099     1\\n5100     1\\n5101     2\\n5102     1\\n5103     1\\n5104     1\\n5105     2\\n5106     2\\n5107     2\\n5108     1\\n5109     2\\n5110     2\\n5111     2\\n5112     1\\n5113     1\\n5114     2\\n5115     2\\n5116     1\\n5117     1\\n5118     1\\n5119     2\\n5120     2\\n5121     1\\n5122     2\\n5123     2\\n5124     1\\n5125     1\\n5126     1\\n5127     0\\n5128     1\\n5129     2\\n5130     1\\n5131     2\\n5132     0\\n5133     2\\n5134     1\\n5135     1\\n5136     2\\n5137     1\\n5138     1\\n5139     1\\n5140     1\\n5141     1\\n5142     2\\n5143     2\\n5144     1\\n5145     2\\n5146     0\\n5147     2\\n5148     2\\n5149     2\\n5150     2\\n5151     1\\n5152     1\\n5153     1\\n5154     2\\n5155     2\\n5156     2\\n5157     2\\n5158     1\\n5159     0\\n5160     2\\n5161     2\\n5162     1\\n5163     1\\n5164     2\\n5165     1\\n5166     2\\n5167     2\\n5168     1\\n5169     2\\n5170     1\\n5171     2\\n5172     0\\n5173     2\\n5174     1\\n5175     0\\n5176     2\\n5177     1\\n5178     1\\n5179     2\\n5180     2\\n5181     2\\n5182     2\\n5183     1\\n5184     2\\n5185     1\\n5186     1\\n5187     1\\n5188     1\\n5189     0\\n5190     1\\n5191     2\\n5192     2\\n5193     1\\n5194     1\\n5195     1\\n5196     2\\n5197     1\\n5198     1\\n5199     2\\n5200     2\\n5201     2\\n5202     2\\n5203     0\\n5204     2\\n5205     1\\n5206     0\\n5207     2\\n5208     1\\n5209     1\\n5210     0\\n5211     2\\n5212     1\\n5213     2\\n5214     1\\n5215     2\\n5216     1\\n5217     2\\n5218     0\\n5219     2\\n5220     2\\n5221     0\\n5222     2\\n5223     1\\n5224     2\\n5225     1\\n5226     2\\n5227     0\\n5228     2\\n5229     2\\n5230     2\\n5231     1\\n5232     1\\n5233     2\\n5234     2\\n5235     2\\n5236     2\\n5237     2\\n5238     0\\n5239     1\\n5240     2\\n5241     2\\n5242     1\\n5243     2\\n5244     0\\n5245     1\\n5246     2\\n5247     0\\n5248     2\\n5249     1\\n5250     2\\n5251     1\\n5252     2\\n5253     1\\n5254     0\\n5255     1\\n5256     1\\n5257     2\\n5258     0\\n5259     0\\n5260     2\\n5261     2\\n5262     1\\n5263     1\\n5264     0\\n5265     1\\n5266     1\\n5267     1\\n5268     2\\n5269     1\\n5270     2\\n5271     2\\n5272     2\\n5273     1\\n5274     0\\n5275     0\\n5276     2\\n5277     2\\n5278     1\\n5279     2\\n5280     2\\n5281     1\\n5282     1\\n5283     2\\n5284     2\\n5285     2\\n5286     1\\n5287     2\\n5288     0\\n5289     2\\n5290     2\\n5291     2\\n5292     2\\n5293     2\\n5294     1\\n5295     1\\n5296     1\\n5297     1\\n5298     2\\n5299     1\\n5300     2\\n5301     1\\n5302     1\\n5303     0\\n5304     2\\n5305     1\\n5306     2\\n5307     0\\n5308     2\\n5309     1\\n5310     2\\n5311     2\\n5312     2\\n5313     2\\n5314     1\\n5315     2\\n5316     1\\n5317     1\\n5318     2\\n5319     0\\n5320     2\\n5321     2\\n5322     2\\n5323     1\\n5324     0\\n5325     1\\n5326     2\\n5327     2\\n5328     2\\n5329     2\\n5330     2\\n5331     2\\n5332     2\\n5333     1\\n5334     2\\n5335     2\\n5336     2\\n5337     1\\n5338     2\\n5339     2\\n5340     2\\n5341     2\\n5342     1\\n5343     1\\n5344     2\\n5345     2\\n5346     1\\n5347     2\\n5348     2\\n5349     2\\n5350     1\\n5351     1\\n5352     1\\n5353     2\\n5354     2\\n5355     2\\n5356     0\\n5357     1\\n5358     0\\n5359     1\\n5360     1\\n5361     1\\n5362     2\\n5363     2\\n5364     1\\n5365     2\\n5366     2\\n5367     1\\n5368     2\\n5369     2\\n5370     0\\n5371     1\\n5372     2\\n5373     1\\n5374     2\\n5375     2\\n5376     2\\n5377     1\\n5378     2\\n5379     1\\n5380     1\\n5381     2\\n5382     1\\n5383     1\\n5384     2\\n5385     1\\n5386     2\\n5387     1\\n5388     1\\n5389     2\\n5390     2\\n5391     1\\n5392     2\\n5393     2\\n5394     2\\n5395     0\\n5396     1\\n5397     2\\n5398     2\\n5399     2\\n5400     2\\n5401     1\\n5402     2\\n5403     1\\n5404     2\\n5405     2\\n5406     2\\n5407     0\\n5408     1\\n5409     2\\n5410     2\\n5411     1\\n5412     2\\n5413     0\\n5414     2\\n5415     1\\n5416     1\\n5417     2\\n5418     2\\n5419     2\\n5420     1\\n5421     2\\n5422     0\\n5423     2\\n5424     2\\n5425     1\\n5426     1\\n5427     2\\n5428     2\\n5429     2\\n5430     2\\n5431     1\\n5432     2\\n5433     2\\n5434     2\\n5435     2\\n5436     2\\n5437     1\\n5438     2\\n5439     2\\n5440     2\\n5441     1\\n5442     2\\n5443     1\\n5444     1\\n5445     2\\n5446     1\\n5447     2\\n5448     2\\n5449     2\\n5450     2\\n5451     2\\n5452     2\\n5453     2\\n5454     1\\n5455     2\\n5456     1\\n5457     2\\n5458     2\\n5459     2\\n5460     1\\n5461     2\\n5462     0\\n5463     2\\n5464     1\\n5465     2\\n5466     1\\n5467     0\\n5468     2\\n5469     2\\n5470     1\\n5471     1\\n5472     1\\n5473     0\\n5474     2\\n5475     0\\n5476     2\\n5477     2\\n5478     2\\n5479     2\\n5480     2\\n5481     2\\n5482     0\\n5483     1\\n5484     1\\n5485     2\\n5486     2\\n5487     2\\n5488     2\\n5489     2\\n5490     2\\n5491     1\\n5492     2\\n5493     2\\n5494     1\\n5495     1\\n5496     2\\n5497     2\\n5498     1\\n5499     2\\n5500     1\\n5501     2\\n5502     2\\n5503     2\\n5504     1\\n5505     2\\n5506     1\\n5507     2\\n5508     2\\n5509     2\\n5510     2\\n5511     0\\n5512     2\\n5513     1\\n5514     2\\n5515     2\\n5516     0\\n5517     2\\n5518     1\\n5519     1\\n5520     2\\n5521     0\\n5522     2\\n5523     2\\n5524     2\\n5525     2\\n5526     2\\n5527     0\\n5528     2\\n5529     2\\n5530     1\\n5531     2\\n5532     1\\n5533     2\\n5534     2\\n5535     1\\n5536     1\\n5537     2\\n5538     1\\n5539     2\\n5540     2\\n5541     1\\n5542     2\\n5543     1\\n5544     2\\n5545     2\\n5546     1\\n5547     2\\n5548     1\\n5549     0\\n5550     2\\n5551     1\\n5552     1\\n5553     1\\n5554     2\\n5555     2\\n5556     0\\n5557     1\\n5558     2\\n5559     2\\n5560     2\\n5561     2\\n5562     2\\n5563     2\\n5564     2\\n5565     2\\n5566     2\\n5567     2\\n5568     0\\n5569     2\\n5570     0\\n5571     2\\n5572     1\\n5573     1\\n5574     2\\n5575     2\\n5576     2\\n5577     2\\n5578     2\\n5579     2\\n5580     0\\n5581     2\\n5582     2\\n5583     2\\n5584     1\\n5585     1\\n5586     2\\n5587     1\\n5588     2\\n5589     2\\n5590     1\\n5591     2\\n5592     0\\n5593     1\\n5594     2\\n5595     1\\n5596     2\\n5597     0\\n5598     2\\n5599     2\\n5600     2\\n5601     0\\n5602     0\\n5603     2\\n5604     2\\n5605     1\\n5606     2\\n5607     2\\n5608     1\\n5609     2\\n5610     2\\n5611     2\\n5612     2\\n5613     2\\n5614     0\\n5615     0\\n5616     1\\n5617     2\\n5618     2\\n5619     1\\n5620     2\\n5621     2\\n5622     2\\n5623     2\\n5624     2\\n5625     1\\n5626     2\\n5627     1\\n5628     0\\n5629     0\\n5630     2\\n5631     2\\n5632     2\\n5633     2\\n5634     2\\n5635     1\\n5636     2\\n5637     1\\n5638     0\\n5639     1\\n5640     2\\n5641     0\\n5642     1\\n5643     2\\n5644     2\\n5645     0\\n5646     2\\n5647     2\\n5648     1\\n5649     1\\n5650     2\\n5651     2\\n5652     2\\n5653     2\\n5654     1\\n5655     2\\n5656     2\\n5657     2\\n5658     2\\n5659     2\\n5660     1\\n5661     2\\n5662     2\\n5663     2\\n5664     1\\n5665     1\\n5666     2\\n5667     1\\n5668     2\\n5669     2\\n5670     2\\n5671     2\\n5672     2\\n5673     2\\n5674     2\\n5675     1\\n5676     1\\n5677     0\\n5678     2\\n5679     1\\n5680     0\\n5681     0\\n5682     1\\n5683     2\\n5684     1\\n5685     0\\n5686     2\\n5687     2\\n5688     2\\n5689     2\\n5690     2\\n5691     2\\n5692     2\\n5693     2\\n5694     2\\n5695     2\\n5696     2\\n5697     1\\n5698     2\\n5699     2\\n5700     2\\n5701     1\\n5702     2\\n5703     1\\n5704     2\\n5705     2\\n5706     1\\n5707     1\\n5708     1\\n5709     2\\n5710     2\\n5711     2\\n5712     0\\n5713     1\\n5714     1\\n5715     0\\n5716     2\\n5717     2\\n5718     1\\n5719     2\\n5720     1\\n5721     1\\n5722     1\\n5723     2\\n5724     2\\n5725     2\\n5726     1\\n5727     1\\n5728     2\\n5729     2\\n5730     2\\n5731     2\\n5732     2\\n5733     1\\n5734     2\\n5735     2\\n5736     2\\n5737     1\\n5738     1\\n5739     1\\n5740     2\\n5741     1\\n5742     2\\n5743     2\\n5744     2\\n5745     1\\n5746     1\\n5747     2\\n5748     2\\n5749     1\\n5750     1\\n5751     0\\n5752     2\\n5753     2\\n5754     2\\n5755     0\\n5756     2\\n5757     1\\n5758     2\\n5759     2\\n5760     1\\n5761     1\\n5762     2\\n5763     1\\n5764     1\\n5765     0\\n5766     2\\n5767     2\\n5768     2\\n5769     1\\n5770     2\\n5771     2\\n5772     0\\n5773     2\\n5774     1\\n5775     0\\n5776     2\\n5777     2\\n5778     2\\n5779     2\\n5780     1\\n5781     1\\n5782     0\\n5783     2\\n5784     2\\n5785     0\\n5786     0\\n5787     2\\n5788     1\\n5789     2\\n5790     2\\n5791     2\\n5792     2\\n5793     2\\n5794     2\\n5795     2\\n5796     1\\n5797     0\\n5798     1\\n5799     1\\n5800     1\\n5801     2\\n5802     2\\n5803     1\\n5804     2\\n5805     0\\n5806     1\\n5807     1\\n5808     2\\n5809     0\\n5810     2\\n5811     2\\n5812     1\\n5813     2\\n5814     1\\n5815     2\\n5816     1\\n5817     1\\n5818     2\\n5819     0\\n5820     2\\n5821     1\\n5822     2\\n5823     1\\n5824     2\\n5825     2\\n5826     1\\n5827     2\\n5828     1\\n5829     1\\n5830     2\\n5831     2\\n5832     2\\n5833     1\\n5834     2\\n5835     1\\n5836     1\\n5837     2\\n5838     1\\n5839     2\\n5840     1\\n5841     2\\n5842     1\\n5843     1\\n5844     2\\n5845     1\\n5846     2\\n5847     2\\n5848     2\\n5849     1\\n5850     1\\n5851     1\\n5852     1\\n5853     2\\n5854     2\\n5855     2\\n5856     0\\n5857     1\\n5858     2\\n5859     1\\n5860     2\\n5861     2\\n5862     2\\n5863     1\\n5864     2\\n5865     1\\n5866     0\\n5867     1\\n5868     2\\n5869     1\\n5870     0\\n5871     2\\n5872     2\\n5873     2\\n5874     1\\n5875     1\\n5876     2\\n5877     2\\n5878     1\\n5879     1\\n5880     2\\n5881     2\\n5882     2\\n5883     1\\n5884     2\\n5885     0\\n5886     2\\n5887     2\\n5888     2\\n5889     2\\n5890     0\\n5891     2\\n5892     2\\n5893     2\\n5894     2\\n5895     2\\n5896     0\\n5897     2\\n5898     1\\n5899     0\\n5900     2\\n5901     0\\n5902     1\\n5903     2\\n5904     2\\n5905     2\\n5906     1\\n5907     2\\n5908     2\\n5909     1\\n5910     0\\n5911     1\\n5912     2\\n5913     0\\n5914     0\\n5915     2\\n5916     1\\n5917     0\\n5918     0\\n5919     1\\n5920     1\\n5921     0\\n5922     1\\n5923     1\\n5924     2\\n5925     2\\n5926     1\\n5927     2\\n5928     0\\n5929     2\\n5930     0\\n5931     2\\n5932     2\\n5933     1\\n5934     2\\n5935     2\\n5936     1\\n5937     2\\n5938     0\\n5939     2\\n5940     1\\n5941     0\\n5942     0\\n5943     0\\n5944     2\\n5945     2\\n5946     2\\n5947     1\\n5948     2\\n5949     2\\n5950     2\\n5951     1\\n5952     2\\n5953     2\\n5954     1\\n5955     0\\n5956     2\\n5957     1\\n5958     2\\n5959     0\\n5960     2\\n5961     1\\n5962     2\\n5963     1\\n5964     2\\n5965     1\\n5966     2\\n5967     1\\n5968     0\\n5969     0\\n5970     2\\n5971     2\\n5972     2\\n5973     2\\n5974     2\\n5975     0\\n5976     2\\n5977     1\\n5978     2\\n5979     1\\n5980     1\\n5981     2\\n5982     2\\n5983     2\\n5984     2\\n5985     2\\n5986     0\\n5987     1\\n5988     2\\n5989     2\\n5990     1\\n5991     2\\n5992     1\\n5993     2\\n5994     2\\n5995     2\\n5996     1\\n5997     2\\n5998     2\\n5999     2\\n6000     1\\n6001     0\\n6002     2\\n6003     1\\n6004     2\\n6005     2\\n6006     1\\n6007     1\\n6008     2\\n6009     1\\n6010     2\\n6011     1\\n6012     2\\n6013     2\\n6014     2\\n6015     1\\n6016     0\\n6017     2\\n6018     2\\n6019     2\\n6020     1\\n6021     1\\n6022     2\\n6023     2\\n6024     2\\n6025     2\\n6026     1\\n6027     2\\n6028     1\\n6029     2\\n6030     2\\n6031     1\\n6032     2\\n6033     2\\n6034     2\\n6035     2\\n6036     2\\n6037     2\\n6038     1\\n6039     1\\n6040     2\\n6041     1\\n6042     0\\n6043     1\\n6044     2\\n6045     1\\n6046     1\\n6047     0\\n6048     0\\n6049     1\\n6050     1\\n6051     1\\n6052     1\\n6053     0\\n6054     2\\n6055     2\\n6056     2\\n6057     1\\n6058     1\\n6059     1\\n6060     0\\n6061     2\\n6062     2\\n6063     1\\n6064     1\\n6065     0\\n6066     1\\n6067     1\\n6068     0\\n6069     2\\n6070     1\\n6071     2\\n6072     2\\n6073     2\\n6074     1\\n6075     1\\n6076     2\\n6077     1\\n6078     2\\n6079     2\\n6080     2\\n6081     1\\n6082     1\\n6083     2\\n6084     1\\n6085     2\\n6086     2\\n6087     2\\n6088     2\\n6089     1\\n6090     1\\n6091     1\\n6092     0\\n6093     1\\n6094     2\\n6095     2\\n6096     2\\n6097     1\\n6098     2\\n6099     2\\n6100     1\\n6101     2\\n6102     2\\n6103     0\\n6104     2\\n6105     2\\n6106     0\\n6107     2\\n6108     2\\n6109     1\\n6110     2\\n6111     2\\n6112     2\\n6113     2\\n6114     2\\n6115     0\\n6116     2\\n6117     0\\n6118     0\\n6119     2\\n6120     1\\n6121     2\\n6122     0\\n6123     2\\n6124     2\\n6125     1\\n6126     1\\n6127     2\\n6128     2\\n6129     1\\n6130     2\\n6131     2\\n6132     1\\n6133     2\\n6134     1\\n6135     1\\n6136     2\\n6137     2\\n6138     1\\n6139     2\\n6140     2\\n6141     2\\n6142     2\\n6143     2\\n6144     1\\n6145     2\\n6146     2\\n6147     2\\n6148     1\\n6149     2\\n6150     2\\n6151     1\\n6152     2\\n6153     1\\n6154     2\\n6155     2\\n6156     0\\n6157     0\\n6158     2\\n6159     2\\n6160     1\\n6161     1\\n6162     2\\n6163     2\\n6164     2\\n6165     2\\n6166     0\\n6167     2\\n6168     1\\n6169     1\\n6170     2\\n6171     2\\n6172     2\\n6173     2\\n6174     1\\n6175     2\\n6176     1\\n6177     2\\n6178     2\\n6179     2\\n6180     0\\n6181     2\\n6182     2\\n6183     1\\n6184     1\\n6185     0\\n6186     1\\n6187     2\\n6188     1\\n6189     2\\n6190     2\\n6191     1\\n6192     2\\n6193     2\\n6194     2\\n6195     2\\n6196     1\\n6197     1\\n6198     0\\n6199     2\\n6200     0\\n6201     2\\n6202     1\\n6203     2\\n6204     2\\n6205     0\\n6206     2\\n6207     1\\n6208     2\\n6209     0\\n6210     2\\n6211     1\\n6212     1\\n6213     1\\n6214     1\\n6215     2\\n6216     1\\n6217     2\\n6218     2\\n6219     2\\n6220     1\\n6221     2\\n6222     2\\n6223     2\\n6224     2\\n6225     2\\n6226     2\\n6227     2\\n6228     2\\n6229     2\\n6230     2\\n6231     2\\n6232     1\\n6233     1\\n6234     1\\n6235     2\\n6236     0\\n6237     0\\n6238     2\\n6239     2\\n6240     2\\n6241     2\\n6242     0\\n6243     2\\n6244     1\\n6245     1\\n6246     1\\n6247     1\\n6248     2\\n6249     1\\n6250     0\\n6251     2\\n6252     0\\n6253     2\\n6254     2\\n6255     2\\n6256     2\\n6257     1\\n6258     1\\n6259     2\\n6260     2\\n6261     1\\n6262     2\\n6263     2\\n6264     1\\n6265     2\\n6266     2\\n6267     1\\n6268     2\\n6269     1\\n6270     1\\n6271     0\\n6272     1\\n6273     2\\n6274     2\\n6275     2\\n6276     1\\n6277     1\\n6278     1\\n6279     1\\n6280     2\\n6281     1\\n6282     2\\n6283     2\\n6284     2\\n6285     2\\n6286     1\\n6287     1\\n6288     2\\n6289     1\\n6290     2\\n6291     1\\n6292     2\\n6293     1\\n6294     2\\n6295     1\\n6296     2\\n6297     0\\n6298     1\\n6299     1\\n6300     1\\n6301     2\\n6302     2\\n6303     1\\n6304     1\\n6305     1\\n6306     0\\n6307     2\\n6308     2\\n6309     1\\n6310     0\\n6311     1\\n6312     1\\n6313     2\\n6314     2\\n6315     0\\n6316     1\\n6317     0\\n6318     1\\n6319     1\\n6320     1\\n6321     0\\n6322     2\\n6323     1\\n6324     2\\n6325     2\\n6326     2\\n6327     2\\n6328     2\\n6329     2\\n6330     2\\n6331     0\\n6332     0\\n6333     1\\n6334     1\\n6335     2\\n6336     2\\n6337     1\\n6338     1\\n6339     2\\n6340     1\\n6341     2\\n6342     2\\n6343     2\\n6344     2\\n6345     0\\n6346     0\\n6347     1\\n6348     0\\n6349     1\\n6350     2\\n6351     2\\n6352     0\\n6353     2\\n6354     2\\n6355     2\\n6356     2\\n6357     1\\n6358     0\\n6359     2\\n6360     2\\n6361     1\\n6362     2\\n6363     2\\n6364     2\\n6365     0\\n6366     2\\n6367     2\\n6368     2\\n6369     2\\n6370     1\\n6371     1\\n6372     2\\n6373     2\\n6374     1\\n6375     1\\n6376     2\\n6377     2\\n6378     1\\n6379     2\\n6380     2\\n6381     1\\n6382     1\\n6383     2\\n6384     1\\n6385     1\\n6386     1\\n6387     2\\n6388     2\\n6389     1\\n6390     1\\n6391     1\\n6392     1\\n6393     2\\n6394     2\\n6395     2\\n6396     1\\n6397     2\\n6398     1\\n6399     1\\n6400     2\\n6401     1\\n6402     2\\n6403     0\\n6404     1\\n6405     2\\n6406     1\\n6407     2\\n6408     2\\n6409     0\\n6410     1\\n6411     1\\n6412     1\\n6413     2\\n6414     0\\n6415     2\\n6416     2\\n6417     2\\n6418     2\\n6419     1\\n6420     0\\n6421     0\\n6422     2\\n6423     1\\n6424     2\\n6425     2\\n6426     1\\n6427     1\\n6428     2\\n6429     2\\n6430     2\\n6431     1\\n6432     0\\n6433     2\\n6434     1\\n6435     2\\n6436     2\\n6437     2\\n6438     2\\n6439     2\\n6440     1\\n6441     2\\n6442     1\\n6443     2\\n6444     1\\n6445     2\\n6446     2\\n6447     1\\n6448     1\\n6449     2\\n6450     2\\n6451     1\\n6452     2\\n6453     0\\n6454     2\\n6455     1\\n6456     2\\n6457     1\\n6458     1\\n6459     2\\n6460     2\\n6461     2\\n6462     1\\n6463     2\\n6464     2\\n6465     2\\n6466     0\\n6467     2\\n6468     1\\n6469     2\\n6470     0\\n6471     2\\n6472     2\\n6473     1\\n6474     2\\n6475     1\\n6476     2\\n6477     2\\n6478     2\\n6479     2\\n6480     2\\n6481     1\\n6482     2\\n6483     2\\n6484     1\\n6485     2\\n6486     2\\n6487     2\\n6488     1\\n6489     2\\n6490     0\\n6491     0\\n6492     2\\n6493     2\\n6494     1\\n6495     1\\n6496     2\\n6497     2\\n6498     0\\n6499     2\\n6500     2\\n6501     2\\n6502     2\\n6503     0\\n6504     2\\n6505     1\\n6506     2\\n6507     2\\n6508     2\\n6509     2\\n6510     2\\n6511     1\\n6512     2\\n6513     2\\n6514     2\\n6515     1\\n6516     1\\n6517     2\\n6518     2\\n6519     1\\n6520     2\\n6521     2\\n6522     1\\n6523     1\\n6524     1\\n6525     1\\n6526     1\\n6527     2\\n6528     2\\n6529     2\\n6530     1\\n6531     0\\n6532     0\\n6533     2\\n6534     1\\n6535     1\\n6536     2\\n6537     1\\n6538     1\\n6539     1\\n6540     2\\n6541     1\\n6542     2\\n6543     2\\n6544     0\\n6545     1\\n6546     2\\n6547     2\\n6548     2\\n6549     2\\n6550     1\\n6551     1\\n6552     2\\n6553     1\\n6554     1\\n6555     2\\n6556     2\\n6557     0\\n6558     2\\n6559     1\\n6560     2\\n6561     2\\n6562     1\\n6563     1\\n6564     2\\n6565     2\\n6566     0\\n6567     2\\n6568     0\\n6569     0\\n6570     2\\n6571     2\\n6572     2\\n6573     2\\n6574     2\\n6575     1\\n6576     2\\n6577     2\\n6578     2\\n6579     2\\n6580     2\\n6581     2\\n6582     2\\n6583     0\\n6584     2\\n6585     2\\n6586     2\\n6587     2\\n6588     2\\n6589     2\\n6590     0\\n6591     2\\n6592     2\\n6593     2\\n6594     1\\n6595     2\\n6596     2\\n6597     1\\n6598     2\\n6599     2\\n6600     1\\n6601     2\\n6602     2\\n6603     0\\n6604     1\\n6605     1\\n6606     1\\n6607     2\\n6608     0\\n6609     1\\n6610     2\\n6611     2\\n6612     2\\n6613     1\\n6614     2\\n6615     1\\n6616     0\\n6617     2\\n6618     0\\n6619     1\\n6620     2\\n6621     2\\n6622     2\\n6623     0\\n6624     2\\n6625     2\\n6626     1\\n6627     2\\n6628     1\\n6629     2\\n6630     2\\n6631     2\\n6632     1\\n6633     2\\n6634     1\\n6635     1\\n6636     2\\n6637     2\\n6638     1\\n6639     0\\n6640     1\\n6641     2\\n6642     2\\n6643     2\\n6644     2\\n6645     2\\n6646     2\\n6647     2\\n6648     1\\n6649     2\\n6650     2\\n6651     1\\n6652     2\\n6653     1\\n6654     0\\n6655     2\\n6656     2\\n6657     2\\n6658     2\\n6659     2\\n6660     1\\n6661     1\\n6662     1\\n6663     1\\n6664     2\\n6665     1\\n6666     1\\n6667     1\\n6668     2\\n6669     2\\n6670     2\\n6671     2\\n6672     2\\n6673     1\\n6674     2\\n6675     0\\n6676     1\\n6677     2\\n6678     2\\n6679     1\\n6680     1\\n6681     1\\n6682     1\\n6683     2\\n6684     2\\n6685     2\\n6686     1\\n6687     2\\n6688     1\\n6689     1\\n6690     1\\n6691     0\\n6692     1\\n6693     1\\n6694     2\\n6695     2\\n6696     1\\n6697     2\\n6698     2\\n6699     2\\n6700     0\\n6701     2\\n6702     0\\n6703     1\\n6704     2\\n6705     1\\n6706     2\\n6707     2\\n6708     1\\n6709     1\\n6710     1\\n6711     0\\n6712     2\\n6713     2\\n6714     1\\n6715     2\\n6716     2\\n6717     1\\n6718     0\\n6719     1\\n6720     2\\n6721     2\\n6722     2\\n6723     2\\n6724     2\\n6725     1\\n6726     1\\n6727     2\\n6728     2\\n6729     2\\n6730     2\\n6731     2\\n6732     0\\n6733     1\\n6734     2\\n6735     0\\n6736     1\\n6737     1\\n6738     2\\n6739     2\\n6740     1\\n6741     2\\n6742     2\\n6743     1\\n6744     2\\n6745     1\\n6746     2\\n6747     2\\n6748     2\\n6749     2\\n6750     0\\n6751     1\\n6752     2\\n6753     2\\n6754     2\\n6755     1\\n6756     0\\n6757     2\\n6758     1\\n6759     2\\n6760     1\\n6761     1\\n6762     2\\n6763     1\\n6764     2\\n6765     1\\n6766     1\\n6767     1\\n6768     1\\n6769     1\\n6770     2\\n6771     0\\n6772     2\\n6773     2\\n6774     2\\n6775     1\\n6776     2\\n6777     1\\n6778     1\\n6779     2\\n6780     0\\n6781     2\\n6782     2\\n6783     2\\n6784     2\\n6785     2\\n6786     2\\n6787     2\\n6788     0\\n6789     1\\n6790     2\\n6791     1\\n6792     2\\n6793     2\\n6794     2\\n6795     0\\n6796     1\\n6797     2\\n6798     2\\n6799     2\\n6800     1\\n6801     1\\n6802     2\\n6803     1\\n6804     1\\n6805     2\\n6806     2\\n6807     1\\n6808     1\\n6809     0\\n6810     1\\n6811     2\\n6812     2\\n6813     2\\n6814     2\\n6815     1\\n6816     2\\n6817     0\\n6818     2\\n6819     1\\n6820     2\\n6821     1\\n6822     1\\n6823     2\\n6824     1\\n6825     2\\n6826     0\\n6827     1\\n6828     2\\n6829     1\\n6830     2\\n6831     2\\n6832     1\\n6833     2\\n6834     1\\n6835     0\\n6836     2\\n6837     1\\n6838     2\\n6839     2\\n6840     2\\n6841     1\\n6842     1\\n6843     2\\n6844     0\\n6845     1\\n6846     1\\n6847     2\\n6848     1\\n6849     2\\n6850     1\\n6851     0\\n6852     2\\n6853     1\\n6854     1\\n6855     2\\n6856     2\\n6857     0\\n6858     1\\n6859     1\\n6860     1\\n6861     2\\n6862     2\\n6863     1\\n6864     2\\n6865     1\\n6866     2\\n6867     2\\n6868     1\\n6869     2\\n6870     0\\n6871     2\\n6872     0\\n6873     2\\n6874     1\\n6875     2\\n6876     2\\n6877     0\\n6878     1\\n6879     1\\n6880     2\\n6881     2\\n6882     2\\n6883     2\\n6884     2\\n6885     1\\n6886     1\\n6887     0\\n6888     1\\n6889     2\\n6890     2\\n6891     1\\n6892     2\\n6893     0\\n6894     1\\n6895     0\\n6896     2\\n6897     1\\n6898     0\\n6899     2\\n6900     2\\n6901     1\\n6902     2\\n6903     2\\n6904     2\\n6905     1\\n6906     1\\n6907     2\\n6908     0\\n6909     2\\n6910     2\\n6911     0\\n6912     2\\n6913     2\\n6914     2\\n6915     1\\n6916     1\\n6917     2\\n6918     2\\n6919     0\\n6920     2\\n6921     2\\n6922     0\\n6923     1\\n6924     1\\n6925     1\\n6926     2\\n6927     2\\n6928     2\\n6929     2\\n6930     0\\n6931     2\\n6932     2\\n6933     1\\n6934     1\\n6935     2\\n6936     1\\n6937     2\\n6938     2\\n6939     2\\n6940     1\\n6941     0\\n6942     2\\n6943     2\\n6944     1\\n6945     1\\n6946     2\\n6947     2\\n6948     2\\n6949     2\\n6950     2\\n6951     2\\n6952     2\\n6953     2\\n6954     2\\n6955     2\\n6956     0\\n6957     1\\n6958     0\\n6959     2\\n6960     2\\n6961     2\\n6962     1\\n6963     2\\n6964     0\\n6965     1\\n6966     2\\n6967     2\\n6968     0\\n6969     0\\n6970     2\\n6971     2\\n6972     2\\n6973     2\\n6974     1\\n6975     1\\n6976     2\\n6977     2\\n6978     2\\n6979     2\\n6980     1\\n6981     2\\n6982     1\\n6983     2\\n6984     1\\n6985     1\\n6986     2\\n6987     2\\n6988     2\\n6989     2\\n6990     2\\n6991     2\\n6992     1\\n6993     2\\n6994     1\\n6995     0\\n6996     2\\n6997     2\\n6998     2\\n6999     2\\n7000     1\\n7001     2\\n7002     1\\n7003     2\\n7004     2\\n7005     2\\n7006     1\\n7007     2\\n7008     1\\n7009     2\\n7010     2\\n7011     1\\n7012     1\\n7013     1\\n7014     1\\n7015     2\\n7016     1\\n7017     2\\n7018     2\\n7019     1\\n7020     1\\n7021     2\\n7022     2\\n7023     2\\n7024     1\\n7025     2\\n7026     2\\n7027     0\\n7028     2\\n7029     0\\n7030     2\\n7031     1\\n7032     2\\n7033     1\\n7034     1\\n7035     2\\n7036     1\\n7037     2\\n7038     1\\n7039     2\\n7040     2\\n7041     1\\n7042     2\\n7043     2\\n7044     1\\n7045     2\\n7046     2\\n7047     2\\n7048     2\\n7049     1\\n7050     2\\n7051     2\\n7052     1\\n7053     2\\n7054     2\\n7055     0\\n7056     2\\n7057     1\\n7058     1\\n7059     2\\n7060     0\\n7061     2\\n7062     2\\n7063     1\\n7064     2\\n7065     2\\n7066     1\\n7067     0\\n7068     2\\n7069     2\\n7070     1\\n7071     2\\n7072     2\\n7073     1\\n7074     2\\n7075     2\\n7076     2\\n7077     1\\n7078     1\\n7079     1\\n7080     2\\n7081     2\\n7082     2\\n7083     2\\n7084     2\\n7085     2\\n7086     2\\n7087     1\\n7088     2\\n7089     2\\n7090     2\\n7091     2\\n7092     1\\n7093     2\\n7094     2\\n7095     1\\n7096     1\\n7097     2\\n7098     0\\n7099     2\\n7100     2\\n7101     1\\n7102     0\\n7103     2\\n7104     1\\n7105     2\\n7106     2\\n7107     2\\n7108     0\\n7109     2\\n7110     1\\n7111     2\\n7112     1\\n7113     1\\n7114     1\\n7115     2\\n7116     1\\n7117     1\\n7118     2\\n7119     2\\n7120     1\\n7121     2\\n7122     1\\n7123     2\\n7124     1\\n7125     2\\n7126     2\\n7127     1\\n7128     2\\n7129     2\\n7130     2\\n7131     1\\n7132     2\\n7133     2\\n7134     2\\n7135     2\\n7136     2\\n7137     2\\n7138     2\\n7139     1\\n7140     1\\n7141     2\\n7142     2\\n7143     2\\n7144     1\\n7145     2\\n7146     0\\n7147     2\\n7148     2\\n7149     1\\n7150     2\\n7151     2\\n7152     1\\n7153     2\\n7154     1\\n7155     0\\n7156     2\\n7157     1\\n7158     1\\n7159     2\\n7160     0\\n7161     1\\n7162     1\\n7163     2\\n7164     1\\n7165     2\\n7166     2\\n7167     2\\n7168     2\\n7169     2\\n7170     1\\n7171     1\\n7172     2\\n7173     2\\n7174     0\\n7175     1\\n7176     1\\n7177     0\\n7178     2\\n7179     2\\n7180     0\\n7181     1\\n7182     1\\n7183     2\\n7184     2\\n7185     2\\n7186     1\\n7187     2\\n7188     1\\n7189     2\\n7190     2\\n7191     1\\n7192     1\\n7193     1\\n7194     1\\n7195     2\\n7196     0\\n7197     1\\n7198     2\\n7199     2\\n7200     1\\n7201     2\\n7202     2\\n7203     1\\n7204     2\\n7205     2\\n7206     2\\n7207     2\\n7208     1\\n7209     2\\n7210     2\\n7211     1\\n7212     1\\n7213     1\\n7214     2\\n7215     2\\n7216     1\\n7217     2\\n7218     2\\n7219     2\\n7220     1\\n7221     2\\n7222     2\\n7223     0\\n7224     1\\n7225     2\\n7226     1\\n7227     2\\n7228     1\\n7229     1\\n7230     1\\n7231     1\\n7232     1\\n7233     2\\n7234     2\\n7235     2\\n7236     1\\n7237     2\\n7238     1\\n7239     2\\n7240     1\\n7241     0\\n7242     1\\n7243     2\\n7244     0\\n7245     2\\n7246     1\\n7247     0\\n7248     2\\n7249     1\\n7250     2\\n7251     2\\n7252     1\\n7253     2\\n7254     1\\n7255     0\\n7256     2\\n7257     2\\n7258     2\\n7259     2\\n7260     1\\n7261     2\\n7262     1\\n7263     1\\n7264     2\\n7265     2\\n7266     1\\n7267     2\\n7268     1\\n7269     2\\n7270     2\\n7271     1\\n7272     1\\n7273     2\\n7274     2\\n7275     1\\n7276     2\\n7277     2\\n7278     2\\n7279     2\\n7280     0\\n7281     0\\n7282     2\\n7283     2\\n7284     2\\n7285     1\\n7286     0\\n7287     2\\n7288     1\\n7289     2\\n7290     2\\n7291     2\\n7292     1\\n7293     2\\n7294     2\\n7295     2\\n7296     0\\n7297     1\\n7298     1\\n7299     1\\n7300     0\\n7301     2\\n7302     1\\n7303     2\\n7304     2\\n7305     2\\n7306     2\\n7307     2\\n7308     2\\n7309     2\\n7310     1\\n7311     2\\n7312     1\\n7313     1\\n7314     2\\n7315     1\\n7316     0\\n7317     1\\n7318     1\\n7319     2\\n7320     0\\n7321     1\\n7322     2\\n7323     2\\n7324     2\\n7325     2\\n7326     1\\n7327     2\\n7328     2\\n7329     0\\n7330     2\\n7331     1\\n7332     2\\n7333     2\\n7334     2\\n7335     0\\n7336     1\\n7337     2\\n7338     1\\n7339     2\\n7340     1\\n7341     1\\n7342     1\\n7343     1\\n7344     1\\n7345     2\\n7346     0\\n7347     0\\n7348     2\\n7349     2\\n7350     0\\n7351     2\\n7352     2\\n7353     2\\n7354     2\\n7355     2\\n7356     0\\n7357     1\\n7358     2\\n7359     2\\n7360     2\\n7361     2\\n7362     2\\n7363     2\\n7364     1\\n7365     2\\n7366     2\\n7367     1\\n7368     2\\n7369     2\\n7370     2\\n7371     2\\n7372     1\\n7373     2\\n7374     1\\n7375     1\\n7376     0\\n7377     2\\n7378     1\\n7379     2\\n7380     1\\n7381     1\\n7382     1\\n7383     2\\n7384     1\\n7385     2\\n7386     2\\n7387     2\\n7388     2\\n7389     1\\n7390     2\\n7391     2\\n7392     2\\n7393     1\\n7394     1\\n7395     2\\n7396     2\\n7397     1\\n7398     0\\n7399     2\\n7400     2\\n7401     1\\n7402     1\\n7403     1\\n7404     1\\n7405     2\\n7406     2\\n7407     1\\n7408     1\\n7409     2\\n7410     0\\n7411     0\\n7412     2\\n7413     1\\n7414     1\\n7415     2\\n7416     2\\n7417     2\\n7418     2\\n7419     2\\n7420     2\\n7421     0\\n7422     0\\n7423     2\\n7424     0\\n7425     1\\n7426     2\\n7427     2\\n7428     0\\n7429     2\\n7430     1\\n7431     1\\n7432     2\\n7433     2\\n7434     2\\n7435     1\\n7436     0\\n7437     1\\n7438     2\\n7439     2\\n7440     2\\n7441     2\\n7442     1\\n7443     1\\n7444     2\\n7445     1\\n7446     1\\n7447     1\\n7448     1\\n7449     1\\n7450     2\\n7451     1\\n7452     2\\n7453     2\\n7454     2\\n7455     1\\n7456     1\\n7457     1\\n7458     2\\n7459     2\\n7460     0\\n7461     2\\n7462     1\\n7463     2\\n7464     1\\n7465     2\\n7466     2\\n7467     1\\n7468     1\\n7469     2\\n7470     2\\n7471     2\\n7472     2\\n7473     2\\n7474     2\\n7475     2\\n7476     2\\n7477     2\\n7478     2\\n7479     1\\n7480     2\\n7481     1\\n7482     1\\n7483     2\\n7484     1\\n7485     1\\n7486     2\\n7487     1\\n7488     1\\n7489     2\\n7490     1\\n7491     2\\n7492     2\\n7493     2\\n7494     2\\n7495     1\\n7496     0\\n7497     2\\n7498     2\\n7499     2\\n7500     1\\n7501     2\\n7502     2\\n7503     0\\n7504     2\\n7505     2\\n7506     0\\n7507     2\\n7508     2\\n7509     1\\n7510     1\\n7511     2\\n7512     2\\n7513     1\\n7514     2\\n7515     0\\n7516     1\\n7517     1\\n7518     1\\n7519     1\\n7520     2\\n7521     0\\n7522     2\\n7523     1\\n7524     2\\n7525     1\\n7526     0\\n7527     2\\n7528     2\\n7529     0\\n7530     2\\n7531     1\\n7532     1\\n7533     2\\n7534     1\\n7535     1\\n7536     1\\n7537     0\\n7538     1\\n7539     1\\n7540     1\\n7541     2\\n7542     0\\n7543     2\\n7544     0\\n7545     1\\n7546     1\\n7547     2\\n7548     1\\n7549     2\\n7550     2\\n7551     1\\n7552     2\\n7553     0\\n7554     2\\n7555     0\\n7556     2\\n7557     1\\n7558     2\\n7559     1\\n7560     0\\n7561     2\\n7562     1\\n7563     2\\n7564     0\\n7565     2\\n7566     2\\n7567     2\\n7568     2\\n7569     2\\n7570     1\\n7571     1\\n7572     2\\n7573     1\\n7574     1\\n7575     1\\n7576     2\\n7577     2\\n7578     2\\n7579     1\\n7580     2\\n7581     2\\n7582     2\\n7583     2\\n7584     1\\n7585     2\\n7586     1\\n7587     2\\n7588     2\\n7589     1\\n7590     1\\n7591     0\\n7592     1\\n7593     2\\n7594     2\\n7595     1\\n7596     1\\n7597     1\\n7598     2\\n7599     2\\n7600     2\\n7601     2\\n7602     2\\n7603     2\\n7604     1\\n7605     2\\n7606     2\\n7607     2\\n7608     2\\n7609     1\\n7610     2\\n7611     1\\n7612     2\\n7613     1\\n7614     2\\n7615     2\\n7616     2\\n7617     1\\n7618     2\\n7619     2\\n7620     1\\n7621     2\\n7622     2\\n7623     2\\n7624     2\\n7625     2\\n7626     2\\n7627     2\\n7628     2\\n7629     2\\n7630     2\\n7631     2\\n7632     2\\n7633     2\\n7634     2\\n7635     2\\n7636     2\\n7637     2\\n7638     1\\n7639     2\\n7640     1\\n7641     2\\n7642     1\\n7643     1\\n7644     1\\n7645     0\\n7646     2\\n7647     2\\n7648     2\\n7649     1\\n7650     2\\n7651     1\\n7652     2\\n7653     1\\n7654     2\\n7655     1\\n7656     2\\n7657     2\\n7658     1\\n7659     1\\n7660     2\\n7661     2\\n7662     2\\n7663     1\\n7664     1\\n7665     2\\n7666     1\\n7667     2\\n7668     0\\n7669     0\\n7670     2\\n7671     2\\n7672     2\\n7673     2\\n7674     2\\n7675     1\\n7676     2\\n7677     0\\n7678     0\\n7679     2\\n7680     2\\n7681     2\\n7682     2\\n7683     1\\n7684     1\\n7685     2\\n7686     1\\n7687     2\\n7688     2\\n7689     2\\n7690     1\\n7691     0\\n7692     2\\n7693     0\\n7694     0\\n7695     1\\n7696     2\\n7697     1\\n7698     0\\n7699     2\\n7700     0\\n7701     2\\n7702     0\\n7703     2\\n7704     1\\n7705     2\\n7706     2\\n7707     2\\n7708     1\\n7709     1\\n7710     1\\n7711     2\\n7712     1\\n7713     2\\n7714     2\\n7715     1\\n7716     1\\n7717     2\\n7718     2\\n7719     2\\n7720     0\\n7721     1\\n7722     2\\n7723     2\\n7724     2\\n7725     1\\n7726     2\\n7727     2\\n7728     2\\n7729     2\\n7730     2\\n7731     0\\n7732     2\\n7733     1\\n7734     2\\n7735     1\\n7736     2\\n7737     1\\n7738     1\\n7739     2\\n7740     1\\n7741     2\\n7742     0\\n7743     1\\n7744     2\\n7745     2\\n7746     0\\n7747     1\\n7748     2\\n7749     2\\n7750     2\\n7751     1\\n7752     1\\n7753     2\\n7754     0\\n7755     0\\n7756     1\\n7757     2\\n7758     2\\n7759     2\\n7760     2\\n7761     0\\n7762     2\\n7763     2\\n7764     2\\n7765     1\\n7766     2\\n7767     1\\n7768     0\\n7769     1\\n7770     2\\n7771     1\\n7772     1\\n7773     2\\n7774     2\\n7775     1\\n7776     2\\n7777     2\\n7778     2\\n7779     0\\n7780     1\\n7781     1\\n7782     2\\n7783     1\\n7784     2\\n7785     0\\n7786     2\\n7787     2\\n7788     2\\n7789     2\\n7790     2\\n7791     1\\n7792     0\\n7793     2\\n7794     2\\n7795     0\\n7796     1\\n7797     2\\n7798     2\\n7799     2\\n7800     2\\n7801     2\\n7802     2\\n7803     1\\n7804     2\\n7805     2\\n7806     1\\n7807     2\\n7808     0\\n7809     2\\n7810     1\\n7811     2\\n7812     2\\n7813     2\\n7814     2\\n7815     2\\n7816     1\\n7817     1\\n7818     2\\n7819     2\\n7820     2\\n7821     2\\n7822     1\\n7823     2\\n7824     2\\n7825     1\\n7826     1\\n7827     2\\n7828     2\\n7829     1\\n7830     1\\n7831     2\\n7832     1\\n7833     1\\n7834     2\\n7835     2\\n7836     0\\n7837     1\\n7838     2\\n7839     2\\n7840     2\\n7841     2\\n7842     1\\n7843     2\\n7844     1\\n7845     1\\n7846     1\\n7847     2\\n7848     2\\n7849     2\\n7850     0\\n7851     1\\n7852     1\\n7853     1\\n7854     1\\n7855     1\\n7856     1\\n7857     2\\n7858     2\\n7859     2\\n7860     2\\n7861     2\\n7862     0\\n7863     1\\n7864     2\\n7865     2\\n7866     2\\n7867     2\\n7868     2\\n7869     1\\n7870     0\\n7871     1\\n7872     2\\n7873     2\\n7874     2\\n7875     1\\n7876     0\\n7877     2\\n7878     0\\n7879     1\\n7880     0\\n7881     2\\n7882     0\\n7883     0\\n7884     2\\n7885     2\\n7886     2\\n7887     2\\n7888     2\\n7889     2\\n7890     2\\n7891     1\\n7892     2\\n7893     2\\n7894     1\\n7895     1\\n7896     1\\n7897     1\\n7898     2\\n7899     1\\n7900     0\\n7901     1\\n7902     1\\n7903     2\\n7904     2\\n7905     1\\n7906     2\\n7907     2\\n7908     2\\n7909     2\\n7910     2\\n7911     1\\n7912     2\\n7913     1\\n7914     2\\n7915     2\\n7916     2\\n7917     0\\n7918     1\\n7919     1\\n7920     0\\n7921     2\\n7922     1\\n7923     2\\n7924     2\\n7925     0\\n7926     1\\n7927     1\\n7928     1\\n7929     2\\n7930     1\\n7931     1\\n7932     2\\n7933     2\\n7934     2\\n7935     2\\n7936     1\\n7937     2\\n7938     2\\n7939     2\\n7940     1\\n7941     2\\n7942     2\\n7943     1\\n7944     2\\n7945     2\\n7946     0\\n7947     2\\n7948     2\\n7949     2\\n7950     1\\n7951     2\\n7952     1\\n7953     2\\n7954     1\\n7955     1\\n7956     2\\n7957     2\\n7958     0\\n7959     0\\n7960     2\\n7961     1\\n7962     2\\n7963     2\\n7964     2\\n7965     2\\n7966     1\\n7967     2\\n7968     2\\n7969     2\\n7970     1\\n7971     1\\n7972     1\\n7973     2\\n7974     2\\n7975     2\\n7976     2\\n7977     2\\n7978     0\\n7979     1\\n7980     2\\n7981     1\\n7982     0\\n7983     1\\n7984     2\\n7985     0\\n7986     1\\n7987     1\\n7988     0\\n7989     1\\n7990     2\\n7991     2\\n7992     1\\n7993     2\\n7994     2\\n7995     1\\n7996     2\\n7997     2\\n7998     2\\n7999     0\\n8000     2\\n8001     2\\n8002     2\\n8003     2\\n8004     2\\n8005     0\\n8006     2\\n8007     2\\n8008     2\\n8009     2\\n8010     2\\n8011     1\\n8012     2\\n8013     1\\n8014     0\\n8015     1\\n8016     2\\n8017     2\\n8018     1\\n8019     1\\n8020     2\\n8021     1\\n8022     0\\n8023     1\\n8024     2\\n8025     2\\n8026     2\\n8027     2\\n8028     2\\n8029     2\\n8030     2\\n8031     2\\n8032     2\\n8033     2\\n8034     2\\n8035     2\\n8036     1\\n8037     2\\n8038     2\\n8039     2\\n8040     1\\n8041     2\\n8042     1\\n8043     2\\n8044     1\\n8045     1\\n8046     2\\n8047     2\\n8048     0\\n8049     0\\n8050     2\\n8051     1\\n8052     2\\n8053     1\\n8054     2\\n8055     2\\n8056     1\\n8057     1\\n8058     2\\n8059     1\\n8060     2\\n8061     1\\n8062     1\\n8063     2\\n8064     2\\n8065     2\\n8066     2\\n8067     2\\n8068     2\\n8069     2\\n8070     2\\n8071     2\\n8072     2\\n8073     1\\n8074     1\\n8075     0\\n8076     1\\n8077     2\\n8078     2\\n8079     1\\n8080     1\\n8081     1\\n8082     2\\n8083     2\\n8084     1\\n8085     1\\n8086     1\\n8087     2\\n8088     1\\n8089     1\\n8090     2\\n8091     1\\n8092     0\\n8093     1\\n8094     2\\n8095     2\\n8096     2\\n8097     2\\n8098     1\\n8099     1\\n8100     2\\n8101     2\\n8102     2\\n8103     1\\n8104     1\\n8105     2\\n8106     2\\n8107     2\\n8108     2\\n8109     0\\n8110     2\\n8111     2\\n8112     0\\n8113     2\\n8114     0\\n8115     1\\n8116     2\\n8117     2\\n8118     2\\n8119     1\\n8120     1\\n8121     1\\n8122     2\\n8123     1\\n8124     2\\n8125     1\\n8126     0\\n8127     2\\n8128     2\\n8129     2\\n8130     2\\n8131     1\\n8132     0\\n8133     1\\n8134     2\\n8135     2\\n8136     2\\n8137     1\\n8138     2\\n8139     1\\n8140     0\\n8141     1\\n8142     1\\n8143     2\\n8144     2\\n8145     1\\n8146     2\\n8147     1\\n8148     0\\n8149     2\\n8150     1\\n8151     2\\n8152     2\\n8153     2\\n8154     1\\n8155     2\\n8156     2\\n8157     1\\n8158     2\\n8159     1\\n8160     1\\n8161     1\\n8162     1\\n8163     1\\n8164     1\\n8165     1\\n8166     2\\n8167     1\\n8168     1\\n8169     0\\n8170     2\\n8171     1\\n8172     2\\n8173     2\\n8174     1\\n8175     1\\n8176     2\\n8177     2\\n8178     2\\n8179     1\\n8180     2\\n8181     1\\n8182     1\\n8183     1\\n8184     2\\n8185     1\\n8186     1\\n8187     1\\n8188     2\\n8189     2\\n8190     1\\n8191     1\\n8192     2\\n8193     1\\n8194     2\\n8195     0\\n8196     2\\n8197     2\\n8198     1\\n8199     1\\n8200     2\\n8201     1\\n8202     1\\n8203     2\\n8204     2\\n8205     2\\n8206     2\\n8207     2\\n8208     2\\n8209     2\\n8210     1\\n8211     2\\n8212     2\\n8213     2\\n8214     1\\n8215     2\\n8216     2\\n8217     1\\n8218     2\\n8219     2\\n8220     1\\n8221     1\\n8222     1\\n8223     2\\n8224     2\\n8225     1\\n8226     2\\n8227     1\\n8228     2\\n8229     2\\n8230     2\\n8231     2\\n8232     1\\n8233     2\\n8234     1\\n8235     2\\n8236     2\\n8237     2\\n8238     0\\n8239     2\\n8240     2\\n8241     2\\n8242     2\\n8243     2\\n8244     1\\n8245     1\\n8246     2\\n8247     0\\n8248     2\\n8249     1\\n8250     2\\n8251     1\\n8252     1\\n8253     1\\n8254     0\\n8255     2\\n8256     1\\n8257     0\\n8258     1\\n8259     2\\n8260     2\\n8261     2\\n8262     2\\n8263     1\\n8264     2\\n8265     2\\n8266     0\\n8267     1\\n8268     1\\n8269     2\\n8270     1\\n8271     1\\n8272     2\\n8273     2\\n8274     1\\n8275     2\\n8276     2\\n8277     2\\n8278     2\\n8279     2\\n8280     1\\n8281     2\\n8282     1\\n8283     2\\n8284     2\\n8285     2\\n8286     1\\n8287     2\\n8288     2\\n8289     2\\n8290     2\\n8291     2\\n8292     2\\n8293     2\\n8294     1\\n8295     2\\n8296     2\\n8297     0\\n8298     2\\n8299     1\\n8300     1\\n8301     1\\n8302     2\\n8303     2\\n8304     2\\n8305     1\\n8306     1\\n8307     2\\n8308     1\\n8309     2\\n8310     0\\n8311     1\\n8312     2\\n8313     1\\n8314     1\\n8315     1\\n8316     2\\n8317     2\\n8318     2\\n8319     0\\n8320     1\\n8321     1\\n8322     2\\n8323     1\\n8324     2\\n8325     2\\n8326     2\\n8327     1\\n8328     1\\n8329     1\\n8330     0\\n8331     2\\n8332     1\\n8333     0\\n8334     0\\n8335     1\\n8336     2\\n8337     2\\n8338     2\\n8339     1\\n8340     1\\n8341     2\\n8342     2\\n8343     2\\n8344     2\\n8345     2\\n8346     2\\n8347     1\\n8348     2\\n8349     1\\n8350     2\\n8351     1\\n8352     1\\n8353     2\\n8354     0\\n8355     0\\n8356     1\\n8357     2\\n8358     2\\n8359     2\\n8360     1\\n8361     2\\n8362     1\\n8363     1\\n8364     1\\n8365     2\\n8366     2\\n8367     2\\n8368     2\\n8369     2\\n8370     2\\n8371     2\\n8372     1\\n8373     1\\n8374     2\\n8375     2\\n8376     2\\n8377     1\\n8378     2\\n8379     2\\n8380     2\\n8381     2\\n8382     0\\n8383     1\\n8384     0\\n8385     1\\n8386     2\\n8387     2\\n8388     0\\n8389     0\\n8390     2\\n8391     2\\n8392     1\\n8393     2\\n8394     0\\n8395     2\\n8396     2\\n8397     1\\n8398     2\\n8399     2\\n8400     2\\n8401     2\\n8402     2\\n8403     1\\n8404     2\\n8405     2\\n8406     2\\n8407     2\\n8408     2\\n8409     0\\n8410     2\\n8411     1\\n8412     2\\n8413     2\\n8414     1\\n8415     2\\n8416     0\\n8417     2\\n8418     1\\n8419     2\\n8420     1\\n8421     1\\n8422     1\\n8423     1\\n8424     2\\n8425     2\\n8426     2\\n8427     1\\n8428     2\\n8429     2\\n8430     0\\n8431     2\\n8432     2\\n8433     2\\n8434     2\\n8435     1\\n8436     2\\n8437     2\\n8438     0\\n8439     1\\n8440     1\\n8441     1\\n8442     2\\n8443     1\\n8444     1\\n8445     1\\n8446     2\\n8447     2\\n8448     1\\n8449     2\\n8450     2\\n8451     1\\n8452     2\\n8453     2\\n8454     2\\n8455     2\\n8456     2\\n8457     2\\n8458     2\\n8459     2\\n8460     2\\n8461     2\\n8462     0\\n8463     1\\n8464     2\\n8465     2\\n8466     0\\n8467     1\\n8468     2\\n8469     2\\n8470     1\\n8471     2\\n8472     1\\n8473     2\\n8474     2\\n8475     1\\n8476     2\\n8477     2\\n8478     2\\n8479     1\\n8480     2\\n8481     2\\n8482     1\\n8483     2\\n8484     0\\n8485     1\\n8486     2\\n8487     1\\n8488     1\\n8489     1\\n8490     2\\n8491     1\\n8492     2\\n8493     2\\n8494     2\\n8495     2\\n8496     2\\n8497     2\\n8498     1\\n8499     2\\n8500     2\\n8501     2\\n8502     2\\n8503     2\\n8504     1\\n8505     1\\n8506     1\\n8507     2\\n8508     2\\n8509     2\\n8510     2\\n8511     1\\n8512     0\\n8513     2\\n8514     2\\n8515     1\\n8516     1\\n8517     2\\n8518     0\\n8519     2\\n8520     2\\n8521     1\\n8522     2\\n8523     1\\n8524     2\\n8525     2\\n8526     2\\n8527     1\\n8528     2\\n8529     1\\n8530     1\\n8531     2\\n8532     2\\n8533     2\\n8534     2\\n8535     2\\n8536     1\\n8537     0\\n8538     1\\n8539     2\\n8540     1\\n8541     1\\n8542     2\\n8543     0\\n8544     2\\n8545     2\\n8546     2\\n8547     2\\n8548     2\\n8549     2\\n8550     2\\n8551     2\\n8552     2\\n8553     2\\n8554     1\\n8555     1\\n8556     1\\n8557     2\\n8558     1\\n8559     1\\n8560     2\\n8561     2\\n8562     1\\n8563     1\\n8564     2\\n8565     2\\n8566     1\\n8567     2\\n8568     0\\n8569     2\\n8570     2\\n8571     2\\n8572     2\\n8573     2\\n8574     0\\n8575     2\\n8576     2\\n8577     1\\n8578     1\\n8579     0\\n8580     0\\n8581     2\\n8582     2\\n8583     2\\n8584     2\\n8585     1\\n8586     2\\n8587     2\\n8588     1\\n8589     2\\n8590     2\\n8591     0\\n8592     2\\n8593     1\\n8594     1\\n8595     1\\n8596     1\\n8597     2\\n8598     2\\n8599     2\\n8600     2\\n8601     2\\n8602     0\\n8603     2\\n8604     1\\n8605     2\\n8606     0\\n8607     2\\n8608     2\\n8609     2\\n8610     2\\n8611     2\\n8612     2\\n8613     2\\n8614     1\\n8615     1\\n8616     1\\n8617     0\\n8618     2\\n8619     2\\n8620     1\\n8621     2\\n8622     0\\n8623     1\\n8624     2\\n8625     2\\n8626     2\\n8627     2\\n8628     1\\n8629     2\\n8630     1\\n8631     1\\n8632     1\\n8633     2\\n8634     2\\n8635     2\\n8636     1\\n8637     2\\n8638     1\\n8639     2\\n8640     0\\n8641     2\\n8642     2\\n8643     1\\n8644     2\\n8645     2\\n8646     1\\n8647     1\\n8648     1\\n8649     2\\n8650     1\\n8651     1\\n8652     0\\n8653     1\\n8654     0\\n8655     2\\n8656     2\\n8657     1\\n8658     2\\n8659     1\\n8660     1\\n8661     2\\n8662     0\\n8663     2\\n8664     2\\n8665     1\\n8666     2\\n8667     2\\n8668     2\\n8669     2\\n8670     1\\n8671     2\\n8672     1\\n8673     1\\n8674     2\\n8675     2\\n8676     2\\n8677     1\\n8678     0\\n8679     1\\n8680     1\\n8681     2\\n8682     1\\n8683     2\\n8684     2\\n8685     0\\n8686     2\\n8687     1\\n8688     2\\n8689     1\\n8690     1\\n8691     2\\n8692     2\\n8693     2\\n8694     2\\n8695     2\\n8696     2\\n8697     2\\n8698     1\\n8699     1\\n8700     1\\n8701     1\\n8702     1\\n8703     2\\n8704     1\\n8705     2\\n8706     2\\n8707     2\\n8708     1\\n8709     2\\n8710     0\\n8711     1\\n8712     2\\n8713     2\\n8714     1\\n8715     2\\n8716     2\\n8717     2\\n8718     1\\n8719     2\\n8720     2\\n8721     2\\n8722     2\\n8723     1\\n8724     2\\n8725     2\\n8726     2\\n8727     1\\n8728     2\\n8729     1\\n8730     2\\n8731     2\\n8732     2\\n8733     1\\n8734     2\\n8735     1\\n8736     2\\n8737     0\\n8738     2\\n8739     2\\n8740     1\\n8741     2\\n8742     2\\n8743     2\\n8744     0\\n8745     2\\n8746     2\\n8747     2\\n8748     2\\n8749     1\\n8750     2\\n8751     2\\n8752     2\\n8753     0\\n8754     2\\n8755     2\\n8756     2\\n8757     2\\n8758     1\\n8759     2\\n8760     2\\n8761     2\\n8762     2\\n8763     2\\n8764     2\\n8765     2\\n8766     2\\n8767     2\\n8768     2\\n8769     0\\n8770     1\\n8771     2\\n8772     2\\n8773     2\\n8774     2\\n8775     2\\n8776     2\\n8777     2\\n8778     2\\n8779     2\\n8780     1\\n8781     2\\n8782     0\\n8783     2\\n8784     1\\n8785     1\\n8786     1\\n8787     1\\n8788     2\\n8789     1\\n8790     2\\n8791     1\\n8792     1\\n8793     2\\n8794     2\\n8795     1\\n8796     0\\n8797     2\\n8798     2\\n8799     1\\n8800     2\\n8801     2\\n8802     1\\n8803     1\\n8804     1\\n8805     2\\n8806     1\\n8807     1\\n8808     1\\n8809     2\\n8810     1\\n8811     0\\n8812     2\\n8813     0\\n8814     0\\n8815     2\\n8816     1\\n8817     1\\n8818     0\\n8819     2\\n8820     2\\n8821     2\\n8822     1\\n8823     2\\n8824     2\\n8825     2\\n8826     2\\n8827     2\\n8828     2\\n8829     1\\n8830     2\\n8831     0\\n8832     1\\n8833     0\\n8834     0\\n8835     1\\n8836     2\\n8837     2\\n8838     1\\n8839     2\\n8840     2\\n8841     2\\n8842     1\\n8843     1\\n8844     1\\n8845     0\\n8846     2\\n8847     2\\n8848     1\\n8849     2\\n8850     2\\n8851     2\\n8852     1\\n8853     2\\n8854     2\\n8855     2\\n8856     2\\n8857     2\\n8858     2\\n8859     2\\n8860     2\\n8861     1\\n8862     2\\n8863     1\\n8864     2\\n8865     1\\n8866     2\\n8867     1\\n8868     1\\n8869     2\\n8870     1\\n8871     2\\n8872     1\\n8873     2\\n8874     0\\n8875     2\\n8876     2\\n8877     0\\n8878     1\\n8879     2\\n8880     2\\n8881     1\\n8882     0\\n8883     2\\n8884     2\\n8885     2\\n8886     2\\n8887     1\\n8888     1\\n8889     1\\n8890     2\\n8891     0\\n8892     2\\n8893     2\\n8894     2\\n8895     2\\n8896     1\\n8897     2\\n8898     2\\n8899     2\\n8900     2\\n8901     2\\n8902     2\\n8903     1\\n8904     2\\n8905     2\\n8906     2\\n8907     2\\n8908     2\\n8909     2\\n8910     2\\n8911     1\\n8912     2\\n8913     2\\n8914     0\\n8915     2\\n8916     2\\n8917     2\\n8918     2\\n8919     1\\n8920     2\\n8921     1\\n8922     1\\n8923     2\\n8924     2\\n8925     1\\n8926     2\\n8927     2\\n8928     2\\n8929     1\\n8930     2\\n8931     2\\n8932     2\\n8933     1\\n8934     1\\n8935     2\\n8936     1\\n8937     2\\n8938     2\\n8939     1\\n8940     2\\n8941     2\\n8942     1\\n8943     2\\n8944     1\\n8945     2\\n8946     2\\n8947     0\\n8948     1\\n8949     2\\n8950     1\\n8951     2\\n8952     0\\n8953     1\\n8954     2\\n8955     2\\n8956     0\\n8957     1\\n8958     1\\n8959     2\\n8960     0\\n8961     2\\n8962     1\\n8963     2\\n8964     1\\n8965     1\\n8966     1\\n8967     1\\n8968     0\\n8969     2\\n8970     2\\n8971     1\\n8972     1\\n8973     2\\n8974     2\\n8975     2\\n8976     2\\n8977     2\\n8978     2\\n8979     1\\n8980     2\\n8981     1\\n8982     1\\n8983     0\\n8984     2\\n8985     1\\n8986     1\\n8987     1\\n8988     2\\n8989     2\\n8990     2\\n8991     0\\n8992     2\\n8993     1\\n8994     1\\n8995     0\\n8996     2\\n8997     2\\n8998     2\\n8999     2\\n9000     1\\n9001     2\\n9002     2\\n9003     2\\n9004     1\\n9005     1\\n9006     1\\n9007     2\\n9008     2\\n9009     1\\n9010     2\\n9011     2\\n9012     2\\n9013     1\\n9014     2\\n9015     2\\n9016     0\\n9017     2\\n9018     1\\n9019     2\\n9020     1\\n9021     1\\n9022     0\\n9023     2\\n9024     2\\n9025     0\\n9026     2\\n9027     2\\n9028     1\\n9029     2\\n9030     2\\n9031     1\\n9032     2\\n9033     1\\n9034     2\\n9035     2\\n9036     2\\n9037     1\\n9038     2\\n9039     2\\n9040     2\\n9041     2\\n9042     2\\n9043     2\\n9044     1\\n9045     2\\n9046     1\\n9047     1\\n9048     1\\n9049     2\\n9050     1\\n9051     2\\n9052     2\\n9053     2\\n9054     2\\n9055     2\\n9056     2\\n9057     2\\n9058     2\\n9059     2\\n9060     1\\n9061     2\\n9062     2\\n9063     1\\n9064     2\\n9065     1\\n9066     2\\n9067     1\\n9068     1\\n9069     1\\n9070     2\\n9071     2\\n9072     1\\n9073     2\\n9074     0\\n9075     2\\n9076     1\\n9077     1\\n9078     1\\n9079     1\\n9080     2\\n9081     1\\n9082     1\\n9083     2\\n9084     1\\n9085     1\\n9086     0\\n9087     1\\n9088     0\\n9089     1\\n9090     2\\n9091     1\\n9092     0\\n9093     2\\n9094     0\\n9095     1\\n9096     1\\n9097     1\\n9098     2\\n9099     2\\n9100     2\\n9101     2\\n9102     2\\n9103     2\\n9104     2\\n9105     1\\n9106     1\\n9107     2\\n9108     2\\n9109     2\\n9110     2\\n9111     2\\n9112     2\\n9113     0\\n9114     2\\n9115     2\\n9116     1\\n9117     2\\n9118     0\\n9119     2\\n9120     0\\n9121     1\\n9122     1\\n9123     1\\n9124     1\\n9125     1\\n9126     1\\n9127     2\\n9128     1\\n9129     0\\n9130     2\\n9131     2\\n9132     2\\n9133     2\\n9134     2\\n9135     1\\n9136     1\\n9137     0\\n9138     2\\n9139     1\\n9140     1\\n9141     1\\n9142     2\\n9143     2\\n9144     2\\n9145     2\\n9146     0\\n9147     1\\n9148     0\\n9149     1\\n9150     2\\n9151     1\\n9152     2\\n9153     2\\n9154     2\\n9155     2\\n9156     1\\n9157     1\\n9158     2\\n9159     0\\n9160     2\\n9161     2\\n9162     1\\n9163     1\\n9164     0\\n9165     1\\n9166     2\\n9167     2\\n9168     2\\n9169     2\\n9170     1\\n9171     2\\n9172     2\\n9173     1\\n9174     2\\n9175     1\\n9176     2\\n9177     1\\n9178     2\\n9179     0\\n9180     2\\n9181     1\\n9182     1\\n9183     1\\n9184     2\\n9185     0\\n9186     2\\n9187     0\\n9188     2\\n9189     2\\n9190     2\\n9191     2\\n9192     1\\n9193     2\\n9194     1\\n9195     0\\n9196     1\\n9197     2\\n9198     2\\n9199     0\\n9200     1\\n9201     1\\n9202     0\\n9203     1\\n9204     1\\n9205     2\\n9206     2\\n9207     1\\n9208     2\\n9209     2\\n9210     0\\n9211     2\\n9212     2\\n9213     1\\n9214     2\\n9215     2\\n9216     1\\n9217     2\\n9218     2\\n9219     2\\n9220     2\\n9221     2\\n9222     2\\n9223     2\\n9224     2\\n9225     1\\n9226     2\\n9227     1\\n9228     2\\n9229     2\\n9230     2\\n9231     1\\n9232     2\\n9233     1\\n9234     2\\n9235     2\\n9236     2\\n9237     2\\n9238     2\\n9239     0\\n9240     2\\n9241     2\\n9242     2\\n9243     1\\n9244     2\\n9245     2\\n9246     2\\n9247     1\\n9248     0\\n9249     2\\n9250     0\\n9251     1\\n9252     0\\n9253     2\\n9254     1\\n9255     1\\n9256     2\\n9257     1\\n9258     1\\n9259     1\\n9260     1\\n9261     2\\n9262     1\\n9263     2\\n9264     2\\n9265     2\\n9266     2\\n9267     2\\n9268     2\\n9269     2\\n9270     1\\n9271     2\\n9272     2\\n9273     1\\n9274     1\\n9275     2\\n9276     2\\n9277     1\\n9278     1\\n9279     0\\n9280     1\\n9281     0\\n9282     1\\n9283     2\\n9284     0\\n9285     2\\n9286     1\\n9287     1\\n9288     2\\n9289     1\\n9290     2\\n9291     1\\n9292     1\\n9293     1\\n9294     1\\n9295     2\\n9296     2\\n9297     2\\n9298     2\\n9299     1\\n9300     2\\n9301     2\\n9302     1\\n9303     1\\n9304     0\\n9305     2\\n9306     2\\n9307     1\\n9308     2\\n9309     2\\n9310     1\\n9311     2\\n9312     2\\n9313     2\\n9314     1\\n9315     1\\n9316     2\\n9317     1\\n9318     1\\n9319     2\\n9320     0\\n9321     1\\n9322     2\\n9323     2\\n9324     2\\n9325     1\\n9326     2\\n9327     2\\n9328     2\\n9329     1\\n9330     2\\n9331     1\\n9332     2\\n9333     2\\n9334     1\\n9335     1\\n9336     1\\n9337     2\\n9338     1\\n9339     2\\n9340     2\\n9341     2\\n9342     0\\n9343     2\\n9344     2\\n9345     2\\n9346     1\\n9347     2\\n9348     2\\n9349     2\\n9350     2\\n9351     2\\n9352     1\\n9353     0\\n9354     2\\n9355     2\\n9356     2\\n9357     0\\n9358     1\\n9359     2\\n9360     2\\n9361     1\\n9362     1\\n9363     1\\n9364     2\\n9365     1\\n9366     2\\n9367     0\\n9368     2\\n9369     1\\n9370     2\\n9371     1\\n9372     1\\n9373     1\\n9374     2\\n9375     1\\n9376     1\\n9377     2\\n9378     1\\n9379     2\\n9380     2\\n9381     2\\n9382     2\\n9383     1\\n9384     1\\n9385     2\\n9386     2\\n9387     0\\n9388     2\\n9389     1\\n9390     2\\n9391     2\\n9392     0\\n9393     1\\n9394     2\\n9395     2\\n9396     1\\n9397     2\\n9398     2\\n9399     1\\n9400     1\\n9401     1\\n9402     2\\n9403     2\\n9404     1\\n9405     1\\n9406     1\\n9407     1\\n9408     1\\n9409     1\\n9410     2\\n9411     2\\n9412     1\\n9413     2\\n9414     2\\n9415     0\\n9416     0\\n9417     2\\n9418     2\\n9419     1\\n9420     2\\n9421     1\\n9422     1\\n9423     1\\n9424     2\\n9425     2\\n9426     2\\n9427     2\\n9428     1\\n9429     0\\n9430     0\\n9431     1\\n9432     2\\n9433     2\\n9434     2\\n9435     2\\n9436     2\\n9437     2\\n9438     2\\n9439     2\\n9440     1\\n9441     1\\n9442     1\\n9443     1\\n9444     0\\n9445     0\\n9446     1\\n9447     2\\n9448     2\\n9449     1\\n9450     0\\n9451     1\\n9452     1\\n9453     2\\n9454     1\\n9455     1\\n9456     2\\n9457     1\\n9458     1\\n9459     2\\n9460     0\\n9461     2\\n9462     2\\n9463     1\\n9464     2\\n9465     1\\n9466     2\\n9467     2\\n9468     2\\n9469     0\\n9470     2\\n9471     2\\n9472     1\\n9473     1\\n9474     1\\n9475     2\\n9476     1\\n9477     2\\n9478     0\\n9479     1\\n9480     2\\n9481     2\\n9482     2\\n9483     2\\n9484     1\\n9485     2\\n9486     2\\n9487     1\\n9488     1\\n9489     1\\n9490     1\\n9491     0\\n9492     2\\n9493     1\\n9494     0\\n9495     1\\n9496     2\\n9497     2\\n9498     0\\n9499     1\\n9500     2\\n9501     2\\n9502     0\\n9503     2\\n9504     1\\n9505     2\\n9506     2\\n9507     2\\n9508     2\\n9509     2\\n9510     2\\n9511     1\\n9512     1\\n9513     2\\n9514     0\\n9515     2\\n9516     2\\n9517     1\\n9518     2\\n9519     2\\n9520     1\\n9521     2\\n9522     2\\n9523     1\\n9524     1\\n9525     1\\n9526     1\\n9527     2\\n9528     2\\n9529     0\\n9530     2\\n9531     2\\n9532     2\\n9533     2\\n9534     2\\n9535     0\\n9536     2\\n9537     2\\n9538     2\\n9539     2\\n9540     0\\n9541     2\\n9542     1\\n9543     1\\n9544     2\\n9545     1\\n9546     2\\n9547     0\\n9548     2\\n9549     1\\n9550     2\\n9551     2\\n9552     1\\n9553     2\\n9554     1\\n9555     1\\n9556     2\\n9557     2\\n9558     1\\n9559     1\\n9560     2\\n9561     1\\n9562     2\\n9563     1\\n9564     2\\n9565     2\\n9566     1\\n9567     0\\n9568     1\\n9569     2\\n9570     1\\n9571     1\\n9572     0\\n9573     2\\n9574     1\\n9575     2\\n9576     2\\n9577     1\\n9578     2\\n9579     1\\n9580     1\\n9581     2\\n9582     2\\n9583     1\\n9584     2\\n9585     1\\n9586     2\\n9587     2\\n9588     1\\n9589     1\\n9590     2\\n9591     2\\n9592     2\\n9593     2\\n9594     2\\n9595     1\\n9596     1\\n9597     1\\n9598     1\\n9599     1\\n9600     2\\n9601     2\\n9602     2\\n9603     2\\n9604     2\\n9605     2\\n9606     2\\n9607     2\\n9608     2\\n9609     1\\n9610     2\\n9611     2\\n9612     1\\n9613     2\\n9614     2\\n9615     2\\n9616     2\\n9617     2\\n9618     1\\n9619     0\\n9620     1\\n9621     1\\n9622     1\\n9623     0\\n9624     2\\n9625     2\\n9626     2\\n9627     2\\n9628     1\\n9629     0\\n9630     2\\n9631     2\\n9632     2\\n9633     2\\n9634     2\\n9635     2\\n9636     2\\n9637     2\\n9638     2\\n9639     2\\n9640     2\\n9641     0\\n9642     2\\n9643     1\\n9644     2\\n9645     0\\n9646     0\\n9647     0\\n9648     1\\n9649     2\\n9650     1\\n9651     0\\n9652     2\\n9653     1\\n9654     1\\n9655     2\\n9656     2\\n9657     2\\n9658     0\\n9659     1\\n9660     1\\n9661     1\\n9662     1\\n9663     0\\n9664     2\\n9665     0\\n9666     2\\n9667     0\\n9668     1\\n9669     1\\n9670     1\\n9671     0\\n9672     2\\n9673     1\\n9674     2\\n9675     2\\n9676     1\\n9677     1\\n9678     2\\n9679     2\\n9680     2\\n9681     2\\n9682     2\\n9683     1\\n9684     1\\n9685     0\\n9686     2\\n9687     2\\n9688     2\\n9689     0\\n9690     2\\n9691     2\\n9692     2\\n9693     2\\n9694     2\\n9695     1\\n9696     2\\n9697     1\\n9698     1\\n9699     2\\n9700     2\\n9701     1\\n9702     1\\n9703     2\\n9704     2\\n9705     1\\n9706     1\\n9707     2\\n9708     0\\n9709     1\\n9710     1\\n9711     0\\n9712     1\\n9713     2\\n9714     2\\n9715     1\\n9716     2\\n9717     1\\n9718     2\\n9719     2\\n9720     2\\n9721     2\\n9722     2\\n9723     1\\n9724     0\\n9725     2\\n9726     1\\n9727     2\\n9728     2\\n9729     2\\n9730     1\\n9731     2\\n9732     2\\n9733     2\\n9734     2\\n9735     1\\n9736     0\\n9737     1\\n9738     2\\n9739     2\\n9740     1\\n9741     2\\n9742     0\\n9743     1\\n9744     1\\n9745     2\\n9746     1\\n9747     2\\n9748     2\\n9749     1\\n9750     2\\n9751     1\\n9752     1\\n9753     2\\n9754     1\\n9755     1\\n9756     2\\n9757     2\\n9758     2\\n9759     2\\n9760     0\\n9761     2\\n9762     1\\n9763     1\\n9764     2\\n9765     0\\n9766     2\\n9767     2\\n9768     1\\n9769     1\\n9770     0\\n9771     0\\n9772     1\\n9773     2\\n9774     2\\n9775     2\\n9776     1\\n9777     2\\n9778     2\\n9779     2\\n9780     0\\n9781     2\\n9782     2\\n9783     2\\n9784     2\\n9785     1\\n9786     2\\n9787     1\\n9788     2\\n9789     1\\n9790     2\\n9791     1\\n9792     1\\n9793     2\\n9794     2\\n9795     0\\n9796     2\\n9797     2\\n9798     1\\n9799     0\\n9800     0\\n9801     0\\n9802     2\\n9803     0\\n9804     1\\n9805     2\\n9806     2\\n9807     1\\n9808     1\\n9809     2\\n9810     2\\n9811     2\\n9812     2\\n9813     2\\n9814     2\\n9815     2\\n9816     0\\n9817     2\\n9818     1\\n9819     0\\n9820     1\\n9821     1\\n9822     1\\n9823     1\\n9824     2\\n9825     2\\n9826     2\\n9827     0\\n9828     2\\n9829     2\\n9830     0\\n9831     2\\n9832     2\\n9833     2\\n9834     1\\n9835     1\\n9836     2\\n9837     2\\n9838     1\\n9839     2\\n9840     2\\n9841     2\\n9842     2\\n9843     2\\n9844     1\\n9845     1\\n9846     2\\n9847     1\\n9848     2\\n9849     2\\n9850     2\\n9851     1\\n9852     2\\n9853     0\\n9854     2\\n9855     2\\n9856     2\\n9857     2\\n9858     2\\n9859     1\\n9860     1\\n9861     1\\n9862     2\\n9863     1\\n9864     2\\n9865     2\\n9866     1\\n9867     2\\n9868     2\\n9869     1\\n9870     1\\n9871     2\\n9872     1\\n9873     1\\n9874     2\\n9875     2\\n9876     1\\n9877     1\\n9878     2\\n9879     1\\n9880     2\\n9881     1\\n9882     2\\n9883     1\\n9884     2\\n9885     2\\n9886     2\\n9887     1\\n9888     1\\n9889     2\\n9890     2\\n9891     2\\n9892     2\\n9893     2\\n9894     0\\n9895     0\\n9896     1\\n9897     2\\n9898     1\\n9899     0\\n9900     2\\n9901     1\\n9902     2\\n9903     0\\n9904     1\\n9905     0\\n9906     1\\n9907     2\\n9908     2\\n9909     1\\n9910     1\\n9911     1\\n9912     2\\n9913     2\\n9914     2\\n9915     2\\n9916     2\\n9917     0\\n9918     1\\n9919     2\\n9920     2\\n9921     2\\n9922     1\\n9923     2\\n9924     2\\n9925     1\\n9926     2\\n9927     2\\n9928     1\\n9929     2\\n9930     2\\n9931     2\\n9932     1\\n9933     1\\n9934     2\\n9935     2\\n9936     0\\n9937     0\\n9938     0\\n9939     2\\n9940     2\\n9941     2\\n9942     1\\n9943     0\\n9944     2\\n9945     2\\n9946     2\\n9947     0\\n9948     2\\n9949     1\\n9950     1\\n9951     1\\n9952     0\\n9953     1\\n9954     1\\n9955     1\\n9956     2\\n9957     2\\n9958     2\\n9959     1\\n9960     1\\n9961     2\\n9962     2\\n9963     2\\n9964     2\\n9965     0\\n9966     2\\n9967     2\\n9968     2\\n9969     1\\n9970     2\\n9971     2\\n9972     2\\n9973     2\\n9974     2\\n9975     2\\n9976     1\\n9977     2\\n9978     2\\n9979     1\\n9980     1\\n9981     1\\n9982     1\\n9983     0\\n9984     1\\n9985     2\\n9986     2\\n9987     1\\n9988     2\\n9989     1\\n9990     2\\n9991     2\\n9992     1\\n9993     1\\n9994     2\\n9995     1\\n9996     2\\n9997     1\\n9998     2\\n9999     0\\n10000    2\\n10001    1\\n10002    1\\n10003    2\\n10004    2\\n10005    2\\n10006    2\\n10007    0\\n10008    2\\n10009    1\\n10010    2\\n10011    1\\n10012    1\\n10013    2\\n10014    1\\n10015    2\\n10016    2\\n10017    2\\n10018    2\\n10019    2\\n10020    2\\n10021    2\\n10022    2\\n10023    2\\n10024    1\\n10025    2\\n10026    1\\n10027    2\\n10028    2\\n10029    2\\n10030    2\\n10031    2\\n10032    2\\n10033    2\\n10034    2\\n10035    1\\n10036    2\\n10037    2\\n10038    2\\n10039    2\\n10040    2\\n10041    2\\n10042    2\\n10043    2\\n10044    1\\n10045    0\\n10046    2\\n10047    1\\n10048    2\\n10049    1\\n10050    2\\n10051    2\\n10052    2\\n10053    2\\n10054    2\\n10055    1\\n10056    1\\n10057    1\\n10058    2\\n10059    2\\n10060    1\\n10061    1\\n10062    2\\n10063    1\\n10064    2\\n10065    0\\n10066    1\\n10067    2\\n10068    1\\n10069    1\\n10070    2\\n10071    1\\n10072    2\\n10073    0\\n10074    2\\n10075    2\\n10076    1\\n10077    2\\n10078    2\\n10079    1\\n10080    1\\n10081    0\\n10082    0\\n10083    1\\n10084    2\\n10085    2\\n10086    2\\n10087    2\\n10088    0\\n10089    0\\n10090    2\\n10091    2\\n10092    1\\n10093    1\\n10094    1\\n10095    1\\n10096    2\\n10097    0\\n10098    2\\n10099    1\\n10100    2\\n10101    2\\n10102    2\\n10103    2\\n10104    2\\n10105    2\\n10106    2\\n10107    1\\n10108    2\\n10109    0\\n10110    2\\n10111    1\\n10112    2\\n10113    1\\n10114    2\\n10115    2\\n10116    2\\n10117    2\\n10118    1\\n10119    2\\n10120    1\\n10121    0\\n10122    1\\n10123    1\\n10124    1\\n10125    1\\n10126    1\\n10127    0\\n10128    1\\n10129    1\\n10130    2\\n10131    2\\n10132    2\\n10133    2\\n10134    2\\n10135    0\\n10136    1\\n10137    2\\n10138    0\\n10139    2\\n10140    2\\n10141    2\\n10142    2\\n10143    2\\n10144    1\\n10145    1\\n10146    1\\n10147    1\\n10148    1\\n10149    2\\n10150    2\\n10151    0\\n10152    2\\n10153    1\\n10154    1\\n10155    1\\n10156    2\\n10157    2\\n10158    2\\n10159    2\\n10160    2\\n10161    1\\n10162    2\\n10163    2\\n10164    2\\n10165    2\\n10166    2\\n10167    2\\n10168    1\\n10169    2\\n10170    1\\n10171    2\\n10172    1\\n10173    2\\n10174    2\\n10175    2\\n10176    2\\n10177    2\\n10178    1\\n10179    2\\n10180    1\\n10181    2\\n10182    2\\n10183    2\\n10184    1\\n10185    0\\n10186    2\\n10187    2\\n10188    2\\n10189    0\\n10190    2\\n10191    0\\n10192    1\\n10193    2\\n10194    2\\n10195    1\\n10196    0\\n10197    2\\n10198    2\\n10199    2\\n10200    2\\n10201    2\\n10202    1\\n10203    2\\n10204    2\\n10205    1\\n10206    0\\n10207    2\\n10208    0\\n10209    2\\n10210    2\\n10211    2\\n10212    2\\n10213    0\\n10214    0\\n10215    2\\n10216    1\\n10217    2\\n10218    1\\n10219    2\\n10220    1\\n10221    2\\n10222    1\\n10223    2\\n10224    1\\n10225    1\\n10226    2\\n10227    2\\n10228    0\\n10229    2\\n10230    0\\n10231    2\\n10232    2\\n10233    2\\n10234    0\\n10235    1\\n10236    2\\n10237    1\\n10238    0\\n10239    1\\n10240    1\\n10241    2\\n10242    2\\n10243    2\\n10244    0\\n10245    2\\n10246    2\\n10247    1\\n10248    1\\n10249    1\\n10250    2\\n10251    2\\n10252    2\\n10253    2\\n10254    1\\n10255    2\\n10256    2\\n10257    2\\n10258    1\\n10259    2\\n10260    2\\n10261    1\\n10262    1\\n10263    2\\n10264    2\\n10265    2\\n10266    2\\n10267    2\\n10268    2\\n10269    2\\n10270    1\\n10271    2\\n10272    2\\n10273    1\\n10274    1\\n10275    2\\n10276    2\\n10277    2\\n10278    1\\n10279    2\\n10280    2\\n10281    1\\n10282    2\\n10283    1\\n10284    2\\n10285    2\\n10286    2\\n10287    1\\n10288    1\\n10289    1\\n10290    2\\n10291    2\\n10292    0\\n10293    2\\n10294    2\\n10295    2\\n10296    1\\n10297    1\\n10298    1\\n10299    1\\n10300    2\\n10301    2\\n10302    1\\n10303    1\\n10304    2\\n10305    2\\n10306    2\\n10307    2\\n10308    2\\n10309    1\\n10310    0\\n10311    1\\n10312    2\\n10313    2\\n10314    0\\n10315    1\\n10316    2\\n10317    1\\n10318    2\\n10319    1\\n10320    1\\n10321    2\\n10322    1\\n10323    1\\n10324    1\\n10325    2\\n10326    2\\n10327    0\\n10328    2\\n10329    2\\n10330    2\\n10331    1\\n10332    1\\n10333    2\\n10334    2\\n10335    2\\n10336    0\\n10337    1\\n10338    2\\n10339    2\\n10340    2\\n10341    1\\n10342    2\\n10343    1\\n10344    2\\n10345    2\\n10346    2\\n10347    2\\n10348    0\\n10349    2\\n10350    2\\n10351    0\\n10352    1\\n10353    2\\n10354    2\\n10355    1\\n10356    0\\n10357    1\\n10358    2\\n10359    2\\n10360    1\\n10361    1\\n10362    2\\n10363    1\\n10364    2\\n10365    2\\n10366    2\\n10367    1\\n10368    2\\n10369    1\\n10370    2\\n10371    2\\n10372    1\\n10373    2\\n10374    1\\n10375    2\\n10376    0\\n10377    1\\n10378    2\\n10379    0\\n10380    2\\n10381    1\\n10382    2\\n10383    2\\n10384    0\\n10385    2\\n10386    2\\n10387    0\\n10388    2\\n10389    1\\n10390    1\\n10391    0\\n10392    1\\n10393    2\\n10394    2\\n10395    2\\n10396    2\\n10397    1\\n10398    2\\n10399    1\\n10400    1\\n10401    2\\n10402    2\\n10403    2\\n10404    1\\n10405    1\\n10406    2\\n10407    2\\n10408    2\\n10409    1\\n10410    2\\n10411    2\\n10412    2\\n10413    2\\n10414    1\\n10415    2\\n10416    2\\n10417    2\\n10418    2\\n10419    2\\n10420    1\\n10421    2\\n10422    2\\n10423    1\\n10424    2\\n10425    2\\n10426    1\\n10427    2\\n10428    2\\n10429    1\\n10430    0\\n10431    2\\n10432    2\\n10433    2\\n10434    2\\n10435    0\\n10436    2\\n10437    2\\n10438    2\\n10439    2\\n10440    1\\n10441    2\\n10442    2\\n10443    2\\n10444    2\\n10445    2\\n10446    1\\n10447    2\\n10448    2\\n10449    1\\n10450    2\\n10451    2\\n10452    0\\n10453    2\\n10454    2\\n10455    1\\n10456    2\\n10457    1\\n10458    1\\n10459    2\\n10460    2\\n10461    2\\n10462    2\\n10463    2\\n10464    2\\n10465    1\\n10466    1\\n10467    2\\n10468    2\\n10469    1\\n10470    2\\n10471    2\\n10472    2\\n10473    2\\n10474    2\\n10475    2\\n10476    2\\n10477    0\\n10478    2\\n10479    1\\n10480    1\\n10481    2\\n10482    2\\n10483    1\\n10484    2\\n10485    2\\n10486    1\\n10487    1\\n10488    2\\n10489    1\\n10490    2\\n10491    0\\n10492    2\\n10493    2\\n10494    0\\n10495    2\\n10496    2\\n10497    2\\n10498    1\\n10499    2\\n10500    0\\n10501    1\\n10502    1\\n10503    2\\n10504    1\\n10505    1\\n10506    2\\n10507    1\\n10508    1\\n10509    2\\n10510    2\\n10511    2\\n10512    2\\n10513    1\\n10514    0\\n10515    2\\n10516    2\\n10517    1\\n10518    0\\n10519    1\\n10520    2\\n10521    2\\n10522    2\\n10523    1\\n10524    2\\n10525    2\\n10526    2\\n10527    1\\n10528    2\\n10529    0\\n10530    2\\n10531    1\\n10532    0\\n10533    2\\n10534    2\\n10535    2\\n10536    0\\n10537    1\\n10538    2\\n10539    1\\n10540    2\\n10541    2\\n10542    2\\n10543    1\\n10544    2\\n10545    1\\n10546    2\\n10547    2\\n10548    1\\n10549    2\\n10550    2\\n10551    1\\n10552    0\\n10553    1\\n10554    2\\n10555    1\\n10556    2\\n10557    1\\n10558    2\\n10559    1\\n10560    2\\n10561    1\\n10562    2\\n10563    2\\n10564    0\\n10565    2\\n10566    1\\n10567    2\\n10568    2\\n10569    1\\n10570    2\\n10571    2\\n10572    1\\n10573    2\\n10574    1\\n10575    2\\n10576    2\\n10577    1\\n10578    2\\n10579    2\\n10580    2\\n10581    2\\n10582    2\\n10583    1\\n10584    2\\n10585    1\\n10586    2\\n10587    2\\n10588    2\\n10589    2\\n10590    2\\n10591    1\\n10592    2\\n10593    1\\n10594    1\\n10595    2\\n10596    2\\n10597    1\\n10598    2\\n10599    1\\n10600    1\\n10601    2\\n10602    2\\n10603    2\\n10604    2\\n10605    2\\n10606    2\\n10607    2\\n10608    2\\n10609    1\\n10610    2\\n10611    1\\n10612    1\\n10613    1\\n10614    2\\n10615    0\\n10616    2\\n10617    2\\n10618    2\\n10619    1\\n10620    2\\n10621    1\\n10622    1\\n10623    1\\n10624    2\\n10625    1\\n10626    2\\n10627    2\\n10628    2\\n10629    1\\n10630    2\\n10631    2\\n10632    2\\n10633    2\\n10634    0\\n10635    1\\n10636    2\\n10637    0\\n10638    2\\n10639    2\\n10640    1\\n10641    1\\n10642    0\\n10643    2\\n10644    2\\n10645    1\\n10646    1\\n10647    2\\n10648    1\\n10649    0\\n10650    2\\n10651    1\\n10652    2\\n10653    2\\n10654    2\\n10655    0\\n10656    1\\n10657    1\\n10658    2\\n10659    1\\n10660    2\\n10661    2\\n10662    2\\n10663    1\\n10664    0\\n10665    1\\n10666    2\\n10667    1\\n10668    2\\n10669    2\\n10670    1\\n10671    0\\n10672    2\\n10673    2\\n10674    0\\n10675    2\\n10676    2\\n10677    1\\n10678    2\\n10679    1\\n10680    2\\n10681    2\\n10682    2\\n10683    2\\n10684    2\\n10685    2\\n10686    2\\n10687    1\\n10688    1\\n10689    2\\n10690    2\\n10691    2\\n10692    1\\n10693    2\\n10694    2\\n10695    1\\n10696    2\\n10697    1\\n10698    2\\n10699    2\\n10700    1\\n10701    0\\n10702    2\\n10703    2\\n10704    2\\n10705    2\\n10706    2\\n10707    1\\n10708    1\\n10709    2\\n10710    1\\n10711    1\\n10712    2\\n10713    1\\n10714    1\\n10715    2\\n10716    0\\n10717    1\\n10718    2\\n10719    0\\n10720    1\\n10721    2\\n10722    2\\n10723    2\\n10724    1\\n10725    1\\n10726    2\\n10727    1\\n10728    1\\n10729    1\\n10730    0\\n10731    1\\n10732    0\\n10733    1\\n10734    2\\n10735    2\\n10736    2\\n10737    2\\n10738    1\\n10739    1\\n10740    1\\n10741    1\\n10742    2\\n10743    2\\n10744    1\\n10745    1\\n10746    0\\n10747    2\\n10748    0\\n10749    2\\n10750    2\\n10751    1\\n10752    1\\n10753    2\\n10754    2\\n10755    2\\n10756    2\\n10757    1\\n10758    1\\n10759    2\\n10760    2\\n10761    2\\n10762    2\\n10763    2\\n10764    0\\n10765    2\\n10766    0\\n10767    1\\n10768    0\\n10769    2\\n10770    2\\n10771    1\\n10772    1\\n10773    2\\n10774    2\\n10775    1\\n10776    2\\n10777    2\\n10778    1\\n10779    2\\n10780    1\\n10781    1\\n10782    2\\n10783    0\\n10784    2\\n10785    2\\n10786    0\\n10787    0\\n10788    2\\n10789    2\\n10790    1\\n10791    2\\n10792    2\\n10793    1\\n10794    2\\n10795    0\\n10796    1\\n10797    2\\n10798    1\\n10799    0\\n10800    2\\n10801    2\\n10802    1\\n10803    1\\n10804    1\\n10805    2\\n10806    2\\n10807    1\\n10808    1\\n10809    2\\n10810    0\\n10811    2\\n10812    2\\n10813    2\\n10814    1\\n10815    2\\n10816    0\\n10817    2\\n10818    2\\n10819    2\\n10820    2\\n10821    2\\n10822    2\\n10823    1\\n10824    2\\n10825    2\\n10826    0\\n10827    2\\n10828    2\\n10829    0\\n10830    0\\n10831    2\\n10832    2\\n10833    1\\n10834    2\\n10835    0\\n10836    1\\n10837    1\\n10838    1\\n10839    2\\n10840    1\\n10841    2\\n10842    0\\n10843    1\\n10844    1\\n10845    2\\n10846    1\\n10847    1\\n10848    0\\n10849    1\\n10850    1\\n10851    2\\n10852    1\\n10853    2\\n10854    0\\n10855    2\\n10856    1\\n10857    0\\n10858    2\\n10859    1\\n10860    2\\n10861    1\\n10862    2\\n10863    2\\n10864    2\\n10865    2\\n10866    2\\n10867    1\\n10868    2\\n10869    2\\n10870    1\\n10871    1\\n10872    2\\n10873    1\\n10874    2\\n10875    1\\n10876    2\\n10877    2\\n10878    2\\n10879    2\\n10880    1\\n10881    2\\n10882    1\\n10883    2\\n10884    2\\n10885    1\\n10886    1\\n10887    2\\n10888    2\\n10889    2\\n10890    1\\n10891    1\\n10892    1\\n10893    2\\n10894    2\\n10895    0\\n10896    1\\n10897    2\\n10898    2\\n10899    1\\n10900    1\\n10901    2\\n10902    2\\n10903    2\\n10904    0\\n10905    2\\n10906    1\\n10907    2\\n10908    1\\n10909    2\\n10910    2\\n10911    0\\n10912    2\\n10913    1\\n10914    1\\n10915    1\\n10916    2\\n10917    1\\n10918    2\\n10919    2\\n10920    2\\n10921    2\\n10922    2\\n10923    2\\n10924    2\\n10925    1\\n10926    0\\n10927    2\\n10928    1\\n10929    2\\n10930    1\\n10931    2\\n10932    0\\n10933    2\\n10934    2\\n10935    2\\n10936    2\\n10937    1\\n10938    1\\n10939    1\\n10940    0\\n10941    1\\n10942    2\\n10943    2\\n10944    2\\n10945    2\\n10946    1\\n10947    1\\n10948    2\\n10949    1\\n10950    1\\n10951    1\\n10952    1\\n10953    2\\n10954    2\\n10955    1\\n10956    2\\n10957    1\\n10958    2\\n10959    2\\n10960    2\\n10961    2\\n10962    1\\n10963    2\\n10964    2\\n10965    2\\n10966    2\\n10967    2\\n10968    0\\n10969    1\\n10970    1\\n10971    2\\n10972    0\\n10973    2\\n10974    1\\n10975    1\\n10976    2\\n10977    0\\n10978    2\\n10979    2\\n10980    1\\n10981    1\\n10982    2\\n10983    0\\n10984    1\\n10985    2\\n10986    1\\n10987    2\\n10988    2\\n10989    2\\n10990    1\\n10991    2\\n10992    2\\n10993    2\\n10994    2\\n10995    2\\n10996    2\\n10997    2\\n10998    1\\n10999    2\\n11000    1\\n11001    0\\n11002    2\\n11003    1\\n11004    1\\n11005    2\\n11006    1\\n11007    2\\n11008    2\\n11009    2\\n11010    1\\n11011    2\\n11012    0\\n11013    2\\n11014    2\\n11015    2\\n11016    1\\n11017    2\\n11018    2\\n11019    0\\n11020    0\\n11021    1\\n11022    2\\n11023    1\\n11024    0\\n11025    2\\n11026    1\\n11027    2\\n11028    2\\n11029    2\\n11030    1\\n11031    2\\n11032    0\\n11033    1\\n11034    2\\n11035    1\\n11036    0\\n11037    1\\n11038    2\\n11039    2\\n11040    2\\n11041    0\\n11042    2\\n11043    1\\n11044    2\\n11045    2\\n11046    1\\n11047    0\\n11048    2\\n11049    1\\n11050    1\\n11051    1\\n11052    1\\n11053    1\\n11054    2\\n11055    2\\n11056    2\\n11057    2\\n11058    1\\n11059    2\\n11060    0\\n11061    1\\n11062    2\\n11063    2\\n11064    2\\n11065    1\\n11066    1\\n11067    2\\n11068    1\\n11069    2\\n11070    1\\n11071    1\\n11072    1\\n11073    1\\n11074    2\\n11075    2\\n11076    1\\n11077    2\\n11078    1\\n11079    2\\n11080    0\\n11081    1\\n11082    2\\n11083    2\\n11084    2\\n11085    1\\n11086    2\\n11087    1\\n11088    2\\n11089    1\\n11090    2\\n11091    2\\n11092    0\\n11093    1\\n11094    1\\n11095    1\\n11096    0\\n11097    1\\n11098    0\\n11099    2\\n11100    1\\n11101    2\\n11102    2\\n11103    2\\n11104    2\\n11105    2\\n11106    2\\n11107    2\\n11108    1\\n11109    1\\n11110    2\\n11111    2\\n11112    1\\n11113    0\\n11114    2\\n11115    2\\n11116    0\\n11117    2\\n11118    1\\n11119    1\\n11120    2\\n11121    2\\n11122    1\\n11123    2\\n11124    2\\n11125    1\\n11126    2\\n11127    2\\n11128    2\\n11129    0\\n11130    0\\n11131    1\\n11132    2\\n11133    2\\n11134    2\\n11135    2\\n11136    1\\n11137    0\\n11138    2\\n11139    1\\n11140    1\\n11141    2\\n11142    2\\n11143    1\\n11144    2\\n11145    2\\n11146    1\\n11147    2\\n11148    2\\n11149    2\\n11150    2\\n11151    2\\n11152    1\\n11153    2\\n11154    1\\n11155    2\\n11156    2\\n11157    1\\n11158    2\\n11159    2\\n11160    1\\n11161    0\\n11162    2\\n11163    2\\n11164    1\\n11165    2\\n11166    2\\n11167    2\\n11168    2\\n11169    2\\n11170    1\\n11171    2\\n11172    1\\n11173    2\\n11174    1\\n11175    2\\n11176    1\\n11177    2\\n11178    2\\n11179    2\\n11180    1\\n11181    0\\n11182    2\\n11183    2\\n11184    1\\n11185    2\\n11186    2\\n11187    0\\n11188    2\\n11189    1\\n11190    2\\n11191    2\\n11192    1\\n11193    2\\n11194    1\\n11195    1\\n11196    2\\n11197    1\\n11198    1\\n11199    2\\n11200    2\\n11201    1\\n11202    2\\n11203    2\\n11204    2\\n11205    2\\n11206    1\\n11207    2\\n11208    2\\n11209    2\\n11210    2\\n11211    2\\n11212    1\\n11213    1\\n11214    2\\n11215    1\\n11216    2\\n11217    2\\n11218    2\\n11219    2\\n11220    2\\n11221    1\\n11222    0\\n11223    2\\n11224    0\\n11225    2\\n11226    2\\n11227    2\\n11228    1\\n11229    1\\n11230    1\\n11231    2\\n11232    2\\n11233    2\\n11234    2\\n11235    2\\n11236    1\\n11237    1\\n11238    2\\n11239    2\\n11240    2\\n11241    1\\n11242    2\\n11243    0\\n11244    2\\n11245    1\\n11246    0\\n11247    2\\n11248    2\\n11249    1\\n11250    2\\n11251    1\\n11252    1\\n11253    1\\n11254    2\\n11255    2\\n11256    2\\n11257    1\\n11258    2\\n11259    2\\n11260    1\\n11261    2\\n11262    2\\n11263    2\\n11264    1\\n11265    2\\n11266    2\\n11267    0\\n11268    1\\n11269    2\\n11270    1\\n11271    2\\n11272    2\\n11273    1\\n11274    2\\n11275    1\\n11276    0\\n11277    0\\n11278    1\\n11279    2\\n11280    2\\n11281    1\\n11282    2\\n11283    2\\n11284    2\\n11285    2\\n11286    1\\n11287    1\\n11288    2\\n11289    1\\n11290    1\\n11291    2\\n11292    2\\n11293    1\\n11294    2\\n11295    2\\n11296    0\\n11297    2\\n11298    0\\n11299    2\\n11300    0\\n11301    1\\n11302    2\\n11303    2\\n11304    1\\n11305    2\\n11306    2\\n11307    2\\n11308    1\\n11309    1\\n11310    1\\n11311    2\\n11312    2\\n11313    2\\n11314    1\\n11315    1\\n11316    1\\n11317    1\\n11318    2\\n11319    1\\n11320    0\\n11321    2\\n11322    2\\n11323    0\\n11324    2\\n11325    2\\n11326    0\\n11327    0\\n11328    1\\n11329    2\\n11330    2\\n11331    2\\n11332    2\\n11333    2\\n11334    0\\n11335    1\\n11336    2\\n11337    0\\n11338    2\\n11339    2\\n11340    1\\n11341    0\\n11342    2\\n11343    2\\n11344    1\\n11345    0\\n11346    2\\n11347    0\\n11348    2\\n11349    1\\n11350    2\\n11351    2\\n11352    2\\n11353    2\\n11354    2\\n11355    2\\n11356    2\\n11357    0\\n11358    1\\n11359    2\\n11360    2\\n11361    0\\n11362    2\\n11363    1\\n11364    0\\n11365    1\\n11366    2\\n11367    1\\n11368    1\\n11369    2\\n11370    1\\n11371    2\\n11372    2\\n11373    2\\n11374    2\\n11375    0\\n11376    2\\n11377    2\\n11378    2\\n11379    2\\n11380    1\\n11381    2\\n11382    0\\n11383    2\\n11384    1\\n11385    2\\n11386    1\\n11387    2\\n11388    2\\n11389    1\\n11390    0\\n11391    0\\n11392    1\\n11393    0\\n11394    2\\n11395    1\\n11396    0\\n11397    2\\n11398    2\\n11399    1\\n11400    1\\n11401    1\\n11402    1\\n11403    2\\n11404    1\\n11405    2\\n11406    1\\n11407    2\\n11408    0\\n11409    1\\n11410    2\\n11411    0\\n11412    1\\n11413    1\\n11414    1\\n11415    2\\n11416    2\\n11417    1\\n11418    1\\n11419    2\\n11420    2\\n11421    2\\n11422    2\\n11423    1\\n11424    0\\n11425    2\\n11426    2\\n11427    1\\n11428    2\\n11429    2\\n11430    2\\n11431    2\\n11432    2\\n11433    2\\n11434    1\\n11435    1\\n11436    1\\n11437    2\\n11438    1\\n11439    2\\n11440    1\\n11441    2\\n11442    0\\n11443    2\\n11444    2\\n11445    2\\n11446    2\\n11447    1\\n11448    2\\n11449    2\\n11450    1\\n11451    2\\n11452    1\\n11453    2\\n11454    0\\n11455    2\\n11456    1\\n11457    0\\n11458    1\\n11459    2\\n11460    1\\n11461    0\\n11462    2\\n11463    2\\n11464    1\\n11465    2\\n11466    2\\n11467    1\\n11468    1\\n11469    1\\n11470    1\\n11471    2\\n11472    1\\n11473    2\\n11474    2\\n11475    0\\n11476    2\\n11477    2\\n11478    2\\n11479    2\\n11480    0\\n11481    2\\n11482    1\\n11483    2\\n11484    1\\n11485    2\\n11486    2\\n11487    2\\n11488    1\\n11489    0\\n11490    1\\n11491    2\\n11492    1\\n11493    2\\n11494    0\\n11495    1\\n11496    2\\n11497    2\\n11498    1\\n11499    2\\n11500    1\\n11501    2\\n11502    2\\n11503    0\\n11504    2\\n11505    2\\n11506    2\\n11507    1\\n11508    1\\n11509    1\\n11510    2\\n11511    1\\n11512    2\\n11513    2\\n11514    2\\n11515    0\\n11516    2\\n11517    0\\n11518    2\\n11519    2\\n11520    1\\n11521    2\\n11522    1\\n11523    2\\n11524    2\\n11525    0\\n11526    2\\n11527    2\\n11528    0\\n11529    1\\n11530    1\\n11531    2\\n11532    1\\n11533    1\\n11534    2\\n11535    2\\n11536    1\\n11537    1\\n11538    0\\n11539    2\\n11540    2\\n11541    2\\n11542    2\\n11543    1\\n11544    0\\n11545    1\\n11546    2\\n11547    2\\n11548    2\\n11549    2\\n11550    2\\n11551    2\\n11552    1\\n11553    1\\n11554    2\\n11555    2\\n11556    0\\n11557    1\\n11558    0\\n11559    2\\n11560    2\\n11561    2\\n11562    0\\n11563    0\\n11564    1\\n11565    2\\n11566    1\\n11567    1\\n11568    1\\n11569    2\\n11570    2\\n11571    2\\n11572    1\\n11573    0\\n11574    2\\n11575    1\\n11576    2\\n11577    2\\n11578    1\\n11579    1\\n11580    1\\n11581    1\\n11582    0\\n11583    2\\n11584    1\\n11585    2\\n11586    2\\n11587    2\\n11588    2\\n11589    0\\n11590    2\\n11591    1\\n11592    0\\n11593    0\\n11594    0\\n11595    2\\n11596    0\\n11597    2\\n11598    2\\n11599    1\\n11600    1\\n11601    1\\n11602    2\\n11603    2\\n11604    2\\n11605    1\\n11606    2\\n11607    2\\n11608    2\\n11609    1\\n11610    2\\n11611    1\\n11612    2\\n11613    1\\n11614    1\\n11615    2\\n11616    1\\n11617    2\\n11618    2\\n11619    2\\n11620    0\\n11621    1\\n11622    2\\n11623    1\\n11624    2\\n11625    2\\n11626    2\\n11627    1\\n11628    1\\n11629    2\\n11630    0\\n11631    1\\n11632    2\\n11633    2\\n11634    2\\n11635    1\\n11636    1\\n11637    1\\n11638    2\\n11639    1\\n11640    0\\n11641    1\\n11642    2\\n11643    2\\n11644    1\\n11645    2\\n11646    2\\n11647    2\\n11648    2\\n11649    1\\n11650    2\\n11651    2\\n11652    0\\n11653    2\\n11654    2\\n11655    1\\n11656    1\\n11657    1\\n11658    1\\n11659    2\\n11660    2\\n11661    2\\n11662    2\\n11663    1\\n11664    1\\n11665    2\\n11666    1\\n11667    0\\n11668    2\\n11669    1\\n11670    1\\n11671    0\\n11672    2\\n11673    0\\n11674    2\\n11675    2\\n11676    0\\n11677    2\\n11678    0\\n11679    1\\n11680    1\\n11681    2\\n11682    2\\n11683    1\\n11684    1\\n11685    2\\n11686    2\\n11687    0\\n11688    2\\n11689    1\\n11690    1\\n11691    1\\n11692    2\\n11693    2\\n11694    2\\n11695    2\\n11696    1\\n11697    0\\n11698    1\\n11699    2\\n11700    1\\n11701    1\\n11702    2\\n11703    2\\n11704    2\\n11705    2\\n11706    2\\n11707    2\\n11708    2\\n11709    2\\n11710    2\\n11711    2\\n11712    2\\n11713    0\\n11714    2\\n11715    1\\n11716    2\\n11717    1\\n11718    2\\n11719    2\\n11720    2\\n11721    2\\n11722    2\\n11723    1\\n11724    2\\n11725    1\\n11726    1\\n11727    1\\n11728    2\\n11729    2\\n11730    2\\n11731    2\\n11732    2\\n11733    2\\n11734    1\\n11735    2\\n11736    2\\n11737    2\\n11738    2\\n11739    1\\n11740    0\\n11741    0\\n11742    1\\n11743    2\\n11744    2\\n11745    2\\n11746    2\\n11747    1\\n11748    1\\n11749    1\\n11750    1\\n11751    2\\n11752    2\\n11753    1\\n11754    2\\n11755    1\\n11756    2\\n11757    2\\n11758    1\\n11759    2\\n11760    0\\n11761    1\\n11762    2\\n11763    2\\n11764    2\\n11765    1\\n11766    2\\n11767    1\\n11768    2\\n11769    2\\n11770    1\\n11771    2\\n11772    0\\n11773    1\\n11774    1\\n11775    2\\n11776    2\\n11777    2\\n11778    1\\n11779    0\\n11780    2\\n11781    2\\n11782    0\\n11783    2\\n11784    0\\n11785    2\\n11786    2\\n11787    2\\n11788    1\\n11789    0\\n11790    2\\n11791    2\\n11792    2\\n11793    2\\n11794    2\\n11795    0\\n11796    0\\n11797    2\\n11798    2\\n11799    2\\n11800    1\\n11801    2\\n11802    1\\n11803    2\\n11804    2\\n11805    2\\n11806    2\\n11807    1\\n11808    0\\n11809    0\\n11810    1\\n11811    2\\n11812    2\\n11813    1\\n11814    2\\n11815    2\\n11816    1\\n11817    2\\n11818    1\\n11819    2\\n11820    1\\n11821    1\\n11822    2\\n11823    2\\n11824    1\\n11825    0\\n11826    2\\n11827    2\\n11828    1\\n11829    2\\n11830    0\\n11831    1\\n11832    1\\n11833    2\\n11834    2\\n11835    2\\n11836    2\\n11837    1\\n11838    2\\n11839    2\\n11840    2\\n11841    1\\n11842    2\\n11843    0\\n11844    2\\n11845    2\\n11846    2\\n11847    2\\n11848    2\\n11849    2\\n11850    1\\n11851    0\\n11852    1\\n11853    1\\n11854    1\\n11855    1\\n11856    2\\n11857    2\\n11858    1\\n11859    0\\n11860    0\\n11861    2\\n11862    2\\n11863    2\\n11864    1\\n11865    1\\n11866    2\\n11867    0\\n11868    1\\n11869    2\\n11870    1\\n11871    2\\n11872    2\\n11873    1\\n11874    2\\n11875    2\\n11876    2\\n11877    2\\n11878    1\\n11879    0\\n11880    2\\n11881    1\\n11882    1\\n11883    1\\n11884    2\\n11885    2\\n11886    0\\n11887    2\\n11888    2\\n11889    1\\n11890    1\\n11891    1\\n11892    1\\n11893    0\\n11894    2\\n11895    1\\n11896    1\\n11897    1\\n11898    2\\n11899    2\\n11900    2\\n11901    2\\n11902    2\\n11903    2\\n11904    2\\n11905    1\\n11906    2\\n11907    2\\n11908    1\\n11909    1\\n11910    2\\n11911    2\\n11912    0\\n11913    2\\n11914    0\\n11915    1\\n11916    1\\n11917    1\\n11918    1\\n11919    2\\n11920    1\\n11921    2\\n11922    1\\n11923    2\\n11924    2\\n11925    2\\n11926    2\\n11927    1\\n11928    2\\n11929    2\\n11930    0\\n11931    2\\n11932    2\\n11933    1\\n11934    1\\n11935    1\\n11936    2\\n11937    2\\n11938    2\\n11939    0\\n11940    0\\n11941    2\\n11942    1\\n11943    2\\n11944    1\\n11945    2\\n11946    1\\n11947    2\\n11948    2\\n11949    2\\n11950    1\\n11951    1\\n11952    2\\n11953    2\\n11954    2\\n11955    1\\n11956    2\\n11957    2\\n11958    2\\n11959    1\\n11960    1\\n11961    1\\n11962    1\\n11963    1\\n11964    2\\n11965    2\\n11966    1\\n11967    1\\n11968    1\\n11969    1\\n11970    1\\n11971    2\\n11972    2\\n11973    2\\n11974    2\\n11975    2\\n11976    2\\n11977    2\\n11978    1\\n11979    1\\n11980    2\\n11981    1\\n11982    1\\n11983    2\\n11984    2\\n11985    2\\n11986    2\\n11987    1\\n11988    2\\n11989    1\\n11990    1\\n11991    2\\n11992    1\\n11993    2\\n11994    2\\n11995    2\\n11996    2\\n11997    2\\n11998    2\\n11999    2\\n12000    2\\n12001    1\\n12002    1\\n12003    0\\n12004    1\\n12005    1\\n12006    2\\n12007    1\\n12008    2\\n12009    2\\n12010    2\\n12011    2\\n12012    2\\n12013    2\\n12014    0\\n12015    2\\n12016    1\\n12017    2\\n12018    1\\n12019    1\\n12020    1\\n12021    2\\n12022    2\\n12023    1\\n12024    2\\n12025    2\\n12026    1\\n12027    2\\n12028    2\\n12029    0\\n12030    1\\n12031    1\\n12032    1\\n12033    2\\n12034    2\\n12035    2\\n12036    2\\n12037    1\\n12038    2\\n12039    2\\n12040    1\\n12041    2\\n12042    1\\n12043    2\\n12044    2\\n12045    1\\n12046    2\\n12047    1\\n12048    2\\n12049    2\\n12050    1\\n12051    1\\n12052    2\\n12053    2\\n12054    1\\n12055    2\\n12056    0\\n12057    2\\n12058    0\\n12059    2\\n12060    1\\n12061    0\\n12062    2\\n12063    1\\n12064    2\\n12065    1\\n12066    1\\n12067    1\\n12068    1\\n12069    2\\n12070    1\\n12071    2\\n12072    2\\n12073    0\\n12074    2\\n12075    1\\n12076    0\\n12077    1\\n12078    2\\n12079    1\\n12080    2\\n12081    2\\n12082    1\\n12083    2\\n12084    2\\n12085    2\\n12086    2\\n12087    0\\n12088    2\\n12089    2\\n12090    2\\n12091    2\\n12092    1\\n12093    1\\n12094    0\\n12095    1\\n12096    1\\n12097    2\\n12098    2\\n12099    1\\n12100    1\\n12101    1\\n12102    2\\n12103    0\\n12104    1\\n12105    1\\n12106    2\\n12107    2\\n12108    2\\n12109    1\\n12110    2\\n12111    0\\n12112    1\\n12113    2\\n12114    2\\n12115    1\\n12116    0\\n12117    0\\n12118    2\\n12119    2\\n12120    1\\n12121    2\\n12122    1\\n12123    2\\n12124    1\\n12125    1\\n12126    2\\n12127    2\\n12128    2\\n12129    2\\n12130    2\\n12131    2\\n12132    2\\n12133    1\\n12134    2\\n12135    2\\n12136    2\\n12137    1\\n12138    1\\n12139    1\\n12140    2\\n12141    1\\n12142    1\\n12143    1\\n12144    1\\n12145    2\\n12146    1\\n12147    2\\n12148    1\\n12149    1\\n12150    1\\n12151    2\\n12152    2\\n12153    2\\n12154    1\\n12155    2\\n12156    1\\n12157    1\\n12158    2\\n12159    2\\n12160    2\\n12161    2\\n12162    2\\n12163    2\\n12164    0\\n12165    0\\n12166    2\\n12167    2\\n12168    2\\n12169    1\\n12170    2\\n12171    1\\n12172    2\\n12173    1\\n12174    2\\n12175    2\\n12176    1\\n12177    2\\n12178    1\\n12179    2\\n12180    1\\n12181    1\\n12182    0\\n12183    2\\n12184    2\\n12185    2\\n12186    0\\n12187    2\\n12188    1\\n12189    2\\n12190    2\\n12191    1\\n12192    0\\n12193    2\\n12194    2\\n12195    1\\n12196    2\\n12197    0\\n12198    2\\n12199    1\\n12200    2\\n12201    1\\n12202    2\\n12203    2\\n12204    0\\n12205    2\\n12206    2\\n12207    0\\n12208    2\\n12209    1\\n12210    2\\n12211    1\\n12212    1\\n12213    2\\n12214    2\\n12215    2\\n12216    2\\n12217    1\\n12218    1\\n12219    1\\n12220    2\\n12221    1\\n12222    2\\n12223    2\\n12224    0\\n12225    2\\n12226    1\\n12227    2\\n12228    2\\n12229    1\\n12230    0\\n12231    2\\n12232    1\\n12233    1\\n12234    2\\n12235    2\\n12236    2\\n12237    0\\n12238    2\\n12239    1\\n12240    1\\n12241    1\\n12242    0\\n12243    2\\n12244    2\\n12245    1\\n12246    2\\n12247    2\\n12248    2\\n12249    2\\n12250    1\\n12251    0\\n12252    2\\n12253    0\\n12254    2\\n12255    2\\n12256    2\\n12257    2\\n12258    2\\n12259    2\\n12260    2\\n12261    2\\n12262    2\\n12263    1\\n12264    2\\n12265    1\\n12266    1\\n12267    2\\n12268    2\\n12269    2\\n12270    2\\n12271    2\\n12272    2\\n12273    2\\n12274    1\\n12275    2\\n12276    1\\n12277    2\\n12278    1\\n12279    2\\n12280    2\\n12281    1\\n12282    1\\n12283    2\\n12284    2\\n12285    2\\n12286    2\\n12287    2\\n12288    2\\n12289    2\\n12290    1\\n12291    2\\n12292    2\\n12293    2\\n12294    2\\n12295    2\\n12296    2\\n12297    2\\n12298    1\\n12299    1\\n12300    2\\n12301    0\\n12302    2\\n12303    2\\n12304    2\\n12305    2\\n12306    1\\n12307    0\\n12308    2\\n12309    0\\n12310    2\\n12311    1\\n12312    2\\n12313    1\\n12314    0\\n12315    2\\n12316    1\\n12317    1\\n12318    1\\n12319    1\\n12320    1\\n12321    1\\n12322    2\\n12323    1\\n12324    1\\n12325    1\\n12326    2\\n12327    2\\n12328    2\\n12329    2\\n12330    2\\n12331    0\\n12332    2\\n12333    2\\n12334    1\\n12335    1\\n12336    2\\n12337    2\\n12338    2\\n12339    1\\n12340    2\\n12341    1\\n12342    2\\n12343    2\\n12344    1\\n12345    2\\n12346    0\\n12347    1\\n12348    0\\n12349    1\\n12350    1\\n12351    0\\n12352    0\\n12353    1\\n12354    0\\n12355    1\\n12356    1\\n12357    2\\n12358    2\\n12359    0\\n12360    2\\n12361    2\\n12362    2\\n12363    1\\n12364    2\\n12365    2\\n12366    1\\n12367    1\\n12368    2\\n12369    1\\n12370    2\\n12371    2\\n12372    2\\n12373    0\\n12374    0\\n12375    0\\n12376    2\\n12377    1\\n12378    2\\n12379    1\\n12380    1\\n12381    1\\n12382    2\\n12383    1\\n12384    2\\n12385    2\\n12386    1\\n12387    2\\n12388    2\\n12389    2\\n12390    2\\n12391    2\\n12392    1\\n12393    2\\n12394    1\\n12395    1\\n12396    2\\n12397    1\\n12398    2\\n12399    1\\n12400    2\\n12401    2\\n12402    2\\n12403    1\\n12404    2\\n12405    2\\n12406    2\\n12407    1\\n12408    1\\n12409    2\\n12410    2\\n12411    1\\n12412    1\\n12413    2\\n12414    2\\n12415    2\\n12416    2\\n12417    2\\n12418    0\\n12419    0\\n12420    2\\n12421    2\\n12422    2\\n12423    1\\n12424    1\\n12425    2\\n12426    2\\n12427    2\\n12428    1\\n12429    1\\n12430    0\\n12431    2\\n12432    2\\n12433    2\\n12434    1\\n12435    1\\n12436    0\\n12437    0\\n12438    1\\n12439    2\\n12440    2\\n12441    2\\n12442    2\\n12443    2\\n12444    2\\n12445    1\\n12446    2\\n12447    2\\n12448    1\\n12449    2\\n12450    2\\n12451    2\\n12452    2\\n12453    1\\n12454    0\\n12455    0\\n12456    1\\n12457    1\\n12458    2\\n12459    0\\n12460    0\\n12461    1\\n12462    2\\n12463    2\\n12464    2\\n12465    2\\n12466    2\\n12467    1\\n12468    2\\n12469    0\\n12470    1\\n12471    0\\n12472    2\\n12473    0\\n12474    2\\n12475    2\\n12476    0\\n12477    2\\n12478    2\\n12479    2\\n12480    0\\n12481    0\\n12482    1\\n12483    1\\n12484    2\\n12485    2\\n12486    2\\n12487    0\\n12488    0\\n12489    1\\n12490    0\\n12491    1\\n12492    2\\n12493    2\\n12494    2\\n12495    0\\n12496    1\\n12497    2\\n12498    1\\n12499    1\\n12500    2\\n12501    2\\n12502    2\\n12503    1\\n12504    0\\n12505    1\\n12506    1\\n12507    2\\n12508    1\\n12509    1\\n12510    2\\n12511    0\\n12512    2\\n12513    2\\n12514    1\\n12515    1\\n12516    2\\n12517    2\\n12518    2\\n12519    2\\n12520    0\\n12521    1\\n12522    1\\n12523    2\\n12524    0\\n12525    2\\n12526    2\\n12527    2\\n12528    2\\n12529    2\\n12530    2\\n12531    2\\n12532    1\\n12533    2\\n12534    2\\n12535    2\\n12536    1\\n12537    1\\n12538    2\\n12539    1\\n12540    2\\n12541    1\\n12542    2\\n12543    1\\n12544    0\\n12545    1\\n12546    0\\n12547    2\\n12548    0\\n12549    2\\n12550    2\\n12551    2\\n12552    1\\n12553    2\\n12554    2\\n12555    2\\n12556    2\\n12557    2\\n12558    2\\n12559    2\\n12560    2\\n12561    0\\n12562    1\\n12563    1\\n12564    2\\n12565    2\\n12566    0\\n12567    1\\n12568    2\\n12569    2\\n12570    2\\n12571    2\\n12572    2\\n12573    1\\n12574    2\\n12575    2\\n12576    1\\n12577    2\\n12578    2\\n12579    1\\n12580    1\\n12581    1\\n12582    2\\n12583    0\\n12584    2\\n12585    2\\n12586    1\\n12587    2\\n12588    2\\n12589    1\\n12590    1\\n12591    1\\n12592    2\\n12593    2\\n12594    2\\n12595    2\\n12596    2\\n12597    2\\n12598    2\\n12599    2\\n12600    2\\n12601    0\\n12602    2\\n12603    2\\n12604    2\\n12605    2\\n12606    2\\n12607    2\\n12608    2\\n12609    1\\n12610    0\\n12611    1\\n12612    2\\n12613    1\\n12614    0\\n12615    2\\n12616    0\\n12617    2\\n12618    1\\n12619    2\\n12620    2\\n12621    1\\n12622    2\\n12623    2\\n12624    1\\n12625    2\\n12626    2\\n12627    2\\n12628    2\\n12629    0\\n12630    2\\n12631    2\\n12632    1\\n12633    2\\n12634    0\\n12635    0\\n12636    2\\n12637    2\\n12638    2\\n12639    0\\n12640    2\\n12641    2\\n12642    2\\n12643    2\\n12644    0\\n12645    2\\n12646    1\\n12647    1\\n12648    2\\n12649    1\\n12650    2\\n12651    1\\n12652    0\\n12653    1\\n12654    0\\n12655    2\\n12656    2\\n12657    1\\n12658    0\\n12659    2\\n12660    2\\n12661    2\\n12662    2\\n12663    0\\n12664    2\\n12665    2\\n12666    2\\n12667    1\\n12668    1\\n12669    1\\n12670    2\\n12671    2\\n12672    2\\n12673    1\\n12674    1\\n12675    0\\n12676    2\\n12677    0\\n12678    2\\n12679    1\\n12680    2\\n12681    2\\n12682    2\\n12683    1\\n12684    2\\n12685    2\\n12686    2\\n12687    1\\n12688    2\\n12689    2\\n12690    2\\n12691    2\\n12692    1\\n12693    2\\n12694    2\\n12695    1\\n12696    2\\n12697    1\\n12698    2\\n12699    1\\n12700    2\\n12701    2\\n12702    2\\n12703    2\\n12704    2\\n12705    1\\n12706    0\\n12707    2\\n12708    1\\n12709    0\\n12710    2\\n12711    2\\n12712    2\\n12713    2\\n12714    2\\n12715    1\\n12716    2\\n12717    1\\n12718    1\\n12719    2\\n12720    2\\n12721    2\\n12722    1\\n12723    1\\n12724    1\\n12725    1\\n12726    2\\n12727    2\\n12728    2\\n12729    2\\n12730    0\\n12731    2\\n12732    2\\n12733    2\\n12734    0\\n12735    2\\n12736    2\\n12737    2\\n12738    2\\n12739    2\\n12740    2\\n12741    2\\n12742    2\\n12743    2\\n12744    2\\n12745    2\\n12746    2\\n12747    2\\n12748    1\\n12749    2\\n12750    0\\n12751    0\\n12752    2\\n12753    1\\n12754    2\\n12755    2\\n12756    1\\n12757    2\\n12758    1\\n12759    2\\n12760    2\\n12761    2\\n12762    1\\n12763    2\\n12764    2\\n12765    2\\n12766    0\\n12767    2\\n12768    2\\n12769    2\\n12770    1\\n12771    2\\n12772    1\\n12773    2\\n12774    1\\n12775    1\\n12776    2\\n12777    2\\n12778    2\\n12779    2\\n12780    0\\n12781    2\\n12782    2\\n12783    1\\n12784    1\\n12785    2\\n12786    2\\n12787    1\\n12788    2\\n12789    0\\n12790    0\\n12791    2\\n12792    1\\n12793    1\\n12794    0\\n12795    1\\n12796    1\\n12797    2\\n12798    1\\n12799    2\\n12800    1\\n12801    2\\n12802    2\\n12803    1\\n12804    1\\n12805    1\\n12806    1\\n12807    2\\n12808    1\\n12809    1\\n12810    2\\n12811    2\\n12812    2\\n12813    0\\n12814    2\\n12815    2\\n12816    2\\n12817    1\\n12818    2\\n12819    2\\n12820    0\\n12821    1\\n12822    2\\n12823    1\\n12824    0\\n12825    1\\n12826    1\\n12827    2\\n12828    1\\n12829    2\\n12830    0\\n12831    2\\n12832    2\\n12833    2\\n12834    2\\n12835    2\\n12836    2\\n12837    2\\n12838    2\\n12839    2\\n12840    2\\n12841    2\\n12842    2\\n12843    2\\n12844    2\\n12845    2\\n12846    0\\n12847    1\\n12848    1\\n12849    2\\n12850    2\\n12851    2\\n12852    2\\n12853    2\\n12854    2\\n12855    2\\n12856    2\\n12857    2\\n12858    2\\n12859    1\\n12860    1\\n12861    1\\n12862    2\\n12863    2\\n12864    1\\n12865    2\\n12866    2\\n12867    2\\n12868    2\\n12869    1\\n12870    2\\n12871    2\\n12872    0\\n12873    2\\n12874    2\\n12875    2\\n12876    1\\n12877    2\\n12878    2\\n12879    2\\n12880    0\\n12881    2\\n12882    2\\n12883    2\\n12884    1\\n12885    2\\n12886    2\\n12887    1\\n12888    2\\n12889    0\\n12890    2\\n12891    1\\n12892    1\\n12893    2\\n12894    1\\n12895    1\\n12896    2\\n12897    1\\n12898    1\\n12899    2\\n12900    2\\n12901    1\\n12902    2\\n12903    2\\n12904    1\\n12905    2\\n12906    2\\n12907    2\\n12908    1\\n12909    0\\n12910    2\\n12911    0\\n12912    1\\n12913    2\\n12914    1\\n12915    1\\n12916    1\\n12917    1\\n12918    2\\n12919    0\\n12920    2\\n12921    2\\n12922    0\\n12923    2\\n12924    2\\n12925    2\\n12926    2\\n12927    1\\n12928    2\\n12929    1\\n12930    2\\n12931    1\\n12932    2\\n12933    2\\n12934    2\\n12935    1\\n12936    1\\n12937    2\\n12938    2\\n12939    0\\n12940    2\\n12941    2\\n12942    0\\n12943    1\\n12944    2\\n12945    2\\n12946    2\\n12947    2\\n12948    2\\n12949    0\\n12950    1\\n12951    1\\n12952    2\\n12953    2\\n12954    2\\n12955    2\\n12956    0\\n12957    1\\n12958    2\\n12959    2\\n12960    0\\n12961    2\\n12962    2\\n12963    2\\n12964    1\\n12965    1\\n12966    2\\n12967    2\\n12968    0\\n12969    2\\n12970    2\\n12971    2\\n12972    2\\n12973    2\\n12974    2\\n12975    1\\n12976    2\\n12977    2\\n12978    2\\n12979    2\\n12980    2\\n12981    1\\n12982    2\\n12983    2\\n12984    2\\n12985    0\\n12986    2\\n12987    2\\n12988    1\\n12989    2\\n12990    2\\n12991    2\\n12992    2\\n12993    2\\n12994    1\\n12995    2\\n12996    1\\n12997    1\\n12998    2\\n12999    1\\n13000    1\\n13001    2\\n13002    2\\n13003    2\\n13004    2\\n13005    2\\n13006    2\\n13007    2\\n13008    2\\n13009    0\\n13010    1\\n13011    1\\n13012    1\\n13013    0\\n13014    0\\n13015    1\\n13016    2\\n13017    1\\n13018    2\\n13019    2\\n13020    2\\n13021    1\\n13022    2\\n13023    2\\n13024    2\\n13025    2\\n13026    1\\n13027    1\\n13028    2\\n13029    1\\n13030    2\\n13031    2\\n13032    1\\n13033    0\\n13034    2\\n13035    2\\n13036    2\\n13037    2\\n13038    2\\n13039    2\\n13040    1\\n13041    0\\n13042    1\\n13043    2\\n13044    2\\n13045    1\\n13046    1\\n13047    1\\n13048    1\\n13049    2\\n13050    2\\n13051    1\\n13052    1\\n13053    2\\n13054    2\\n13055    2\\n13056    2\\n13057    2\\n13058    2\\n13059    1\\n13060    2\\n13061    2\\n13062    1\\n13063    2\\n13064    1\\n13065    1\\n13066    2\\n13067    2\\n13068    2\\n13069    1\\n13070    2\\n13071    2\\n13072    2\\n13073    2\\n13074    2\\n13075    1\\n13076    1\\n13077    2\\n13078    2\\n13079    1\\n13080    2\\n13081    2\\n13082    1\\n13083    2\\n13084    2\\n13085    2\\n13086    1\\n13087    2\\n13088    0\\n13089    2\\n13090    1\\n13091    0\\n13092    2\\n13093    1\\n13094    2\\n13095    2\\n13096    2\\n13097    2\\n13098    2\\n13099    2\\n13100    2\\n13101    1\\n13102    1\\n13103    1\\n13104    2\\n13105    2\\n13106    2\\n13107    0\\n13108    2\\n13109    1\\n13110    2\\n13111    1\\n13112    2\\n13113    1\\n13114    2\\n13115    2\\n13116    1\\n13117    2\\n13118    2\\n13119    2\\n13120    2\\n13121    0\\n13122    1\\n13123    1\\n13124    2\\n13125    2\\n13126    0\\n13127    2\\n13128    2\\n13129    1\\n13130    1\\n13131    0\\n13132    2\\n13133    1\\n13134    2\\n13135    2\\n13136    1\\n13137    0\\n13138    2\\n13139    2\\n13140    2\\n13141    2\\n13142    2\\n13143    2\\n13144    1\\n13145    1\\n13146    1\\n13147    0\\n13148    1\\n13149    1\\n13150    1\\n13151    2\\n13152    2\\n13153    2\\n13154    2\\n13155    2\\n13156    1\\n13157    2\\n13158    1\\n13159    1\\n13160    2\\n13161    0\\n13162    2\\n13163    2\\n13164    1\\n13165    1\\n13166    0\\n13167    1\\n13168    2\\n13169    1\\n13170    2\\n13171    2\\n13172    1\\n13173    0\\n13174    2\\n13175    1\\n13176    2\\n13177    2\\n13178    2\\n13179    1\\n13180    2\\n13181    2\\n13182    2\\n13183    2\\n13184    2\\n13185    2\\n13186    1\\n13187    0\\n13188    1\\n13189    1\\n13190    2\\n13191    1\\n13192    1\\n13193    2\\n13194    2\\n13195    2\\n13196    1\\n13197    2\\n13198    1\\n13199    2\\n13200    1\\n13201    2\\n13202    2\\n13203    2\\n13204    2\\n13205    1\\n13206    2\\n13207    2\\n13208    2\\n13209    2\\n13210    2\\n13211    2\\n13212    2\\n13213    2\\n13214    2\\n13215    0\\n13216    2\\n13217    2\\n13218    2\\n13219    2\\n13220    0\\n13221    2\\n13222    1\\n13223    2\\n13224    0\\n13225    2\\n13226    0\\n13227    2\\n13228    2\\n13229    2\\n13230    1\\n13231    2\\n13232    2\\n13233    2\\n13234    2\\n13235    1\\n13236    2\\n13237    1\\n13238    2\\n13239    2\\n13240    2\\n13241    1\\n13242    1\\n13243    0\\n13244    1\\n13245    2\\n13246    2\\n13247    2\\n13248    1\\n13249    2\\n13250    2\\n13251    1\\n13252    2\\n13253    0\\n13254    1\\n13255    2\\n13256    2\\n13257    2\\n13258    1\\n13259    2\\n13260    1\\n13261    2\\n13262    1\\n13263    2\\n13264    2\\n13265    1\\n13266    1\\n13267    2\\n13268    1\\n13269    2\\n13270    2\\n13271    2\\n13272    2\\n13273    2\\n13274    2\\n13275    1\\n13276    0\\n13277    0\\n13278    2\\n13279    2\\n13280    2\\n13281    2\\n13282    0\\n13283    2\\n13284    1\\n13285    0\\n13286    2\\n13287    2\\n13288    2\\n13289    1\\n13290    2\\n13291    1\\n13292    2\\n13293    2\\n13294    0\\n13295    2\\n13296    1\\n13297    2\\n13298    2\\n13299    2\\n13300    2\\n13301    2\\n13302    2\\n13303    2\\n13304    2\\n13305    1\\n13306    1\\n13307    2\\n13308    1\\n13309    1\\n13310    2\\n13311    1\\n13312    2\\n13313    2\\n13314    2\\n13315    2\\n13316    1\\n13317    1\\n13318    2\\n13319    2\\n13320    2\\n13321    0\\n13322    2\\n13323    1\\n13324    2\\n13325    0\\n13326    2\\n13327    2\\n13328    1\\n13329    2\\n13330    0\\n13331    1\\n13332    1\\n13333    1\\n13334    2\\n13335    2\\n13336    1\\n13337    2\\n13338    1\\n13339    2\\n13340    0\\n13341    1\\n13342    2\\n13343    2\\n13344    1\\n13345    2\\n13346    2\\n13347    2\\n13348    1\\n13349    2\\n13350    1\\n13351    2\\n13352    1\\n13353    2\\n13354    1\\n13355    0\\n13356    2\\n13357    2\\n13358    2\\n13359    0\\n13360    2\\n13361    0\\n13362    0\\n13363    1\\n13364    2\\n13365    2\\n13366    2\\n13367    2\\n13368    1\\n13369    2\\n13370    2\\n13371    1\\n13372    1\\n13373    2\\n13374    2\\n13375    1\\n13376    2\\n13377    2\\n13378    1\\n13379    2\\n13380    1\\n13381    2\\n13382    1\\n13383    2\\n13384    0\\n13385    1\\n13386    2\\n13387    1\\n13388    2\\n13389    2\\n13390    1\\n13391    2\\n13392    1\\n13393    1\\n13394    2\\n13395    1\\n13396    2\\n13397    0\\n13398    0\\n13399    2\\n13400    2\\n13401    2\\n13402    2\\n13403    2\\n13404    2\\n13405    2\\n13406    2\\n13407    2\\n13408    1\\n13409    1\\n13410    1\\n13411    2\\n13412    1\\n13413    1\\n13414    1\\n13415    1\\n13416    1\\n13417    2\\n13418    2\\n13419    2\\n13420    0\\n13421    0\\n13422    1\\n13423    2\\n13424    1\\n13425    2\\n13426    2\\n13427    2\\n13428    2\\n13429    2\\n13430    2\\n13431    1\\n13432    2\\n13433    1\\n13434    2\\n13435    0\\n13436    1\\n13437    2\\n13438    2\\n13439    2\\n13440    2\\n13441    0\\n13442    2\\n13443    2\\n13444    1\\n13445    2\\n13446    2\\n13447    2\\n13448    2\\n13449    1\\n13450    1\\n13451    2\\n13452    0\\n13453    1\\n13454    1\\n13455    2\\n13456    1\\n13457    1\\n13458    2\\n13459    0\\n13460    0\\n13461    1\\n13462    1\\n13463    2\\n13464    1\\n13465    2\\n13466    1\\n13467    1\\n13468    1\\n13469    2\\n13470    0\\n13471    0\\n13472    1\\n13473    2\\n13474    2\\n13475    1\\n13476    0\\n13477    2\\n13478    2\\n13479    2\\n13480    0\\n13481    2\\n13482    2\\n13483    1\\n13484    2\\n13485    2\\n13486    2\\n13487    0\\n13488    2\\n13489    2\\n13490    2\\n13491    0\\n13492    0\\n13493    2\\n13494    2\\n13495    1\\n13496    2\\n13497    1\\n13498    1\\n13499    2\\n13500    1\\n13501    2\\n13502    2\\n13503    2\\n13504    2\\n13505    2\\n13506    0\\n13507    0\\n13508    2\\n13509    2\\n13510    1\\n13511    1\\n13512    2\\n13513    2\\n13514    1\\n13515    2\\n13516    2\\n13517    2\\n13518    2\\n13519    1\\n13520    1\\n13521    2\\n13522    2\\n13523    2\\n13524    2\\n13525    1\\n13526    2\\n13527    1\\n13528    1\\n13529    2\\n13530    2\\n13531    1\\n13532    2\\n13533    1\\n13534    2\\n13535    1\\n13536    2\\n13537    2\\n13538    2\\n13539    2\\n13540    1\\n13541    2\\n13542    1\\n13543    2\\n13544    1\\n13545    1\\n13546    2\\n13547    2\\n13548    1\\n13549    2\\n13550    2\\n13551    1\\n13552    1\\n13553    2\\n13554    2\\n13555    2\\n13556    0\\n13557    2\\n13558    1\\n13559    2\\n13560    1\\n13561    2\\n13562    2\\n13563    2\\n13564    2\\n13565    2\\n13566    2\\n13567    1\\n13568    2\\n13569    2\\n13570    2\\n13571    0\\n13572    2\\n13573    1\\n13574    2\\n13575    2\\n13576    2\\n13577    2\\n13578    2\\n13579    1\\n13580    2\\n13581    2\\n13582    2\\n13583    0\\n13584    2\\n13585    1\\n13586    2\\n13587    2\\n13588    1\\n13589    1\\n13590    2\\n13591    2\\n13592    0\\n13593    2\\n13594    2\\n13595    1\\n13596    0\\n13597    2\\n13598    0\\n13599    2\\n13600    2\\n13601    0\\n13602    1\\n13603    2\\n13604    1\\n13605    2\\n13606    0\\n13607    0\\n13608    1\\n13609    2\\n13610    2\\n13611    2\\n13612    1\\n13613    1\\n13614    1\\n13615    0\\n13616    2\\n13617    2\\n13618    1\\n13619    2\\n13620    0\\n13621    2\\n13622    2\\n13623    2\\n13624    2\\n13625    2\\n13626    1\\n13627    2\\n13628    2\\n13629    2\\n13630    1\\n13631    2\\n13632    0\\n13633    0\\n13634    2\\n13635    2\\n13636    0\\n13637    2\\n13638    2\\n13639    2\\n13640    2\\n13641    1\\n13642    2\\n13643    1\\n13644    2\\n13645    2\\n13646    2\\n13647    2\\n13648    2\\n13649    1\\n13650    1\\n13651    2\\n13652    2\\n13653    1\\n13654    1\\n13655    0\\n13656    2\\n13657    2\\n13658    2\\n13659    2\\n13660    1\\n13661    2\\n13662    1\\n13663    1\\n13664    2\\n13665    1\\n13666    1\\n13667    2\\n13668    1\\n13669    2\\n13670    1\\n13671    2\\n13672    2\\n13673    1\\n13674    1\\n13675    2\\n13676    2\\n13677    1\\n13678    2\\n13679    0\\n13680    2\\n13681    1\\n13682    2\\n13683    0\\n13684    1\\n13685    0\\n13686    2\\n13687    0\\n13688    2\\n13689    2\\n13690    2\\n13691    2\\n13692    2\\n13693    2\\n13694    1\\n13695    0\\n13696    1\\n13697    2\\n13698    2\\n13699    1\\n13700    0\\n13701    2\\n13702    2\\n13703    2\\n13704    1\\n13705    2\\n13706    1\\n13707    2\\n13708    2\\n13709    0\\n13710    1\\n13711    2\\n13712    2\\n13713    2\\n13714    1\\n13715    0\\n13716    2\\n13717    0\\n13718    2\\n13719    1\\n13720    2\\n13721    1\\n13722    2\\n13723    2\\n13724    2\\n13725    1\\n13726    1\\n13727    0\\n13728    0\\n13729    2\\n13730    1\\n13731    2\\n13732    1\\n13733    1\\n13734    1\\n13735    2\\n13736    0\\n13737    2\\n13738    1\\n13739    2\\n13740    1\\n13741    2\\n13742    2\\n13743    0\\n13744    1\\n13745    1\\n13746    2\\n13747    2\\n13748    0\\n13749    2\\n13750    1\\n13751    1\\n13752    2\\n13753    1\\n13754    2\\n13755    2\\n13756    2\\n13757    2\\n13758    2\\n13759    1\\n13760    0\\n13761    2\\n13762    2\\n13763    2\\n13764    2\\n13765    2\\n13766    2\\n13767    1\\n13768    2\\n13769    2\\n13770    2\\n13771    1\\n13772    2\\n13773    2\\n13774    1\\n13775    0\\n13776    1\\n13777    1\\n13778    2\\n13779    1\\n13780    2\\n13781    0\\n13782    2\\n13783    1\\n13784    2\\n13785    2\\n13786    2\\n13787    1\\n13788    2\\n13789    1\\n13790    2\\n13791    2\\n13792    2\\n13793    1\\n13794    2\\n13795    2\\n13796    1\\n13797    1\\n13798    2\\n13799    0\\n13800    2\\n13801    2\\n13802    2\\n13803    2\\n13804    1\\n13805    0\\n13806    1\\n13807    1\\n13808    2\\n13809    2\\n13810    2\\n13811    2\\n13812    2\\n13813    2\\n13814    0\\n13815    2\\n13816    2\\n13817    2\\n13818    2\\n13819    2\\n13820    2\\n13821    1\\n13822    2\\n13823    2\\n13824    2\\n13825    0\\n13826    2\\n13827    2\\n13828    1\\n13829    1\\n13830    2\\n13831    2\\n13832    2\\n13833    2\\n13834    2\\n13835    2\\n13836    2\\n13837    1\\n13838    1\\n13839    2\\n13840    2\\n13841    1\\n13842    2\\n13843    1\\n13844    1\\n13845    2\\n13846    2\\n13847    1\\n13848    0\\n13849    2\\n13850    2\\n13851    1\\n13852    2\\n13853    2\\n13854    1\\n13855    1\\n13856    2\\n13857    1\\n13858    2\\n13859    2\\n13860    2\\n13861    1\\n13862    2\\n13863    2\\n13864    1\\n13865    2\\n13866    2\\n13867    2\\n13868    0\\n13869    2\\n13870    2\\n13871    1\\n13872    0\\n13873    2\\n13874    2\\n13875    0\\n13876    0\\n13877    2\\n13878    1\\n13879    2\\n13880    2\\n13881    0\\n13882    2\\n13883    2\\n13884    1\\n13885    2\\n13886    1\\n13887    0\\n13888    1\\n13889    1\\n13890    2\\n13891    2\\n13892    2\\n13893    2\\n13894    1\\n13895    2\\n13896    1\\n13897    2\\n13898    2\\n13899    0\\n13900    1\\n13901    2\\n13902    1\\n13903    2\\n13904    1\\n13905    2\\n13906    2\\n13907    2\\n13908    1\\n13909    2\\n13910    1\\n13911    2\\n13912    1\\n13913    0\\n13914    0\\n13915    1\\n13916    2\\n13917    1\\n13918    1\\n13919    2\\n13920    2\\n13921    2\\n13922    2\\n13923    1\\n13924    1\\n13925    1\\n13926    2\\n13927    1\\n13928    1\\n13929    2\\n13930    2\\n13931    1\\n13932    1\\n13933    0\\n13934    2\\n13935    1\\n13936    1\\n13937    2\\n13938    1\\n13939    1\\n13940    0\\n13941    0\\n13942    2\\n13943    2\\n13944    2\\n13945    2\\n13946    2\\n13947    2\\n13948    1\\n13949    2\\n13950    2\\n13951    1\\n13952    1\\n13953    1\\n13954    1\\n13955    2\\n13956    2\\n13957    1\\n13958    2\\n13959    2\\n13960    2\\n13961    1\\n13962    1\\n13963    2\\n13964    1\\n13965    2\\n13966    1\\n13967    2\\n13968    2\\n13969    2\\n13970    0\\n13971    2\\n13972    1\\n13973    2\\n13974    1\\n13975    1\\n13976    2\\n13977    1\\n13978    2\\n13979    1\\n13980    1\\n13981    2\\n13982    1\\n13983    2\\n13984    2\\n13985    2\\n13986    1\\n13987    0\\n13988    2\\n13989    2\\n13990    2\\n13991    2\\n13992    2\\n13993    1\\n13994    0\\n13995    1\\n13996    2\\n13997    2\\n13998    2\\n13999    1\\n14000    2\\n14001    2\\n14002    0\\n14003    2\\n14004    1\\n14005    2\\n14006    1\\n14007    2\\n14008    1\\n14009    2\\n14010    1\\n14011    1\\n14012    2\\n14013    2\\n14014    1\\n14015    2\\n14016    2\\n14017    1\\n14018    0\\n14019    2\\n14020    0\\n14021    1\\n14022    2\\n14023    2\\n14024    0\\n14025    2\\n14026    1\\n14027    1\\n14028    2\\n14029    1\\n14030    2\\n14031    2\\n14032    1\\n14033    1\\n14034    2\\n14035    2\\n14036    1\\n14037    2\\n14038    2\\n14039    1\\n14040    1\\n14041    1\\n14042    1\\n14043    2\\n14044    1\\n14045    1\\n14046    1\\n14047    2\\n14048    0\\n14049    1\\n14050    2\\n14051    0\\n14052    1\\n14053    1\\n14054    2\\n14055    1\\n14056    2\\n14057    2\\n14058    1\\n14059    2\\n14060    2\\n14061    2\\n14062    1\\n14063    2\\n14064    2\\n14065    2\\n14066    1\\n14067    0\\n14068    2\\n14069    2\\n14070    2\\n14071    0\\n14072    2\\n14073    2\\n14074    2\\n14075    2\\n14076    1\\n14077    0\\n14078    1\\n14079    1\\n14080    1\\n14081    0\\n14082    0\\n14083    2\\n14084    1\\n14085    0\\n14086    1\\n14087    1\\n14088    2\\n14089    1\\n14090    1\\n14091    0\\n14092    1\\n14093    0\\n14094    2\\n14095    2\\n14096    1\\n14097    2\\n14098    2\\n14099    2\\n14100    2\\n14101    2\\n14102    0\\n14103    2\\n14104    0\\n14105    0\\n14106    2\\n14107    2\\n14108    1\\n14109    1\\n14110    2\\n14111    2\\n14112    1\\n14113    1\\n14114    2\\n14115    1\\n14116    1\\n14117    2\\n14118    2\\n14119    2\\n14120    1\\n14121    2\\n14122    1\\n14123    2\\n14124    0\\n14125    2\\n14126    2\\n14127    0\\n14128    2\\n14129    1\\n14130    2\\n14131    0\\n14132    1\\n14133    2\\n14134    1\\n14135    1\\n14136    2\\n14137    2\\n14138    1\\n14139    1\\n14140    1\\n14141    2\\n14142    2\\n14143    2\\n14144    1\\n14145    1\\n14146    1\\n14147    2\\n14148    1\\n14149    1\\n14150    1\\n14151    0\\n14152    2\\n14153    1\\n14154    2\\n14155    1\\n14156    0\\n14157    1\\n14158    2\\n14159    1\\n14160    2\\n14161    2\\n14162    2\\n14163    1\\n14164    1\\n14165    1\\n14166    2\\n14167    1\\n14168    1\\n14169    1\\n14170    2\\n14171    1\\n14172    2\\n14173    2\\n14174    0\\n14175    2\\n14176    2\\n14177    0\\n14178    1\\n14179    1\\n14180    2\\n14181    0\\n14182    1\\n14183    0\\n14184    1\\n14185    2\\n14186    1\\n14187    1\\n14188    1\\n14189    2\\n14190    2\\n14191    2\\n14192    1\\n14193    2\\n14194    1\\n14195    1\\n14196    1\\n14197    2\\n14198    1\\n14199    2\\n14200    1\\n14201    2\\n14202    2\\n14203    2'"
      ]
     },
     "execution_count": 190,
     "metadata": {},
     "output_type": "execute_result"
    }
   ],
   "source": [
    "data.Outlet_Size.to_string()"
   ]
  },
  {
   "cell_type": "code",
   "execution_count": 191,
   "metadata": {},
   "outputs": [
    {
     "data": {
      "text/plain": [
       "0        1\n",
       "1        1\n",
       "2        1\n",
       "3        2\n",
       "4        0\n",
       "        ..\n",
       "14199    2\n",
       "14200    1\n",
       "14201    2\n",
       "14202    2\n",
       "14203    2\n",
       "Name: Outlet_Size, Length: 14204, dtype: int32"
      ]
     },
     "execution_count": 191,
     "metadata": {},
     "output_type": "execute_result"
    }
   ],
   "source": [
    "data.Outlet_Size"
   ]
  },
  {
   "cell_type": "code",
   "execution_count": 192,
   "metadata": {},
   "outputs": [
    {
     "data": {
      "text/html": [
       "<div>\n",
       "<style scoped>\n",
       "    .dataframe tbody tr th:only-of-type {\n",
       "        vertical-align: middle;\n",
       "    }\n",
       "\n",
       "    .dataframe tbody tr th {\n",
       "        vertical-align: top;\n",
       "    }\n",
       "\n",
       "    .dataframe thead th {\n",
       "        text-align: right;\n",
       "    }\n",
       "</style>\n",
       "<table border=\"1\" class=\"dataframe\">\n",
       "  <thead>\n",
       "    <tr style=\"text-align: right;\">\n",
       "      <th></th>\n",
       "      <th>Item_Identifier</th>\n",
       "      <th>Item_Weight</th>\n",
       "      <th>Item_Fat_Content</th>\n",
       "      <th>Item_Visibility</th>\n",
       "      <th>Item_Type</th>\n",
       "      <th>Item_MRP</th>\n",
       "      <th>Outlet_Identifier</th>\n",
       "      <th>Outlet_Establishment_Year</th>\n",
       "      <th>Outlet_Size</th>\n",
       "      <th>Outlet_Location_Type</th>\n",
       "      <th>Outlet_Type</th>\n",
       "      <th>Item_Outlet_Sales</th>\n",
       "      <th>source</th>\n",
       "      <th>Item_Type_Combined</th>\n",
       "      <th>Outlet_Years</th>\n",
       "    </tr>\n",
       "  </thead>\n",
       "  <tbody>\n",
       "    <tr>\n",
       "      <th>0</th>\n",
       "      <td>156</td>\n",
       "      <td>9.30</td>\n",
       "      <td>0</td>\n",
       "      <td>0.016047</td>\n",
       "      <td>Dairy</td>\n",
       "      <td>249.8092</td>\n",
       "      <td>9</td>\n",
       "      <td>1999</td>\n",
       "      <td>1</td>\n",
       "      <td>0</td>\n",
       "      <td>1</td>\n",
       "      <td>3735.1380</td>\n",
       "      <td>train</td>\n",
       "      <td>1</td>\n",
       "      <td>22</td>\n",
       "    </tr>\n",
       "    <tr>\n",
       "      <th>1</th>\n",
       "      <td>8</td>\n",
       "      <td>5.92</td>\n",
       "      <td>2</td>\n",
       "      <td>0.019278</td>\n",
       "      <td>Soft Drinks</td>\n",
       "      <td>48.2692</td>\n",
       "      <td>3</td>\n",
       "      <td>2009</td>\n",
       "      <td>1</td>\n",
       "      <td>2</td>\n",
       "      <td>2</td>\n",
       "      <td>443.4228</td>\n",
       "      <td>train</td>\n",
       "      <td>0</td>\n",
       "      <td>12</td>\n",
       "    </tr>\n",
       "    <tr>\n",
       "      <th>2</th>\n",
       "      <td>662</td>\n",
       "      <td>17.50</td>\n",
       "      <td>0</td>\n",
       "      <td>0.016760</td>\n",
       "      <td>Meat</td>\n",
       "      <td>141.6180</td>\n",
       "      <td>9</td>\n",
       "      <td>1999</td>\n",
       "      <td>1</td>\n",
       "      <td>0</td>\n",
       "      <td>1</td>\n",
       "      <td>2097.2700</td>\n",
       "      <td>train</td>\n",
       "      <td>1</td>\n",
       "      <td>22</td>\n",
       "    </tr>\n",
       "    <tr>\n",
       "      <th>3</th>\n",
       "      <td>1121</td>\n",
       "      <td>19.20</td>\n",
       "      <td>2</td>\n",
       "      <td>0.000000</td>\n",
       "      <td>Fruits and Vegetables</td>\n",
       "      <td>182.0950</td>\n",
       "      <td>0</td>\n",
       "      <td>1998</td>\n",
       "      <td>2</td>\n",
       "      <td>2</td>\n",
       "      <td>0</td>\n",
       "      <td>732.3800</td>\n",
       "      <td>train</td>\n",
       "      <td>1</td>\n",
       "      <td>23</td>\n",
       "    </tr>\n",
       "    <tr>\n",
       "      <th>4</th>\n",
       "      <td>1297</td>\n",
       "      <td>8.93</td>\n",
       "      <td>1</td>\n",
       "      <td>0.000000</td>\n",
       "      <td>Household</td>\n",
       "      <td>53.8614</td>\n",
       "      <td>1</td>\n",
       "      <td>1987</td>\n",
       "      <td>0</td>\n",
       "      <td>2</td>\n",
       "      <td>1</td>\n",
       "      <td>994.7052</td>\n",
       "      <td>train</td>\n",
       "      <td>2</td>\n",
       "      <td>34</td>\n",
       "    </tr>\n",
       "    <tr>\n",
       "      <th>...</th>\n",
       "      <td>...</td>\n",
       "      <td>...</td>\n",
       "      <td>...</td>\n",
       "      <td>...</td>\n",
       "      <td>...</td>\n",
       "      <td>...</td>\n",
       "      <td>...</td>\n",
       "      <td>...</td>\n",
       "      <td>...</td>\n",
       "      <td>...</td>\n",
       "      <td>...</td>\n",
       "      <td>...</td>\n",
       "      <td>...</td>\n",
       "      <td>...</td>\n",
       "      <td>...</td>\n",
       "    </tr>\n",
       "    <tr>\n",
       "      <th>14199</th>\n",
       "      <td>233</td>\n",
       "      <td>10.50</td>\n",
       "      <td>2</td>\n",
       "      <td>0.013496</td>\n",
       "      <td>Snack Foods</td>\n",
       "      <td>141.3154</td>\n",
       "      <td>8</td>\n",
       "      <td>1997</td>\n",
       "      <td>2</td>\n",
       "      <td>0</td>\n",
       "      <td>1</td>\n",
       "      <td>NaN</td>\n",
       "      <td>test</td>\n",
       "      <td>1</td>\n",
       "      <td>24</td>\n",
       "    </tr>\n",
       "    <tr>\n",
       "      <th>14200</th>\n",
       "      <td>308</td>\n",
       "      <td>7.60</td>\n",
       "      <td>2</td>\n",
       "      <td>0.142991</td>\n",
       "      <td>Starchy Foods</td>\n",
       "      <td>169.1448</td>\n",
       "      <td>3</td>\n",
       "      <td>2009</td>\n",
       "      <td>1</td>\n",
       "      <td>2</td>\n",
       "      <td>2</td>\n",
       "      <td>NaN</td>\n",
       "      <td>test</td>\n",
       "      <td>1</td>\n",
       "      <td>12</td>\n",
       "    </tr>\n",
       "    <tr>\n",
       "      <th>14201</th>\n",
       "      <td>1426</td>\n",
       "      <td>10.00</td>\n",
       "      <td>1</td>\n",
       "      <td>0.073529</td>\n",
       "      <td>Health and Hygiene</td>\n",
       "      <td>118.7440</td>\n",
       "      <td>7</td>\n",
       "      <td>2002</td>\n",
       "      <td>2</td>\n",
       "      <td>1</td>\n",
       "      <td>1</td>\n",
       "      <td>NaN</td>\n",
       "      <td>test</td>\n",
       "      <td>2</td>\n",
       "      <td>19</td>\n",
       "    </tr>\n",
       "    <tr>\n",
       "      <th>14202</th>\n",
       "      <td>521</td>\n",
       "      <td>15.30</td>\n",
       "      <td>2</td>\n",
       "      <td>0.000000</td>\n",
       "      <td>Canned</td>\n",
       "      <td>214.6218</td>\n",
       "      <td>2</td>\n",
       "      <td>2007</td>\n",
       "      <td>2</td>\n",
       "      <td>1</td>\n",
       "      <td>1</td>\n",
       "      <td>NaN</td>\n",
       "      <td>test</td>\n",
       "      <td>1</td>\n",
       "      <td>14</td>\n",
       "    </tr>\n",
       "    <tr>\n",
       "      <th>14203</th>\n",
       "      <td>997</td>\n",
       "      <td>9.50</td>\n",
       "      <td>2</td>\n",
       "      <td>0.104720</td>\n",
       "      <td>Canned</td>\n",
       "      <td>79.7960</td>\n",
       "      <td>7</td>\n",
       "      <td>2002</td>\n",
       "      <td>2</td>\n",
       "      <td>1</td>\n",
       "      <td>1</td>\n",
       "      <td>NaN</td>\n",
       "      <td>test</td>\n",
       "      <td>1</td>\n",
       "      <td>19</td>\n",
       "    </tr>\n",
       "  </tbody>\n",
       "</table>\n",
       "<p>14204 rows × 15 columns</p>\n",
       "</div>"
      ],
      "text/plain": [
       "       Item_Identifier  Item_Weight  Item_Fat_Content  Item_Visibility  \\\n",
       "0                  156         9.30                 0         0.016047   \n",
       "1                    8         5.92                 2         0.019278   \n",
       "2                  662        17.50                 0         0.016760   \n",
       "3                 1121        19.20                 2         0.000000   \n",
       "4                 1297         8.93                 1         0.000000   \n",
       "...                ...          ...               ...              ...   \n",
       "14199              233        10.50                 2         0.013496   \n",
       "14200              308         7.60                 2         0.142991   \n",
       "14201             1426        10.00                 1         0.073529   \n",
       "14202              521        15.30                 2         0.000000   \n",
       "14203              997         9.50                 2         0.104720   \n",
       "\n",
       "                   Item_Type  Item_MRP  Outlet_Identifier  \\\n",
       "0                      Dairy  249.8092                  9   \n",
       "1                Soft Drinks   48.2692                  3   \n",
       "2                       Meat  141.6180                  9   \n",
       "3      Fruits and Vegetables  182.0950                  0   \n",
       "4                  Household   53.8614                  1   \n",
       "...                      ...       ...                ...   \n",
       "14199            Snack Foods  141.3154                  8   \n",
       "14200          Starchy Foods  169.1448                  3   \n",
       "14201     Health and Hygiene  118.7440                  7   \n",
       "14202                 Canned  214.6218                  2   \n",
       "14203                 Canned   79.7960                  7   \n",
       "\n",
       "       Outlet_Establishment_Year  Outlet_Size  Outlet_Location_Type  \\\n",
       "0                           1999            1                     0   \n",
       "1                           2009            1                     2   \n",
       "2                           1999            1                     0   \n",
       "3                           1998            2                     2   \n",
       "4                           1987            0                     2   \n",
       "...                          ...          ...                   ...   \n",
       "14199                       1997            2                     0   \n",
       "14200                       2009            1                     2   \n",
       "14201                       2002            2                     1   \n",
       "14202                       2007            2                     1   \n",
       "14203                       2002            2                     1   \n",
       "\n",
       "       Outlet_Type  Item_Outlet_Sales source  Item_Type_Combined  Outlet_Years  \n",
       "0                1          3735.1380  train                   1            22  \n",
       "1                2           443.4228  train                   0            12  \n",
       "2                1          2097.2700  train                   1            22  \n",
       "3                0           732.3800  train                   1            23  \n",
       "4                1           994.7052  train                   2            34  \n",
       "...            ...                ...    ...                 ...           ...  \n",
       "14199            1                NaN   test                   1            24  \n",
       "14200            2                NaN   test                   1            12  \n",
       "14201            1                NaN   test                   2            19  \n",
       "14202            1                NaN   test                   1            14  \n",
       "14203            1                NaN   test                   1            19  \n",
       "\n",
       "[14204 rows x 15 columns]"
      ]
     },
     "execution_count": 192,
     "metadata": {},
     "output_type": "execute_result"
    }
   ],
   "source": [
    "data"
   ]
  },
  {
   "cell_type": "code",
   "execution_count": 193,
   "metadata": {},
   "outputs": [],
   "source": [
    "data.drop(['Item_Type','Outlet_Establishment_Year'],axis=1,inplace=True)"
   ]
  },
  {
   "cell_type": "code",
   "execution_count": 194,
   "metadata": {},
   "outputs": [],
   "source": [
    "train = data.loc[data['source']==\"train\"]\n",
    "test = data.loc[data['source']==\"test\"]"
   ]
  },
  {
   "cell_type": "code",
   "execution_count": 195,
   "metadata": {},
   "outputs": [
    {
     "name": "stderr",
     "output_type": "stream",
     "text": [
      "C:\\Users\\mini9\\Anaconda\\lib\\site-packages\\pandas\\core\\frame.py:4163: SettingWithCopyWarning: \n",
      "A value is trying to be set on a copy of a slice from a DataFrame\n",
      "\n",
      "See the caveats in the documentation: https://pandas.pydata.org/pandas-docs/stable/user_guide/indexing.html#returning-a-view-versus-a-copy\n",
      "  return super().drop(\n"
     ]
    }
   ],
   "source": [
    "test.drop(['Item_Outlet_Sales','source'],axis=1,inplace=True)\n",
    "train.drop(['source'],axis=1,inplace=True)"
   ]
  },
  {
   "cell_type": "code",
   "execution_count": 196,
   "metadata": {},
   "outputs": [
    {
     "data": {
      "text/html": [
       "<div>\n",
       "<style scoped>\n",
       "    .dataframe tbody tr th:only-of-type {\n",
       "        vertical-align: middle;\n",
       "    }\n",
       "\n",
       "    .dataframe tbody tr th {\n",
       "        vertical-align: top;\n",
       "    }\n",
       "\n",
       "    .dataframe thead th {\n",
       "        text-align: right;\n",
       "    }\n",
       "</style>\n",
       "<table border=\"1\" class=\"dataframe\">\n",
       "  <thead>\n",
       "    <tr style=\"text-align: right;\">\n",
       "      <th></th>\n",
       "      <th>Item_Identifier</th>\n",
       "      <th>Item_Weight</th>\n",
       "      <th>Item_Fat_Content</th>\n",
       "      <th>Item_Visibility</th>\n",
       "      <th>Item_MRP</th>\n",
       "      <th>Outlet_Identifier</th>\n",
       "      <th>Outlet_Size</th>\n",
       "      <th>Outlet_Location_Type</th>\n",
       "      <th>Outlet_Type</th>\n",
       "      <th>Item_Outlet_Sales</th>\n",
       "      <th>Item_Type_Combined</th>\n",
       "      <th>Outlet_Years</th>\n",
       "    </tr>\n",
       "  </thead>\n",
       "  <tbody>\n",
       "    <tr>\n",
       "      <th>0</th>\n",
       "      <td>156</td>\n",
       "      <td>9.300</td>\n",
       "      <td>0</td>\n",
       "      <td>0.016047</td>\n",
       "      <td>249.8092</td>\n",
       "      <td>9</td>\n",
       "      <td>1</td>\n",
       "      <td>0</td>\n",
       "      <td>1</td>\n",
       "      <td>3735.1380</td>\n",
       "      <td>1</td>\n",
       "      <td>22</td>\n",
       "    </tr>\n",
       "    <tr>\n",
       "      <th>1</th>\n",
       "      <td>8</td>\n",
       "      <td>5.920</td>\n",
       "      <td>2</td>\n",
       "      <td>0.019278</td>\n",
       "      <td>48.2692</td>\n",
       "      <td>3</td>\n",
       "      <td>1</td>\n",
       "      <td>2</td>\n",
       "      <td>2</td>\n",
       "      <td>443.4228</td>\n",
       "      <td>0</td>\n",
       "      <td>12</td>\n",
       "    </tr>\n",
       "    <tr>\n",
       "      <th>2</th>\n",
       "      <td>662</td>\n",
       "      <td>17.500</td>\n",
       "      <td>0</td>\n",
       "      <td>0.016760</td>\n",
       "      <td>141.6180</td>\n",
       "      <td>9</td>\n",
       "      <td>1</td>\n",
       "      <td>0</td>\n",
       "      <td>1</td>\n",
       "      <td>2097.2700</td>\n",
       "      <td>1</td>\n",
       "      <td>22</td>\n",
       "    </tr>\n",
       "    <tr>\n",
       "      <th>3</th>\n",
       "      <td>1121</td>\n",
       "      <td>19.200</td>\n",
       "      <td>2</td>\n",
       "      <td>0.000000</td>\n",
       "      <td>182.0950</td>\n",
       "      <td>0</td>\n",
       "      <td>2</td>\n",
       "      <td>2</td>\n",
       "      <td>0</td>\n",
       "      <td>732.3800</td>\n",
       "      <td>1</td>\n",
       "      <td>23</td>\n",
       "    </tr>\n",
       "    <tr>\n",
       "      <th>4</th>\n",
       "      <td>1297</td>\n",
       "      <td>8.930</td>\n",
       "      <td>1</td>\n",
       "      <td>0.000000</td>\n",
       "      <td>53.8614</td>\n",
       "      <td>1</td>\n",
       "      <td>0</td>\n",
       "      <td>2</td>\n",
       "      <td>1</td>\n",
       "      <td>994.7052</td>\n",
       "      <td>2</td>\n",
       "      <td>34</td>\n",
       "    </tr>\n",
       "    <tr>\n",
       "      <th>...</th>\n",
       "      <td>...</td>\n",
       "      <td>...</td>\n",
       "      <td>...</td>\n",
       "      <td>...</td>\n",
       "      <td>...</td>\n",
       "      <td>...</td>\n",
       "      <td>...</td>\n",
       "      <td>...</td>\n",
       "      <td>...</td>\n",
       "      <td>...</td>\n",
       "      <td>...</td>\n",
       "      <td>...</td>\n",
       "    </tr>\n",
       "    <tr>\n",
       "      <th>8518</th>\n",
       "      <td>370</td>\n",
       "      <td>6.865</td>\n",
       "      <td>0</td>\n",
       "      <td>0.056783</td>\n",
       "      <td>214.5218</td>\n",
       "      <td>1</td>\n",
       "      <td>0</td>\n",
       "      <td>2</td>\n",
       "      <td>1</td>\n",
       "      <td>2778.3834</td>\n",
       "      <td>1</td>\n",
       "      <td>34</td>\n",
       "    </tr>\n",
       "    <tr>\n",
       "      <th>8519</th>\n",
       "      <td>897</td>\n",
       "      <td>8.380</td>\n",
       "      <td>2</td>\n",
       "      <td>0.046982</td>\n",
       "      <td>108.1570</td>\n",
       "      <td>7</td>\n",
       "      <td>2</td>\n",
       "      <td>1</td>\n",
       "      <td>1</td>\n",
       "      <td>549.2850</td>\n",
       "      <td>1</td>\n",
       "      <td>19</td>\n",
       "    </tr>\n",
       "    <tr>\n",
       "      <th>8520</th>\n",
       "      <td>1357</td>\n",
       "      <td>10.600</td>\n",
       "      <td>1</td>\n",
       "      <td>0.035186</td>\n",
       "      <td>85.1224</td>\n",
       "      <td>6</td>\n",
       "      <td>2</td>\n",
       "      <td>1</td>\n",
       "      <td>1</td>\n",
       "      <td>1193.1136</td>\n",
       "      <td>2</td>\n",
       "      <td>17</td>\n",
       "    </tr>\n",
       "    <tr>\n",
       "      <th>8521</th>\n",
       "      <td>681</td>\n",
       "      <td>7.210</td>\n",
       "      <td>2</td>\n",
       "      <td>0.145221</td>\n",
       "      <td>103.1332</td>\n",
       "      <td>3</td>\n",
       "      <td>1</td>\n",
       "      <td>2</td>\n",
       "      <td>2</td>\n",
       "      <td>1845.5976</td>\n",
       "      <td>1</td>\n",
       "      <td>12</td>\n",
       "    </tr>\n",
       "    <tr>\n",
       "      <th>8522</th>\n",
       "      <td>50</td>\n",
       "      <td>14.800</td>\n",
       "      <td>0</td>\n",
       "      <td>0.044878</td>\n",
       "      <td>75.4670</td>\n",
       "      <td>8</td>\n",
       "      <td>2</td>\n",
       "      <td>0</td>\n",
       "      <td>1</td>\n",
       "      <td>765.6700</td>\n",
       "      <td>0</td>\n",
       "      <td>24</td>\n",
       "    </tr>\n",
       "  </tbody>\n",
       "</table>\n",
       "<p>8523 rows × 12 columns</p>\n",
       "</div>"
      ],
      "text/plain": [
       "      Item_Identifier  Item_Weight  Item_Fat_Content  Item_Visibility  \\\n",
       "0                 156        9.300                 0         0.016047   \n",
       "1                   8        5.920                 2         0.019278   \n",
       "2                 662       17.500                 0         0.016760   \n",
       "3                1121       19.200                 2         0.000000   \n",
       "4                1297        8.930                 1         0.000000   \n",
       "...               ...          ...               ...              ...   \n",
       "8518              370        6.865                 0         0.056783   \n",
       "8519              897        8.380                 2         0.046982   \n",
       "8520             1357       10.600                 1         0.035186   \n",
       "8521              681        7.210                 2         0.145221   \n",
       "8522               50       14.800                 0         0.044878   \n",
       "\n",
       "      Item_MRP  Outlet_Identifier  Outlet_Size  Outlet_Location_Type  \\\n",
       "0     249.8092                  9            1                     0   \n",
       "1      48.2692                  3            1                     2   \n",
       "2     141.6180                  9            1                     0   \n",
       "3     182.0950                  0            2                     2   \n",
       "4      53.8614                  1            0                     2   \n",
       "...        ...                ...          ...                   ...   \n",
       "8518  214.5218                  1            0                     2   \n",
       "8519  108.1570                  7            2                     1   \n",
       "8520   85.1224                  6            2                     1   \n",
       "8521  103.1332                  3            1                     2   \n",
       "8522   75.4670                  8            2                     0   \n",
       "\n",
       "      Outlet_Type  Item_Outlet_Sales  Item_Type_Combined  Outlet_Years  \n",
       "0               1          3735.1380                   1            22  \n",
       "1               2           443.4228                   0            12  \n",
       "2               1          2097.2700                   1            22  \n",
       "3               0           732.3800                   1            23  \n",
       "4               1           994.7052                   2            34  \n",
       "...           ...                ...                 ...           ...  \n",
       "8518            1          2778.3834                   1            34  \n",
       "8519            1           549.2850                   1            19  \n",
       "8520            1          1193.1136                   2            17  \n",
       "8521            2          1845.5976                   1            12  \n",
       "8522            1           765.6700                   0            24  \n",
       "\n",
       "[8523 rows x 12 columns]"
      ]
     },
     "execution_count": 196,
     "metadata": {},
     "output_type": "execute_result"
    }
   ],
   "source": [
    "train"
   ]
  },
  {
   "cell_type": "code",
   "execution_count": 199,
   "metadata": {},
   "outputs": [],
   "source": [
    "X=train.drop(['Item_Outlet_Sales'],axis=1)\n",
    "y=train.Item_Outlet_Sales"
   ]
  },
  {
   "cell_type": "code",
   "execution_count": 200,
   "metadata": {},
   "outputs": [],
   "source": [
    "X_train,X_test,y_train,y_test = train_test_split(X,y,random_state = 0, test_size=0.2)"
   ]
  },
  {
   "cell_type": "code",
   "execution_count": 201,
   "metadata": {},
   "outputs": [
    {
     "data": {
      "text/plain": [
       "((6818, 11), (6818,))"
      ]
     },
     "execution_count": 201,
     "metadata": {},
     "output_type": "execute_result"
    }
   ],
   "source": [
    "X_train.shape,y_train.shape"
   ]
  },
  {
   "cell_type": "code",
   "execution_count": 202,
   "metadata": {},
   "outputs": [
    {
     "data": {
      "text/html": [
       "<div>\n",
       "<style scoped>\n",
       "    .dataframe tbody tr th:only-of-type {\n",
       "        vertical-align: middle;\n",
       "    }\n",
       "\n",
       "    .dataframe tbody tr th {\n",
       "        vertical-align: top;\n",
       "    }\n",
       "\n",
       "    .dataframe thead th {\n",
       "        text-align: right;\n",
       "    }\n",
       "</style>\n",
       "<table border=\"1\" class=\"dataframe\">\n",
       "  <thead>\n",
       "    <tr style=\"text-align: right;\">\n",
       "      <th></th>\n",
       "      <th>Item_Identifier</th>\n",
       "      <th>Item_Weight</th>\n",
       "      <th>Item_Fat_Content</th>\n",
       "      <th>Item_Visibility</th>\n",
       "      <th>Item_MRP</th>\n",
       "      <th>Outlet_Identifier</th>\n",
       "      <th>Outlet_Size</th>\n",
       "      <th>Outlet_Location_Type</th>\n",
       "      <th>Outlet_Type</th>\n",
       "      <th>Item_Type_Combined</th>\n",
       "      <th>Outlet_Years</th>\n",
       "    </tr>\n",
       "  </thead>\n",
       "  <tbody>\n",
       "    <tr>\n",
       "      <th>6404</th>\n",
       "      <td>188</td>\n",
       "      <td>12.857645</td>\n",
       "      <td>0</td>\n",
       "      <td>0.008722</td>\n",
       "      <td>123.5414</td>\n",
       "      <td>5</td>\n",
       "      <td>1</td>\n",
       "      <td>2</td>\n",
       "      <td>3</td>\n",
       "      <td>1</td>\n",
       "      <td>36</td>\n",
       "    </tr>\n",
       "    <tr>\n",
       "      <th>5820</th>\n",
       "      <td>70</td>\n",
       "      <td>18.700000</td>\n",
       "      <td>0</td>\n",
       "      <td>0.014623</td>\n",
       "      <td>52.0324</td>\n",
       "      <td>7</td>\n",
       "      <td>2</td>\n",
       "      <td>1</td>\n",
       "      <td>1</td>\n",
       "      <td>0</td>\n",
       "      <td>19</td>\n",
       "    </tr>\n",
       "    <tr>\n",
       "      <th>48</th>\n",
       "      <td>586</td>\n",
       "      <td>15.850000</td>\n",
       "      <td>2</td>\n",
       "      <td>0.121633</td>\n",
       "      <td>60.6220</td>\n",
       "      <td>8</td>\n",
       "      <td>2</td>\n",
       "      <td>0</td>\n",
       "      <td>1</td>\n",
       "      <td>1</td>\n",
       "      <td>24</td>\n",
       "    </tr>\n",
       "    <tr>\n",
       "      <th>4583</th>\n",
       "      <td>194</td>\n",
       "      <td>12.857645</td>\n",
       "      <td>0</td>\n",
       "      <td>0.145670</td>\n",
       "      <td>247.2776</td>\n",
       "      <td>4</td>\n",
       "      <td>2</td>\n",
       "      <td>0</td>\n",
       "      <td>0</td>\n",
       "      <td>1</td>\n",
       "      <td>36</td>\n",
       "    </tr>\n",
       "    <tr>\n",
       "      <th>3791</th>\n",
       "      <td>436</td>\n",
       "      <td>21.000000</td>\n",
       "      <td>0</td>\n",
       "      <td>0.049296</td>\n",
       "      <td>194.4478</td>\n",
       "      <td>6</td>\n",
       "      <td>2</td>\n",
       "      <td>1</td>\n",
       "      <td>1</td>\n",
       "      <td>1</td>\n",
       "      <td>17</td>\n",
       "    </tr>\n",
       "    <tr>\n",
       "      <th>...</th>\n",
       "      <td>...</td>\n",
       "      <td>...</td>\n",
       "      <td>...</td>\n",
       "      <td>...</td>\n",
       "      <td>...</td>\n",
       "      <td>...</td>\n",
       "      <td>...</td>\n",
       "      <td>...</td>\n",
       "      <td>...</td>\n",
       "      <td>...</td>\n",
       "      <td>...</td>\n",
       "    </tr>\n",
       "    <tr>\n",
       "      <th>4373</th>\n",
       "      <td>1413</td>\n",
       "      <td>15.200000</td>\n",
       "      <td>1</td>\n",
       "      <td>0.020280</td>\n",
       "      <td>49.1034</td>\n",
       "      <td>0</td>\n",
       "      <td>2</td>\n",
       "      <td>2</td>\n",
       "      <td>0</td>\n",
       "      <td>2</td>\n",
       "      <td>23</td>\n",
       "    </tr>\n",
       "    <tr>\n",
       "      <th>7891</th>\n",
       "      <td>746</td>\n",
       "      <td>12.857645</td>\n",
       "      <td>2</td>\n",
       "      <td>0.025616</td>\n",
       "      <td>188.1872</td>\n",
       "      <td>5</td>\n",
       "      <td>1</td>\n",
       "      <td>2</td>\n",
       "      <td>3</td>\n",
       "      <td>1</td>\n",
       "      <td>36</td>\n",
       "    </tr>\n",
       "    <tr>\n",
       "      <th>4859</th>\n",
       "      <td>705</td>\n",
       "      <td>13.500000</td>\n",
       "      <td>2</td>\n",
       "      <td>0.000000</td>\n",
       "      <td>78.3960</td>\n",
       "      <td>6</td>\n",
       "      <td>2</td>\n",
       "      <td>1</td>\n",
       "      <td>1</td>\n",
       "      <td>1</td>\n",
       "      <td>17</td>\n",
       "    </tr>\n",
       "    <tr>\n",
       "      <th>3264</th>\n",
       "      <td>501</td>\n",
       "      <td>18.700000</td>\n",
       "      <td>0</td>\n",
       "      <td>0.104890</td>\n",
       "      <td>121.4072</td>\n",
       "      <td>7</td>\n",
       "      <td>2</td>\n",
       "      <td>1</td>\n",
       "      <td>1</td>\n",
       "      <td>1</td>\n",
       "      <td>19</td>\n",
       "    </tr>\n",
       "    <tr>\n",
       "      <th>2732</th>\n",
       "      <td>491</td>\n",
       "      <td>14.000000</td>\n",
       "      <td>0</td>\n",
       "      <td>0.041355</td>\n",
       "      <td>182.0634</td>\n",
       "      <td>9</td>\n",
       "      <td>1</td>\n",
       "      <td>0</td>\n",
       "      <td>1</td>\n",
       "      <td>1</td>\n",
       "      <td>22</td>\n",
       "    </tr>\n",
       "  </tbody>\n",
       "</table>\n",
       "<p>6818 rows × 11 columns</p>\n",
       "</div>"
      ],
      "text/plain": [
       "      Item_Identifier  Item_Weight  Item_Fat_Content  Item_Visibility  \\\n",
       "6404              188    12.857645                 0         0.008722   \n",
       "5820               70    18.700000                 0         0.014623   \n",
       "48                586    15.850000                 2         0.121633   \n",
       "4583              194    12.857645                 0         0.145670   \n",
       "3791              436    21.000000                 0         0.049296   \n",
       "...               ...          ...               ...              ...   \n",
       "4373             1413    15.200000                 1         0.020280   \n",
       "7891              746    12.857645                 2         0.025616   \n",
       "4859              705    13.500000                 2         0.000000   \n",
       "3264              501    18.700000                 0         0.104890   \n",
       "2732              491    14.000000                 0         0.041355   \n",
       "\n",
       "      Item_MRP  Outlet_Identifier  Outlet_Size  Outlet_Location_Type  \\\n",
       "6404  123.5414                  5            1                     2   \n",
       "5820   52.0324                  7            2                     1   \n",
       "48     60.6220                  8            2                     0   \n",
       "4583  247.2776                  4            2                     0   \n",
       "3791  194.4478                  6            2                     1   \n",
       "...        ...                ...          ...                   ...   \n",
       "4373   49.1034                  0            2                     2   \n",
       "7891  188.1872                  5            1                     2   \n",
       "4859   78.3960                  6            2                     1   \n",
       "3264  121.4072                  7            2                     1   \n",
       "2732  182.0634                  9            1                     0   \n",
       "\n",
       "      Outlet_Type  Item_Type_Combined  Outlet_Years  \n",
       "6404            3                   1            36  \n",
       "5820            1                   0            19  \n",
       "48              1                   1            24  \n",
       "4583            0                   1            36  \n",
       "3791            1                   1            17  \n",
       "...           ...                 ...           ...  \n",
       "4373            0                   2            23  \n",
       "7891            3                   1            36  \n",
       "4859            1                   1            17  \n",
       "3264            1                   1            19  \n",
       "2732            1                   1            22  \n",
       "\n",
       "[6818 rows x 11 columns]"
      ]
     },
     "execution_count": 202,
     "metadata": {},
     "output_type": "execute_result"
    }
   ],
   "source": [
    "X_train"
   ]
  },
  {
   "cell_type": "code",
   "execution_count": 223,
   "metadata": {},
   "outputs": [
    {
     "data": {
      "text/plain": [
       "LinearRegression(normalize=True)"
      ]
     },
     "execution_count": 223,
     "metadata": {},
     "output_type": "execute_result"
    }
   ],
   "source": [
    "model = LinearRegression(normalize=True)\n",
    "model.fit(X_train,y_train)"
   ]
  },
  {
   "cell_type": "code",
   "execution_count": 224,
   "metadata": {},
   "outputs": [],
   "source": [
    "pred1 = model.predict(X_train)\n",
    "score1= metrics.r2_score(y_train,pred1)"
   ]
  },
  {
   "cell_type": "code",
   "execution_count": 225,
   "metadata": {},
   "outputs": [
    {
     "data": {
      "text/plain": [
       "0.5025977062212079"
      ]
     },
     "execution_count": 225,
     "metadata": {},
     "output_type": "execute_result"
    }
   ],
   "source": [
    "score1"
   ]
  },
  {
   "cell_type": "code",
   "execution_count": 226,
   "metadata": {},
   "outputs": [],
   "source": [
    "pred2 = model.predict(X_test)\n",
    "score2=metrics.r2_score(y_test,pred2)"
   ]
  },
  {
   "cell_type": "code",
   "execution_count": 227,
   "metadata": {},
   "outputs": [
    {
     "data": {
      "text/plain": [
       "0.5077336438301311"
      ]
     },
     "execution_count": 227,
     "metadata": {},
     "output_type": "execute_result"
    }
   ],
   "source": [
    "score2"
   ]
  },
  {
   "cell_type": "code",
   "execution_count": 228,
   "metadata": {},
   "outputs": [
    {
     "data": {
      "text/plain": [
       "Ridge(alpha=0.05, normalize=True)"
      ]
     },
     "execution_count": 228,
     "metadata": {},
     "output_type": "execute_result"
    }
   ],
   "source": [
    "from sklearn.linear_model import Ridge\n",
    "model2 = Ridge(alpha=0.05,normalize=True)\n",
    "model2.fit(X_train,y_train)"
   ]
  },
  {
   "cell_type": "code",
   "execution_count": 229,
   "metadata": {},
   "outputs": [
    {
     "data": {
      "text/plain": [
       "0.5013279468643346"
      ]
     },
     "execution_count": 229,
     "metadata": {},
     "output_type": "execute_result"
    }
   ],
   "source": [
    "pred1 = model2.predict(X_train)\n",
    "score1= metrics.r2_score(y_train,pred1)\n",
    "score1"
   ]
  },
  {
   "cell_type": "code",
   "execution_count": 230,
   "metadata": {},
   "outputs": [
    {
     "data": {
      "text/plain": [
       "0.5060201908079638"
      ]
     },
     "execution_count": 230,
     "metadata": {},
     "output_type": "execute_result"
    }
   ],
   "source": [
    "pred2 = model2.predict(X_test)\n",
    "score2=metrics.r2_score(y_test,pred2)\n",
    "score2"
   ]
  },
  {
   "cell_type": "code",
   "execution_count": 231,
   "metadata": {},
   "outputs": [
    {
     "data": {
      "text/plain": [
       "DecisionTreeRegressor(max_depth=15, min_samples_leaf=100)"
      ]
     },
     "execution_count": 231,
     "metadata": {},
     "output_type": "execute_result"
    }
   ],
   "source": [
    "from sklearn.tree import DecisionTreeRegressor\n",
    "dt = DecisionTreeRegressor(max_depth=15, min_samples_leaf=100)\n",
    "dt.fit(X_train,y_train)"
   ]
  },
  {
   "cell_type": "code",
   "execution_count": 232,
   "metadata": {},
   "outputs": [
    {
     "data": {
      "text/plain": [
       "0.6154319638089591"
      ]
     },
     "execution_count": 232,
     "metadata": {},
     "output_type": "execute_result"
    }
   ],
   "source": [
    "pred1 = dt.predict(X_train)\n",
    "score1= metrics.r2_score(y_train,pred1)\n",
    "score1"
   ]
  },
  {
   "cell_type": "code",
   "execution_count": 233,
   "metadata": {},
   "outputs": [
    {
     "data": {
      "text/plain": [
       "0.5843972557626876"
      ]
     },
     "execution_count": 233,
     "metadata": {},
     "output_type": "execute_result"
    }
   ],
   "source": [
    "pred2 = dt.predict(X_test)\n",
    "score2=metrics.r2_score(y_test,pred2)\n",
    "score2"
   ]
  },
  {
   "cell_type": "code",
   "execution_count": 234,
   "metadata": {},
   "outputs": [
    {
     "data": {
      "text/plain": [
       "DecisionTreeRegressor(max_depth=8, min_samples_leaf=150)"
      ]
     },
     "execution_count": 234,
     "metadata": {},
     "output_type": "execute_result"
    }
   ],
   "source": [
    "dt2 = DecisionTreeRegressor(max_depth=8, min_samples_leaf=150)\n",
    "dt2.fit(X_train,y_train)"
   ]
  },
  {
   "cell_type": "code",
   "execution_count": 235,
   "metadata": {},
   "outputs": [
    {
     "data": {
      "text/plain": [
       "0.6050355080397927"
      ]
     },
     "execution_count": 235,
     "metadata": {},
     "output_type": "execute_result"
    }
   ],
   "source": [
    "pred1 = dt2.predict(X_train)\n",
    "score1= metrics.r2_score(y_train,pred1)\n",
    "score1"
   ]
  },
  {
   "cell_type": "code",
   "execution_count": 236,
   "metadata": {},
   "outputs": [
    {
     "data": {
      "text/plain": [
       "0.5840520828216506"
      ]
     },
     "execution_count": 236,
     "metadata": {},
     "output_type": "execute_result"
    }
   ],
   "source": [
    "pred2 = dt2.predict(X_test)\n",
    "score2=metrics.r2_score(y_test,pred2)\n",
    "score2"
   ]
  },
  {
   "cell_type": "code",
   "execution_count": 238,
   "metadata": {},
   "outputs": [
    {
     "data": {
      "text/plain": [
       "RandomForestRegressor(max_depth=5, min_samples_leaf=100, n_estimators=200,\n",
       "                      n_jobs=4)"
      ]
     },
     "execution_count": 238,
     "metadata": {},
     "output_type": "execute_result"
    }
   ],
   "source": [
    "from sklearn.ensemble import RandomForestRegressor\n",
    "rf = RandomForestRegressor(n_estimators=200,max_depth=5, min_samples_leaf=100,n_jobs=4)\n",
    "rf.fit(X_train,y_train)"
   ]
  },
  {
   "cell_type": "code",
   "execution_count": 239,
   "metadata": {},
   "outputs": [
    {
     "data": {
      "text/plain": [
       "0.6047787456389379"
      ]
     },
     "execution_count": 239,
     "metadata": {},
     "output_type": "execute_result"
    }
   ],
   "source": [
    "pred1 = rf.predict(X_train)\n",
    "score1= metrics.r2_score(y_train,pred1)\n",
    "score1"
   ]
  },
  {
   "cell_type": "code",
   "execution_count": 240,
   "metadata": {},
   "outputs": [
    {
     "data": {
      "text/plain": [
       "0.590361370495059"
      ]
     },
     "execution_count": 240,
     "metadata": {},
     "output_type": "execute_result"
    }
   ],
   "source": [
    "pred2 = rf.predict(X_test)\n",
    "score2=metrics.r2_score(y_test,pred2)\n",
    "score2"
   ]
  },
  {
   "cell_type": "code",
   "execution_count": 241,
   "metadata": {},
   "outputs": [
    {
     "data": {
      "text/plain": [
       "RandomForestRegressor(max_depth=6, min_samples_leaf=100, n_estimators=400,\n",
       "                      n_jobs=4)"
      ]
     },
     "execution_count": 241,
     "metadata": {},
     "output_type": "execute_result"
    }
   ],
   "source": [
    "rf2 = RandomForestRegressor(n_estimators=400,max_depth=6, min_samples_leaf=100,n_jobs=4)\n",
    "rf2.fit(X_train,y_train)"
   ]
  },
  {
   "cell_type": "code",
   "execution_count": 242,
   "metadata": {},
   "outputs": [
    {
     "data": {
      "text/plain": [
       "0.6086756687375783"
      ]
     },
     "execution_count": 242,
     "metadata": {},
     "output_type": "execute_result"
    }
   ],
   "source": [
    "pred1 = rf2.predict(X_train)\n",
    "score1= metrics.r2_score(y_train,pred1)\n",
    "score1"
   ]
  },
  {
   "cell_type": "code",
   "execution_count": 243,
   "metadata": {},
   "outputs": [
    {
     "data": {
      "text/plain": [
       "0.5909184595152353"
      ]
     },
     "execution_count": 243,
     "metadata": {},
     "output_type": "execute_result"
    }
   ],
   "source": [
    "pred2 = rf2.predict(X_test)\n",
    "score2=metrics.r2_score(y_test,pred2)\n",
    "score2"
   ]
  },
  {
   "cell_type": "code",
   "execution_count": null,
   "metadata": {},
   "outputs": [],
   "source": []
  }
 ],
 "metadata": {
  "kernelspec": {
   "display_name": "Python 3",
   "language": "python",
   "name": "python3"
  },
  "language_info": {
   "codemirror_mode": {
    "name": "ipython",
    "version": 3
   },
   "file_extension": ".py",
   "mimetype": "text/x-python",
   "name": "python",
   "nbconvert_exporter": "python",
   "pygments_lexer": "ipython3",
   "version": "3.8.5"
  }
 },
 "nbformat": 4,
 "nbformat_minor": 4
}
